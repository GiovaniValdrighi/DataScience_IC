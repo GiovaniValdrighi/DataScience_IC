{
 "cells": [
  {
   "cell_type": "code",
   "execution_count": 2,
   "metadata": {},
   "outputs": [],
   "source": [
    "%matplotlib inline\n",
    "import numpy as np\n",
    "import pandas as pd\n",
    "#para plot\n",
    "import matplotlib.pyplot as plt\n",
    "import seaborn as sns\n",
    "sns.set_style('whitegrid')\n",
    "sns.set_context('poster')\n",
    "from matplotlib import rcParams\n",
    "#para modelagem\n",
    "import scipy.stats as stats\n",
    "import sklearn\n",
    "import statsmodels.api as sm"
   ]
  },
  {
   "cell_type": "code",
   "execution_count": 3,
   "metadata": {},
   "outputs": [],
   "source": [
    "from sklearn.datasets import load_boston\n",
    "boston = load_boston()"
   ]
  },
  {
   "cell_type": "code",
   "execution_count": 8,
   "metadata": {},
   "outputs": [
    {
     "data": {
      "text/html": [
       "<div>\n",
       "<style scoped>\n",
       "    .dataframe tbody tr th:only-of-type {\n",
       "        vertical-align: middle;\n",
       "    }\n",
       "\n",
       "    .dataframe tbody tr th {\n",
       "        vertical-align: top;\n",
       "    }\n",
       "\n",
       "    .dataframe thead th {\n",
       "        text-align: right;\n",
       "    }\n",
       "</style>\n",
       "<table border=\"1\" class=\"dataframe\">\n",
       "  <thead>\n",
       "    <tr style=\"text-align: right;\">\n",
       "      <th></th>\n",
       "      <th>CRIM</th>\n",
       "      <th>ZN</th>\n",
       "      <th>INDUS</th>\n",
       "      <th>CHAS</th>\n",
       "      <th>NOX</th>\n",
       "      <th>RM</th>\n",
       "      <th>AGE</th>\n",
       "      <th>DIS</th>\n",
       "      <th>RAD</th>\n",
       "      <th>TAX</th>\n",
       "      <th>PTRATIO</th>\n",
       "      <th>B</th>\n",
       "      <th>LSTAT</th>\n",
       "      <th>PRICE</th>\n",
       "    </tr>\n",
       "  </thead>\n",
       "  <tbody>\n",
       "    <tr>\n",
       "      <th>0</th>\n",
       "      <td>0.00632</td>\n",
       "      <td>18.0</td>\n",
       "      <td>2.31</td>\n",
       "      <td>0.0</td>\n",
       "      <td>0.538</td>\n",
       "      <td>6.575</td>\n",
       "      <td>65.2</td>\n",
       "      <td>4.0900</td>\n",
       "      <td>1.0</td>\n",
       "      <td>296.0</td>\n",
       "      <td>15.3</td>\n",
       "      <td>396.90</td>\n",
       "      <td>4.98</td>\n",
       "      <td>24.0</td>\n",
       "    </tr>\n",
       "    <tr>\n",
       "      <th>1</th>\n",
       "      <td>0.02731</td>\n",
       "      <td>0.0</td>\n",
       "      <td>7.07</td>\n",
       "      <td>0.0</td>\n",
       "      <td>0.469</td>\n",
       "      <td>6.421</td>\n",
       "      <td>78.9</td>\n",
       "      <td>4.9671</td>\n",
       "      <td>2.0</td>\n",
       "      <td>242.0</td>\n",
       "      <td>17.8</td>\n",
       "      <td>396.90</td>\n",
       "      <td>9.14</td>\n",
       "      <td>21.6</td>\n",
       "    </tr>\n",
       "    <tr>\n",
       "      <th>2</th>\n",
       "      <td>0.02729</td>\n",
       "      <td>0.0</td>\n",
       "      <td>7.07</td>\n",
       "      <td>0.0</td>\n",
       "      <td>0.469</td>\n",
       "      <td>7.185</td>\n",
       "      <td>61.1</td>\n",
       "      <td>4.9671</td>\n",
       "      <td>2.0</td>\n",
       "      <td>242.0</td>\n",
       "      <td>17.8</td>\n",
       "      <td>392.83</td>\n",
       "      <td>4.03</td>\n",
       "      <td>34.7</td>\n",
       "    </tr>\n",
       "    <tr>\n",
       "      <th>3</th>\n",
       "      <td>0.03237</td>\n",
       "      <td>0.0</td>\n",
       "      <td>2.18</td>\n",
       "      <td>0.0</td>\n",
       "      <td>0.458</td>\n",
       "      <td>6.998</td>\n",
       "      <td>45.8</td>\n",
       "      <td>6.0622</td>\n",
       "      <td>3.0</td>\n",
       "      <td>222.0</td>\n",
       "      <td>18.7</td>\n",
       "      <td>394.63</td>\n",
       "      <td>2.94</td>\n",
       "      <td>33.4</td>\n",
       "    </tr>\n",
       "    <tr>\n",
       "      <th>4</th>\n",
       "      <td>0.06905</td>\n",
       "      <td>0.0</td>\n",
       "      <td>2.18</td>\n",
       "      <td>0.0</td>\n",
       "      <td>0.458</td>\n",
       "      <td>7.147</td>\n",
       "      <td>54.2</td>\n",
       "      <td>6.0622</td>\n",
       "      <td>3.0</td>\n",
       "      <td>222.0</td>\n",
       "      <td>18.7</td>\n",
       "      <td>396.90</td>\n",
       "      <td>5.33</td>\n",
       "      <td>36.2</td>\n",
       "    </tr>\n",
       "  </tbody>\n",
       "</table>\n",
       "</div>"
      ],
      "text/plain": [
       "      CRIM    ZN  INDUS  CHAS    NOX     RM   AGE     DIS  RAD    TAX  \\\n",
       "0  0.00632  18.0   2.31   0.0  0.538  6.575  65.2  4.0900  1.0  296.0   \n",
       "1  0.02731   0.0   7.07   0.0  0.469  6.421  78.9  4.9671  2.0  242.0   \n",
       "2  0.02729   0.0   7.07   0.0  0.469  7.185  61.1  4.9671  2.0  242.0   \n",
       "3  0.03237   0.0   2.18   0.0  0.458  6.998  45.8  6.0622  3.0  222.0   \n",
       "4  0.06905   0.0   2.18   0.0  0.458  7.147  54.2  6.0622  3.0  222.0   \n",
       "\n",
       "   PTRATIO       B  LSTAT  PRICE  \n",
       "0     15.3  396.90   4.98   24.0  \n",
       "1     17.8  396.90   9.14   21.6  \n",
       "2     17.8  392.83   4.03   34.7  \n",
       "3     18.7  394.63   2.94   33.4  \n",
       "4     18.7  396.90   5.33   36.2  "
      ]
     },
     "execution_count": 8,
     "metadata": {},
     "output_type": "execute_result"
    }
   ],
   "source": [
    "bos = pd.DataFrame(boston.data)\n",
    "bos.columns = boston.feature_names\n",
    "bos['PRICE'] = boston.target\n",
    "bos.head()"
   ]
  },
  {
   "cell_type": "code",
   "execution_count": 10,
   "metadata": {},
   "outputs": [
    {
     "data": {
      "text/html": [
       "<div>\n",
       "<style scoped>\n",
       "    .dataframe tbody tr th:only-of-type {\n",
       "        vertical-align: middle;\n",
       "    }\n",
       "\n",
       "    .dataframe tbody tr th {\n",
       "        vertical-align: top;\n",
       "    }\n",
       "\n",
       "    .dataframe thead th {\n",
       "        text-align: right;\n",
       "    }\n",
       "</style>\n",
       "<table border=\"1\" class=\"dataframe\">\n",
       "  <thead>\n",
       "    <tr style=\"text-align: right;\">\n",
       "      <th></th>\n",
       "      <th>Unnamed: 0</th>\n",
       "      <th>NO_MUNICIPIO_RESIDENCIA</th>\n",
       "      <th>NU_IDADE</th>\n",
       "      <th>TP_SEXO</th>\n",
       "      <th>TP_COR_RACA</th>\n",
       "      <th>TP_ST_CONCLUSAO</th>\n",
       "      <th>TP_ANO_CONCLUIU</th>\n",
       "      <th>TP_ESCOLA</th>\n",
       "      <th>IN_TREINEIRO</th>\n",
       "      <th>TP_DEPENDENCIA_ADM_ESC</th>\n",
       "      <th>NU_NOTA_CN</th>\n",
       "      <th>NU_NOTA_CH</th>\n",
       "      <th>NU_NOTA_LC</th>\n",
       "      <th>NU_NOTA_MT</th>\n",
       "      <th>NU_NOTA_REDACAO</th>\n",
       "    </tr>\n",
       "  </thead>\n",
       "  <tbody>\n",
       "    <tr>\n",
       "      <th>0</th>\n",
       "      <td>0</td>\n",
       "      <td>Araraquara</td>\n",
       "      <td>29.0</td>\n",
       "      <td>F</td>\n",
       "      <td>1</td>\n",
       "      <td>1</td>\n",
       "      <td>11</td>\n",
       "      <td>1</td>\n",
       "      <td>0</td>\n",
       "      <td>NaN</td>\n",
       "      <td>445.4</td>\n",
       "      <td>589.0</td>\n",
       "      <td>621.5</td>\n",
       "      <td>465.5</td>\n",
       "      <td>560.0</td>\n",
       "    </tr>\n",
       "    <tr>\n",
       "      <th>1</th>\n",
       "      <td>21</td>\n",
       "      <td>Diadema</td>\n",
       "      <td>19.0</td>\n",
       "      <td>F</td>\n",
       "      <td>1</td>\n",
       "      <td>1</td>\n",
       "      <td>2</td>\n",
       "      <td>1</td>\n",
       "      <td>0</td>\n",
       "      <td>NaN</td>\n",
       "      <td>402.9</td>\n",
       "      <td>447.6</td>\n",
       "      <td>537.3</td>\n",
       "      <td>425.5</td>\n",
       "      <td>640.0</td>\n",
       "    </tr>\n",
       "    <tr>\n",
       "      <th>2</th>\n",
       "      <td>25</td>\n",
       "      <td>Santa Fé do Sul</td>\n",
       "      <td>24.0</td>\n",
       "      <td>M</td>\n",
       "      <td>1</td>\n",
       "      <td>1</td>\n",
       "      <td>7</td>\n",
       "      <td>1</td>\n",
       "      <td>0</td>\n",
       "      <td>NaN</td>\n",
       "      <td>706.5</td>\n",
       "      <td>709.9</td>\n",
       "      <td>625.1</td>\n",
       "      <td>769.1</td>\n",
       "      <td>620.0</td>\n",
       "    </tr>\n",
       "    <tr>\n",
       "      <th>3</th>\n",
       "      <td>32</td>\n",
       "      <td>São Paulo</td>\n",
       "      <td>28.0</td>\n",
       "      <td>F</td>\n",
       "      <td>2</td>\n",
       "      <td>1</td>\n",
       "      <td>11</td>\n",
       "      <td>1</td>\n",
       "      <td>0</td>\n",
       "      <td>NaN</td>\n",
       "      <td>631.1</td>\n",
       "      <td>609.7</td>\n",
       "      <td>596.1</td>\n",
       "      <td>535.5</td>\n",
       "      <td>720.0</td>\n",
       "    </tr>\n",
       "    <tr>\n",
       "      <th>4</th>\n",
       "      <td>45</td>\n",
       "      <td>São Paulo</td>\n",
       "      <td>18.0</td>\n",
       "      <td>F</td>\n",
       "      <td>1</td>\n",
       "      <td>1</td>\n",
       "      <td>1</td>\n",
       "      <td>1</td>\n",
       "      <td>0</td>\n",
       "      <td>NaN</td>\n",
       "      <td>685.2</td>\n",
       "      <td>719.2</td>\n",
       "      <td>619.4</td>\n",
       "      <td>799.6</td>\n",
       "      <td>800.0</td>\n",
       "    </tr>\n",
       "  </tbody>\n",
       "</table>\n",
       "</div>"
      ],
      "text/plain": [
       "   Unnamed: 0 NO_MUNICIPIO_RESIDENCIA  NU_IDADE TP_SEXO  TP_COR_RACA  \\\n",
       "0           0              Araraquara      29.0       F            1   \n",
       "1          21                 Diadema      19.0       F            1   \n",
       "2          25         Santa Fé do Sul      24.0       M            1   \n",
       "3          32               São Paulo      28.0       F            2   \n",
       "4          45               São Paulo      18.0       F            1   \n",
       "\n",
       "   TP_ST_CONCLUSAO  TP_ANO_CONCLUIU  TP_ESCOLA  IN_TREINEIRO  \\\n",
       "0                1               11          1             0   \n",
       "1                1                2          1             0   \n",
       "2                1                7          1             0   \n",
       "3                1               11          1             0   \n",
       "4                1                1          1             0   \n",
       "\n",
       "   TP_DEPENDENCIA_ADM_ESC  NU_NOTA_CN  NU_NOTA_CH  NU_NOTA_LC  NU_NOTA_MT  \\\n",
       "0                     NaN       445.4       589.0       621.5       465.5   \n",
       "1                     NaN       402.9       447.6       537.3       425.5   \n",
       "2                     NaN       706.5       709.9       625.1       769.1   \n",
       "3                     NaN       631.1       609.7       596.1       535.5   \n",
       "4                     NaN       685.2       719.2       619.4       799.6   \n",
       "\n",
       "   NU_NOTA_REDACAO  \n",
       "0            560.0  \n",
       "1            640.0  \n",
       "2            620.0  \n",
       "3            720.0  \n",
       "4            800.0  "
      ]
     },
     "execution_count": 10,
     "metadata": {},
     "output_type": "execute_result"
    }
   ],
   "source": [
    "enemsp = pd.read_csv('dadosSP.csv')\n",
    "enemsp.head()"
   ]
  },
  {
   "cell_type": "code",
   "execution_count": 30,
   "metadata": {},
   "outputs": [
    {
     "data": {
      "text/html": [
       "<div>\n",
       "<style scoped>\n",
       "    .dataframe tbody tr th:only-of-type {\n",
       "        vertical-align: middle;\n",
       "    }\n",
       "\n",
       "    .dataframe tbody tr th {\n",
       "        vertical-align: top;\n",
       "    }\n",
       "\n",
       "    .dataframe thead th {\n",
       "        text-align: right;\n",
       "    }\n",
       "</style>\n",
       "<table border=\"1\" class=\"dataframe\">\n",
       "  <thead>\n",
       "    <tr style=\"text-align: right;\">\n",
       "      <th></th>\n",
       "      <th>Unnamed: 0</th>\n",
       "      <th>NO_MUNICIPIO_RESIDENCIA</th>\n",
       "      <th>NU_IDADE</th>\n",
       "      <th>TP_SEXO</th>\n",
       "      <th>TP_COR_RACA</th>\n",
       "      <th>TP_ST_CONCLUSAO</th>\n",
       "      <th>TP_ANO_CONCLUIU</th>\n",
       "      <th>TP_ESCOLA</th>\n",
       "      <th>IN_TREINEIRO</th>\n",
       "      <th>TP_DEPENDENCIA_ADM_ESC</th>\n",
       "      <th>NU_NOTA_CN</th>\n",
       "      <th>NU_NOTA_CH</th>\n",
       "      <th>NU_NOTA_LC</th>\n",
       "      <th>NU_NOTA_MT</th>\n",
       "      <th>NU_NOTA_REDACAO</th>\n",
       "      <th>NOTA_MED</th>\n",
       "    </tr>\n",
       "  </thead>\n",
       "  <tbody>\n",
       "    <tr>\n",
       "      <th>0</th>\n",
       "      <td>0</td>\n",
       "      <td>Araraquara</td>\n",
       "      <td>29.0</td>\n",
       "      <td>F</td>\n",
       "      <td>1</td>\n",
       "      <td>1</td>\n",
       "      <td>11</td>\n",
       "      <td>1</td>\n",
       "      <td>0</td>\n",
       "      <td>NaN</td>\n",
       "      <td>445.4</td>\n",
       "      <td>589.0</td>\n",
       "      <td>621.5</td>\n",
       "      <td>465.5</td>\n",
       "      <td>560.0</td>\n",
       "      <td>536.28</td>\n",
       "    </tr>\n",
       "    <tr>\n",
       "      <th>1</th>\n",
       "      <td>21</td>\n",
       "      <td>Diadema</td>\n",
       "      <td>19.0</td>\n",
       "      <td>F</td>\n",
       "      <td>1</td>\n",
       "      <td>1</td>\n",
       "      <td>2</td>\n",
       "      <td>1</td>\n",
       "      <td>0</td>\n",
       "      <td>NaN</td>\n",
       "      <td>402.9</td>\n",
       "      <td>447.6</td>\n",
       "      <td>537.3</td>\n",
       "      <td>425.5</td>\n",
       "      <td>640.0</td>\n",
       "      <td>490.66</td>\n",
       "    </tr>\n",
       "    <tr>\n",
       "      <th>2</th>\n",
       "      <td>25</td>\n",
       "      <td>Santa Fé do Sul</td>\n",
       "      <td>24.0</td>\n",
       "      <td>M</td>\n",
       "      <td>1</td>\n",
       "      <td>1</td>\n",
       "      <td>7</td>\n",
       "      <td>1</td>\n",
       "      <td>0</td>\n",
       "      <td>NaN</td>\n",
       "      <td>706.5</td>\n",
       "      <td>709.9</td>\n",
       "      <td>625.1</td>\n",
       "      <td>769.1</td>\n",
       "      <td>620.0</td>\n",
       "      <td>686.12</td>\n",
       "    </tr>\n",
       "    <tr>\n",
       "      <th>3</th>\n",
       "      <td>32</td>\n",
       "      <td>São Paulo</td>\n",
       "      <td>28.0</td>\n",
       "      <td>F</td>\n",
       "      <td>2</td>\n",
       "      <td>1</td>\n",
       "      <td>11</td>\n",
       "      <td>1</td>\n",
       "      <td>0</td>\n",
       "      <td>NaN</td>\n",
       "      <td>631.1</td>\n",
       "      <td>609.7</td>\n",
       "      <td>596.1</td>\n",
       "      <td>535.5</td>\n",
       "      <td>720.0</td>\n",
       "      <td>618.48</td>\n",
       "    </tr>\n",
       "    <tr>\n",
       "      <th>4</th>\n",
       "      <td>45</td>\n",
       "      <td>São Paulo</td>\n",
       "      <td>18.0</td>\n",
       "      <td>F</td>\n",
       "      <td>1</td>\n",
       "      <td>1</td>\n",
       "      <td>1</td>\n",
       "      <td>1</td>\n",
       "      <td>0</td>\n",
       "      <td>NaN</td>\n",
       "      <td>685.2</td>\n",
       "      <td>719.2</td>\n",
       "      <td>619.4</td>\n",
       "      <td>799.6</td>\n",
       "      <td>800.0</td>\n",
       "      <td>724.68</td>\n",
       "    </tr>\n",
       "  </tbody>\n",
       "</table>\n",
       "</div>"
      ],
      "text/plain": [
       "   Unnamed: 0 NO_MUNICIPIO_RESIDENCIA  NU_IDADE TP_SEXO  TP_COR_RACA  \\\n",
       "0           0              Araraquara      29.0       F            1   \n",
       "1          21                 Diadema      19.0       F            1   \n",
       "2          25         Santa Fé do Sul      24.0       M            1   \n",
       "3          32               São Paulo      28.0       F            2   \n",
       "4          45               São Paulo      18.0       F            1   \n",
       "\n",
       "   TP_ST_CONCLUSAO  TP_ANO_CONCLUIU  TP_ESCOLA  IN_TREINEIRO  \\\n",
       "0                1               11          1             0   \n",
       "1                1                2          1             0   \n",
       "2                1                7          1             0   \n",
       "3                1               11          1             0   \n",
       "4                1                1          1             0   \n",
       "\n",
       "   TP_DEPENDENCIA_ADM_ESC  NU_NOTA_CN  NU_NOTA_CH  NU_NOTA_LC  NU_NOTA_MT  \\\n",
       "0                     NaN       445.4       589.0       621.5       465.5   \n",
       "1                     NaN       402.9       447.6       537.3       425.5   \n",
       "2                     NaN       706.5       709.9       625.1       769.1   \n",
       "3                     NaN       631.1       609.7       596.1       535.5   \n",
       "4                     NaN       685.2       719.2       619.4       799.6   \n",
       "\n",
       "   NU_NOTA_REDACAO  NOTA_MED  \n",
       "0            560.0    536.28  \n",
       "1            640.0    490.66  \n",
       "2            620.0    686.12  \n",
       "3            720.0    618.48  \n",
       "4            800.0    724.68  "
      ]
     },
     "execution_count": 30,
     "metadata": {},
     "output_type": "execute_result"
    }
   ],
   "source": [
    "enemsp['NOTA_MED'] = (enemsp.NU_NOTA_CH + enemsp.NU_NOTA_CN + enemsp.NU_NOTA_LC + enemsp.NU_NOTA_MT + enemsp.NU_NOTA_REDACAO)/5\n",
    "enemsp.head()"
   ]
  },
  {
   "cell_type": "code",
   "execution_count": 38,
   "metadata": {},
   "outputs": [
    {
     "data": {
      "text/html": [
       "<div>\n",
       "<style scoped>\n",
       "    .dataframe tbody tr th:only-of-type {\n",
       "        vertical-align: middle;\n",
       "    }\n",
       "\n",
       "    .dataframe tbody tr th {\n",
       "        vertical-align: top;\n",
       "    }\n",
       "\n",
       "    .dataframe thead th {\n",
       "        text-align: right;\n",
       "    }\n",
       "</style>\n",
       "<table border=\"1\" class=\"dataframe\">\n",
       "  <thead>\n",
       "    <tr style=\"text-align: right;\">\n",
       "      <th></th>\n",
       "      <th>NO_MUNICIPIO_RESIDENCIA</th>\n",
       "      <th>NU_IDADE</th>\n",
       "      <th>TP_SEXO</th>\n",
       "      <th>TP_COR_RACA</th>\n",
       "      <th>TP_ST_CONCLUSAO</th>\n",
       "      <th>TP_ANO_CONCLUIU</th>\n",
       "      <th>TP_ESCOLA</th>\n",
       "      <th>IN_TREINEIRO</th>\n",
       "      <th>TP_DEPENDENCIA_ADM_ESC</th>\n",
       "      <th>NU_NOTA_CN</th>\n",
       "      <th>NU_NOTA_CH</th>\n",
       "      <th>NU_NOTA_LC</th>\n",
       "      <th>NU_NOTA_MT</th>\n",
       "      <th>NU_NOTA_REDACAO</th>\n",
       "      <th>NOTA_MED</th>\n",
       "    </tr>\n",
       "  </thead>\n",
       "  <tbody>\n",
       "    <tr>\n",
       "      <th>0</th>\n",
       "      <td>Araraquara</td>\n",
       "      <td>29.0</td>\n",
       "      <td>F</td>\n",
       "      <td>1</td>\n",
       "      <td>1</td>\n",
       "      <td>11</td>\n",
       "      <td>1</td>\n",
       "      <td>0</td>\n",
       "      <td>NaN</td>\n",
       "      <td>445.4</td>\n",
       "      <td>589.0</td>\n",
       "      <td>621.5</td>\n",
       "      <td>465.5</td>\n",
       "      <td>560.0</td>\n",
       "      <td>536.28</td>\n",
       "    </tr>\n",
       "    <tr>\n",
       "      <th>1</th>\n",
       "      <td>Diadema</td>\n",
       "      <td>19.0</td>\n",
       "      <td>F</td>\n",
       "      <td>1</td>\n",
       "      <td>1</td>\n",
       "      <td>2</td>\n",
       "      <td>1</td>\n",
       "      <td>0</td>\n",
       "      <td>NaN</td>\n",
       "      <td>402.9</td>\n",
       "      <td>447.6</td>\n",
       "      <td>537.3</td>\n",
       "      <td>425.5</td>\n",
       "      <td>640.0</td>\n",
       "      <td>490.66</td>\n",
       "    </tr>\n",
       "    <tr>\n",
       "      <th>2</th>\n",
       "      <td>Santa Fé do Sul</td>\n",
       "      <td>24.0</td>\n",
       "      <td>M</td>\n",
       "      <td>1</td>\n",
       "      <td>1</td>\n",
       "      <td>7</td>\n",
       "      <td>1</td>\n",
       "      <td>0</td>\n",
       "      <td>NaN</td>\n",
       "      <td>706.5</td>\n",
       "      <td>709.9</td>\n",
       "      <td>625.1</td>\n",
       "      <td>769.1</td>\n",
       "      <td>620.0</td>\n",
       "      <td>686.12</td>\n",
       "    </tr>\n",
       "    <tr>\n",
       "      <th>3</th>\n",
       "      <td>São Paulo</td>\n",
       "      <td>28.0</td>\n",
       "      <td>F</td>\n",
       "      <td>2</td>\n",
       "      <td>1</td>\n",
       "      <td>11</td>\n",
       "      <td>1</td>\n",
       "      <td>0</td>\n",
       "      <td>NaN</td>\n",
       "      <td>631.1</td>\n",
       "      <td>609.7</td>\n",
       "      <td>596.1</td>\n",
       "      <td>535.5</td>\n",
       "      <td>720.0</td>\n",
       "      <td>618.48</td>\n",
       "    </tr>\n",
       "    <tr>\n",
       "      <th>4</th>\n",
       "      <td>São Paulo</td>\n",
       "      <td>18.0</td>\n",
       "      <td>F</td>\n",
       "      <td>1</td>\n",
       "      <td>1</td>\n",
       "      <td>1</td>\n",
       "      <td>1</td>\n",
       "      <td>0</td>\n",
       "      <td>NaN</td>\n",
       "      <td>685.2</td>\n",
       "      <td>719.2</td>\n",
       "      <td>619.4</td>\n",
       "      <td>799.6</td>\n",
       "      <td>800.0</td>\n",
       "      <td>724.68</td>\n",
       "    </tr>\n",
       "  </tbody>\n",
       "</table>\n",
       "</div>"
      ],
      "text/plain": [
       "  NO_MUNICIPIO_RESIDENCIA  NU_IDADE TP_SEXO  TP_COR_RACA  TP_ST_CONCLUSAO  \\\n",
       "0              Araraquara      29.0       F            1                1   \n",
       "1                 Diadema      19.0       F            1                1   \n",
       "2         Santa Fé do Sul      24.0       M            1                1   \n",
       "3               São Paulo      28.0       F            2                1   \n",
       "4               São Paulo      18.0       F            1                1   \n",
       "\n",
       "   TP_ANO_CONCLUIU  TP_ESCOLA  IN_TREINEIRO  TP_DEPENDENCIA_ADM_ESC  \\\n",
       "0               11          1             0                     NaN   \n",
       "1                2          1             0                     NaN   \n",
       "2                7          1             0                     NaN   \n",
       "3               11          1             0                     NaN   \n",
       "4                1          1             0                     NaN   \n",
       "\n",
       "   NU_NOTA_CN  NU_NOTA_CH  NU_NOTA_LC  NU_NOTA_MT  NU_NOTA_REDACAO  NOTA_MED  \n",
       "0       445.4       589.0       621.5       465.5            560.0    536.28  \n",
       "1       402.9       447.6       537.3       425.5            640.0    490.66  \n",
       "2       706.5       709.9       625.1       769.1            620.0    686.12  \n",
       "3       631.1       609.7       596.1       535.5            720.0    618.48  \n",
       "4       685.2       719.2       619.4       799.6            800.0    724.68  "
      ]
     },
     "execution_count": 38,
     "metadata": {},
     "output_type": "execute_result"
    }
   ],
   "source": [
    "enemsp.drop('Unnamed: 0', axis = 1, inplace = True)\n",
    "enemsp.head()"
   ]
  },
  {
   "cell_type": "code",
   "execution_count": 39,
   "metadata": {},
   "outputs": [
    {
     "data": {
      "text/plain": [
       "<matplotlib.collections.PathCollection at 0x7fde2b81f7f0>"
      ]
     },
     "execution_count": 39,
     "metadata": {},
     "output_type": "execute_result"
    },
    {
     "data": {
      "image/png": "[encoded data removed]",
      "text/plain": [
       "<Figure size 432x288 with 1 Axes>"
      ]
     },
     "metadata": {},
     "output_type": "display_data"
    }
   ],
   "source": [
    "plt.scatter('NU_IDADE','NOTA_MED',data=enemsp)"
   ]
  },
  {
   "cell_type": "markdown",
   "metadata": {},
   "source": [
    "Trying to fit a linear regression using the NOTA_MED as the target and using NU_IDADE to predict"
   ]
  },
  {
   "cell_type": "code",
   "execution_count": 40,
   "metadata": {},
   "outputs": [
    {
     "data": {
      "text/plain": [
       "(695684, 15)"
      ]
     },
     "execution_count": 40,
     "metadata": {},
     "output_type": "execute_result"
    }
   ],
   "source": [
    "enemsp.shape"
   ]
  },
  {
   "cell_type": "code",
   "execution_count": 42,
   "metadata": {},
   "outputs": [
    {
     "data": {
      "text/plain": [
       "275615"
      ]
     },
     "execution_count": 42,
     "metadata": {},
     "output_type": "execute_result"
    }
   ],
   "source": [
    "sum(enemsp.TP_DEPENDENCIA_ADM_ESC.value_counts())"
   ]
  },
  {
   "cell_type": "code",
   "execution_count": 45,
   "metadata": {},
   "outputs": [],
   "source": [
    "enemsp.dropna(axis=0,how='any', inplace = True)"
   ]
  },
  {
   "cell_type": "code",
   "execution_count": 46,
   "metadata": {},
   "outputs": [
    {
     "data": {
      "text/plain": [
       "(275603, 15)"
      ]
     },
     "execution_count": 46,
     "metadata": {},
     "output_type": "execute_result"
    }
   ],
   "source": [
    "enemsp.shape"
   ]
  },
  {
   "cell_type": "code",
   "execution_count": 47,
   "metadata": {},
   "outputs": [
    {
     "data": {
      "text/plain": [
       "275603"
      ]
     },
     "execution_count": 47,
     "metadata": {},
     "output_type": "execute_result"
    }
   ],
   "source": [
    "sum(enemsp.TP_DEPENDENCIA_ADM_ESC.value_counts())"
   ]
  },
  {
   "cell_type": "code",
   "execution_count": 48,
   "metadata": {},
   "outputs": [
    {
     "data": {
      "text/plain": [
       "<matplotlib.collections.PathCollection at 0x7fddf58535c0>"
      ]
     },
     "execution_count": 48,
     "metadata": {},
     "output_type": "execute_result"
    },
    {
     "data": {
      "image/png": "[encoded data removed]",
      "text/plain": [
       "<Figure size 432x288 with 1 Axes>"
      ]
     },
     "metadata": {},
     "output_type": "display_data"
    }
   ],
   "source": [
    "plt.scatter('NU_IDADE','NOTA_MED',data=enemsp)"
   ]
  },
  {
   "cell_type": "code",
   "execution_count": 52,
   "metadata": {},
   "outputs": [
    {
     "name": "stdout",
     "output_type": "stream",
     "text": [
      "                            OLS Regression Results                            \n",
      "==============================================================================\n",
      "Dep. Variable:               NOTA_MED   R-squared:                       0.015\n",
      "Model:                            OLS   Adj. R-squared:                  0.015\n",
      "Method:                 Least Squares   F-statistic:                     4272.\n",
      "Date:                Mon, 29 Apr 2019   Prob (F-statistic):               0.00\n",
      "Time:                        14:49:10   Log-Likelihood:            -1.5619e+06\n",
      "No. Observations:              275603   AIC:                         3.124e+06\n",
      "Df Residuals:                  275601   BIC:                         3.124e+06\n",
      "Df Model:                           1                                         \n",
      "Covariance Type:            nonrobust                                         \n",
      "==============================================================================\n",
      "                 coef    std err          t      P>|t|      [0.025      0.975]\n",
      "------------------------------------------------------------------------------\n",
      "Intercept    590.8390      0.879    672.129      0.000     589.116     592.562\n",
      "NU_IDADE      -3.2188      0.049    -65.360      0.000      -3.315      -3.122\n",
      "==============================================================================\n",
      "Omnibus:                     8591.925   Durbin-Watson:                   1.886\n",
      "Prob(Omnibus):                  0.000   Jarque-Bera (JB):             9420.408\n",
      "Skew:                           0.452   Prob(JB):                         0.00\n",
      "Kurtosis:                       2.957   Cond. No.                         118.\n",
      "==============================================================================\n",
      "\n",
      "Warnings:\n",
      "[1] Standard Errors assume that the covariance matrix of the errors is correctly specified.\n"
     ]
    }
   ],
   "source": [
    "import statsmodels.api as sm\n",
    "from statsmodels.formula.api import ols\n",
    "m = ols('NOTA_MED ~ NU_IDADE',enemsp).fit()\n",
    "print(m.summary())"
   ]
  },
  {
   "cell_type": "markdown",
   "metadata": {},
   "source": [
    "The R-squared was awful, implying that it isn't a linear relation"
   ]
  },
  {
   "cell_type": "code",
   "execution_count": 54,
   "metadata": {},
   "outputs": [
    {
     "data": {
      "text/plain": [
       "Text(0.5,1,'Notas vs Notas previstas: $Y_i$ vs $\\\\hat{Y}_i$')"
      ]
     },
     "execution_count": 54,
     "metadata": {},
     "output_type": "execute_result"
    },
    {
     "data": {
      "image/png": "[encoded data removed]",
      "text/plain": [
       "<Figure size 432x288 with 1 Axes>"
      ]
     },
     "metadata": {},
     "output_type": "display_data"
    }
   ],
   "source": [
    "plt.scatter(enemsp['NOTA_MED'], m.fittedvalues)\n",
    "plt.xlabel(\"Notas: $Y_i$\")\n",
    "plt.ylabel(\"Notas previstas: $\\hat{Y}_i$\")\n",
    "plt.title(\"Notas vs Notas previstas: $Y_i$ vs $\\hat{Y}_i$\")"
   ]
  },
  {
   "cell_type": "markdown",
   "metadata": {},
   "source": [
    "Trying to predict NOTA_MED using NU_NOTA_MT"
   ]
  },
  {
   "cell_type": "code",
   "execution_count": 55,
   "metadata": {},
   "outputs": [
    {
     "name": "stdout",
     "output_type": "stream",
     "text": [
      "                            OLS Regression Results                            \n",
      "==============================================================================\n",
      "Dep. Variable:               NOTA_MED   R-squared:                       0.652\n",
      "Model:                            OLS   Adj. R-squared:                  0.652\n",
      "Method:                 Least Squares   F-statistic:                 5.174e+05\n",
      "Date:                Mon, 29 Apr 2019   Prob (F-statistic):               0.00\n",
      "Time:                        14:57:10   Log-Likelihood:            -1.4184e+06\n",
      "No. Observations:              275603   AIC:                         2.837e+06\n",
      "Df Residuals:                  275601   BIC:                         2.837e+06\n",
      "Df Model:                           1                                         \n",
      "Covariance Type:            nonrobust                                         \n",
      "==============================================================================\n",
      "                 coef    std err          t      P>|t|      [0.025      0.975]\n",
      "------------------------------------------------------------------------------\n",
      "Intercept    246.3072      0.408    603.999      0.000     245.508     247.106\n",
      "NU_NOTA_MT     0.5356      0.001    719.295      0.000       0.534       0.537\n",
      "==============================================================================\n",
      "Omnibus:                      488.954   Durbin-Watson:                   1.926\n",
      "Prob(Omnibus):                  0.000   Jarque-Bera (JB):              603.655\n",
      "Skew:                          -0.009   Prob(JB):                    8.28e-132\n",
      "Kurtosis:                       3.229   Cond. No.                     2.82e+03\n",
      "==============================================================================\n",
      "\n",
      "Warnings:\n",
      "[1] Standard Errors assume that the covariance matrix of the errors is correctly specified.\n",
      "[2] The condition number is large, 2.82e+03. This might indicate that there are\n",
      "strong multicollinearity or other numerical problems.\n"
     ]
    }
   ],
   "source": [
    "p = ols('NOTA_MED ~ NU_NOTA_MT',enemsp).fit()\n",
    "print(p.summary())"
   ]
  },
  {
   "cell_type": "markdown",
   "metadata": {},
   "source": [
    "The R-squared is a little better than the previous one"
   ]
  },
  {
   "cell_type": "code",
   "execution_count": 56,
   "metadata": {},
   "outputs": [
    {
     "data": {
      "text/plain": [
       "Text(0.5,1,'Notas vs Notas previstas: $Y_i$ vs $\\\\hat{Y}_i$')"
      ]
     },
     "execution_count": 56,
     "metadata": {},
     "output_type": "execute_result"
    },
    {
     "data": {
      "image/png": "[encoded data removed]",
      "text/plain": [
       "<Figure size 432x288 with 1 Axes>"
      ]
     },
     "metadata": {},
     "output_type": "display_data"
    }
   ],
   "source": [
    "plt.scatter(enemsp['NOTA_MED'], p.fittedvalues)\n",
    "plt.xlabel(\"Notas: $Y_i$\")\n",
    "plt.ylabel(\"Notas previstas: $\\hat{Y}_i$\")\n",
    "plt.title(\"Notas vs Notas previstas: $Y_i$ vs $\\hat{Y}_i$\")"
   ]
  },
  {
   "cell_type": "markdown",
   "metadata": {},
   "source": [
    "It looks a little more, but our predictions are upper from the real notes, and we had a problem down in Nota previstas = ~150"
   ]
  },
  {
   "cell_type": "code",
   "execution_count": 59,
   "metadata": {},
   "outputs": [
    {
     "name": "stdout",
     "output_type": "stream",
     "text": [
      "                            OLS Regression Results                            \n",
      "==============================================================================\n",
      "Dep. Variable:        NU_NOTA_REDACAO   R-squared:                       0.216\n",
      "Model:                            OLS   Adj. R-squared:                  0.216\n",
      "Method:                 Least Squares   F-statistic:                 7.573e+04\n",
      "Date:                Mon, 29 Apr 2019   Prob (F-statistic):               0.00\n",
      "Time:                        15:02:05   Log-Likelihood:            -1.6752e+06\n",
      "No. Observations:              275603   AIC:                         3.350e+06\n",
      "Df Residuals:                  275601   BIC:                         3.350e+06\n",
      "Df Model:                           1                                         \n",
      "Covariance Type:            nonrobust                                         \n",
      "==============================================================================\n",
      "                 coef    std err          t      P>|t|      [0.025      0.975]\n",
      "------------------------------------------------------------------------------\n",
      "Intercept    281.9097      1.035    272.269      0.000     279.880     283.939\n",
      "NU_NOTA_MT     0.5203      0.002    275.198      0.000       0.517       0.524\n",
      "==============================================================================\n",
      "Omnibus:                     1811.238   Durbin-Watson:                   1.935\n",
      "Prob(Omnibus):                  0.000   Jarque-Bera (JB):             2231.757\n",
      "Skew:                           0.126   Prob(JB):                         0.00\n",
      "Kurtosis:                       3.361   Cond. No.                     2.82e+03\n",
      "==============================================================================\n",
      "\n",
      "Warnings:\n",
      "[1] Standard Errors assume that the covariance matrix of the errors is correctly specified.\n",
      "[2] The condition number is large, 2.82e+03. This might indicate that there are\n",
      "strong multicollinearity or other numerical problems.\n"
     ]
    }
   ],
   "source": [
    "q = ols('NU_NOTA_REDACAO ~ NU_NOTA_MT',enemsp).fit()\n",
    "print(q.summary())"
   ]
  },
  {
   "cell_type": "code",
   "execution_count": 60,
   "metadata": {},
   "outputs": [
    {
     "data": {
      "text/plain": [
       "Text(0.5,1,'Notas vs Notas previstas: $Y_i$ vs $\\\\hat{Y}_i$')"
      ]
     },
     "execution_count": 60,
     "metadata": {},
     "output_type": "execute_result"
    },
    {
     "data": {
      "image/png": "[encoded data removed]",
      "text/plain": [
       "<Figure size 432x288 with 1 Axes>"
      ]
     },
     "metadata": {},
     "output_type": "display_data"
    }
   ],
   "source": [
    "plt.scatter(enemsp['NU_NOTA_REDACAO'], q.fittedvalues)\n",
    "plt.xlabel(\"Notas: $Y_i$\")\n",
    "plt.ylabel(\"Notas previstas: $\\hat{Y}_i$\")\n",
    "plt.title(\"Notas vs Notas previstas: $Y_i$ vs $\\hat{Y}_i$\")"
   ]
  },
  {
   "cell_type": "markdown",
   "metadata": {},
   "source": [
    "Every one of our regressions had a really bad R-squared, now we gonna use the sklearn model to use a bigger quantity of independentes variables"
   ]
  },
  {
   "cell_type": "code",
   "execution_count": 61,
   "metadata": {},
   "outputs": [],
   "source": [
    "X = enemsp.drop('NOTA_MED', axis=1)"
   ]
  },
  {
   "cell_type": "code",
   "execution_count": 80,
   "metadata": {},
   "outputs": [],
   "source": [
    "from sklearn.linear_model import LinearRegression\n",
    "lm = LinearRegression()"
   ]
  },
  {
   "cell_type": "code",
   "execution_count": 81,
   "metadata": {},
   "outputs": [
    {
     "data": {
      "text/plain": [
       "LinearRegression(copy_X=True, fit_intercept=True, n_jobs=None,\n",
       "         normalize=False)"
      ]
     },
     "execution_count": 81,
     "metadata": {},
     "output_type": "execute_result"
    }
   ],
   "source": [
    "lm.fit(X[['NU_IDADE','NU_NOTA_MT','NU_NOTA_REDACAO']], enemsp.NOTA_MED)"
   ]
  },
  {
   "cell_type": "code",
   "execution_count": 82,
   "metadata": {},
   "outputs": [
    {
     "data": {
      "text/plain": [
       "0.871628962477909"
      ]
     },
     "execution_count": 82,
     "metadata": {},
     "output_type": "execute_result"
    }
   ],
   "source": [
    "lm.score(X[['NU_IDADE','NU_NOTA_MT','NU_NOTA_REDACAO']], enemsp.NOTA_MED)"
   ]
  },
  {
   "cell_type": "code",
   "execution_count": 83,
   "metadata": {},
   "outputs": [
    {
     "data": {
      "text/plain": [
       "155.6291062650422"
      ]
     },
     "execution_count": 83,
     "metadata": {},
     "output_type": "execute_result"
    }
   ],
   "source": [
    "lm.intercept_"
   ]
  },
  {
   "cell_type": "code",
   "execution_count": 84,
   "metadata": {},
   "outputs": [
    {
     "data": {
      "text/html": [
       "<div>\n",
       "<style scoped>\n",
       "    .dataframe tbody tr th:only-of-type {\n",
       "        vertical-align: middle;\n",
       "    }\n",
       "\n",
       "    .dataframe tbody tr th {\n",
       "        vertical-align: top;\n",
       "    }\n",
       "\n",
       "    .dataframe thead th {\n",
       "        text-align: right;\n",
       "    }\n",
       "</style>\n",
       "<table border=\"1\" class=\"dataframe\">\n",
       "  <thead>\n",
       "    <tr style=\"text-align: right;\">\n",
       "      <th></th>\n",
       "      <th>feature</th>\n",
       "      <th>estimated_coefficients</th>\n",
       "    </tr>\n",
       "  </thead>\n",
       "  <tbody>\n",
       "    <tr>\n",
       "      <th>0</th>\n",
       "      <td>NU_IDADE</td>\n",
       "      <td>0.127086</td>\n",
       "    </tr>\n",
       "    <tr>\n",
       "      <th>1</th>\n",
       "      <td>NU_NOTA_MT</td>\n",
       "      <td>0.373134</td>\n",
       "    </tr>\n",
       "    <tr>\n",
       "      <th>2</th>\n",
       "      <td>NU_NOTA_REDACAO</td>\n",
       "      <td>0.313013</td>\n",
       "    </tr>\n",
       "  </tbody>\n",
       "</table>\n",
       "</div>"
      ],
      "text/plain": [
       "           feature  estimated_coefficients\n",
       "0         NU_IDADE                0.127086\n",
       "1       NU_NOTA_MT                0.373134\n",
       "2  NU_NOTA_REDACAO                0.313013"
      ]
     },
     "execution_count": 84,
     "metadata": {},
     "output_type": "execute_result"
    }
   ],
   "source": [
    "pd.DataFrame({'feature':['NU_IDADE','NU_NOTA_MT','NU_NOTA_REDACAO'],'estimated_coefficients':lm.coef_},columns=['feature','estimated_coefficients'])"
   ]
  },
  {
   "cell_type": "code",
   "execution_count": 85,
   "metadata": {},
   "outputs": [
    {
     "data": {
      "text/plain": [
       "Text(0.5,1,'Notas vs Notas previstas: $Y_i$ vs $\\\\hat{Y}_i$')"
      ]
     },
     "execution_count": 85,
     "metadata": {},
     "output_type": "execute_result"
    },
    {
     "data": {
      "image/png": "[encoded data removed]",
      "text/plain": [
       "<Figure size 432x288 with 1 Axes>"
      ]
     },
     "metadata": {},
     "output_type": "display_data"
    }
   ],
   "source": [
    "plt.scatter(enemsp['NOTA_MED'], lm.predict(X[['NU_IDADE','NU_NOTA_MT','NU_NOTA_REDACAO']])[:])\n",
    "plt.xlabel(\"Notas: $Y_i$\")\n",
    "plt.ylabel(\"Notas previstas: $\\hat{Y}_i$\")\n",
    "plt.title(\"Notas vs Notas previstas: $Y_i$ vs $\\hat{Y}_i$\")"
   ]
  },
  {
   "cell_type": "code",
   "execution_count": 93,
   "metadata": {},
   "outputs": [
    {
     "data": {
      "text/plain": [
       "Index(['NO_MUNICIPIO_RESIDENCIA', 'NU_IDADE', 'TP_SEXO', 'TP_COR_RACA',\n",
       "       'TP_ST_CONCLUSAO', 'TP_ANO_CONCLUIU', 'TP_ESCOLA', 'IN_TREINEIRO',\n",
       "       'TP_DEPENDENCIA_ADM_ESC', 'NU_NOTA_CN', 'NU_NOTA_CH', 'NU_NOTA_LC',\n",
       "       'NU_NOTA_MT', 'NU_NOTA_REDACAO', 'NOTA_MED'],\n",
       "      dtype='object')"
      ]
     },
     "execution_count": 93,
     "metadata": {},
     "output_type": "execute_result"
    }
   ],
   "source": [
    "enemsp.columns"
   ]
  },
  {
   "cell_type": "code",
   "execution_count": 102,
   "metadata": {},
   "outputs": [
    {
     "data": {
      "text/plain": [
       "8         572\n",
       "10        508\n",
       "16        133\n",
       "34        638\n",
       "36        551\n",
       "38         59\n",
       "47        326\n",
       "52         70\n",
       "57        326\n",
       "60        100\n",
       "63        572\n",
       "66        572\n",
       "75        572\n",
       "86        548\n",
       "87        556\n",
       "92        459\n",
       "93        638\n",
       "99        555\n",
       "101       100\n",
       "107       572\n",
       "109       467\n",
       "116       598\n",
       "117       572\n",
       "118       381\n",
       "120       582\n",
       "121       146\n",
       "125       111\n",
       "129       572\n",
       "130       427\n",
       "133       572\n",
       "         ... \n",
       "695605    550\n",
       "695619     55\n",
       "695622    256\n",
       "695624    554\n",
       "695626    635\n",
       "695627    427\n",
       "695630    485\n",
       "695632    134\n",
       "695636    572\n",
       "695637    575\n",
       "695641    572\n",
       "695643    572\n",
       "695645    204\n",
       "695646    572\n",
       "695649    324\n",
       "695653    326\n",
       "695654    572\n",
       "695655    204\n",
       "695657    450\n",
       "695658    135\n",
       "695660    572\n",
       "695663    181\n",
       "695664    250\n",
       "695670    572\n",
       "695671    146\n",
       "695677    572\n",
       "695678    572\n",
       "695680    381\n",
       "695681    381\n",
       "695683    572\n",
       "Length: 275603, dtype: int16"
      ]
     },
     "execution_count": 102,
     "metadata": {},
     "output_type": "execute_result"
    }
   ],
   "source": [
    "enemsp.NO_MUNICIPIO_RESIDENCIA.astype(\"category\").cat.codes"
   ]
  },
  {
   "cell_type": "code",
   "execution_count": 98,
   "metadata": {},
   "outputs": [
    {
     "data": {
      "text/html": [
       "<div>\n",
       "<style scoped>\n",
       "    .dataframe tbody tr th:only-of-type {\n",
       "        vertical-align: middle;\n",
       "    }\n",
       "\n",
       "    .dataframe tbody tr th {\n",
       "        vertical-align: top;\n",
       "    }\n",
       "\n",
       "    .dataframe thead th {\n",
       "        text-align: right;\n",
       "    }\n",
       "</style>\n",
       "<table border=\"1\" class=\"dataframe\">\n",
       "  <thead>\n",
       "    <tr style=\"text-align: right;\">\n",
       "      <th></th>\n",
       "      <th>NO_MUNICIPIO_RESIDENCIA</th>\n",
       "      <th>NU_IDADE</th>\n",
       "      <th>TP_SEXO</th>\n",
       "      <th>TP_COR_RACA</th>\n",
       "      <th>TP_ST_CONCLUSAO</th>\n",
       "      <th>TP_ANO_CONCLUIU</th>\n",
       "      <th>TP_ESCOLA</th>\n",
       "      <th>IN_TREINEIRO</th>\n",
       "      <th>TP_DEPENDENCIA_ADM_ESC</th>\n",
       "      <th>NU_NOTA_CN</th>\n",
       "      <th>NU_NOTA_CH</th>\n",
       "      <th>NU_NOTA_LC</th>\n",
       "      <th>NU_NOTA_MT</th>\n",
       "      <th>NU_NOTA_REDACAO</th>\n",
       "      <th>NOTA_MED</th>\n",
       "    </tr>\n",
       "  </thead>\n",
       "  <tbody>\n",
       "    <tr>\n",
       "      <th>8</th>\n",
       "      <td>São Paulo</td>\n",
       "      <td>17.0</td>\n",
       "      <td>F</td>\n",
       "      <td>3</td>\n",
       "      <td>2</td>\n",
       "      <td>0</td>\n",
       "      <td>2</td>\n",
       "      <td>0</td>\n",
       "      <td>2.0</td>\n",
       "      <td>452.8</td>\n",
       "      <td>451.3</td>\n",
       "      <td>529.1</td>\n",
       "      <td>439.1</td>\n",
       "      <td>520.0</td>\n",
       "      <td>478.46</td>\n",
       "    </tr>\n",
       "    <tr>\n",
       "      <th>10</th>\n",
       "      <td>Santa Bárbara d'Oeste</td>\n",
       "      <td>18.0</td>\n",
       "      <td>F</td>\n",
       "      <td>2</td>\n",
       "      <td>2</td>\n",
       "      <td>0</td>\n",
       "      <td>2</td>\n",
       "      <td>0</td>\n",
       "      <td>2.0</td>\n",
       "      <td>496.0</td>\n",
       "      <td>484.3</td>\n",
       "      <td>515.7</td>\n",
       "      <td>531.8</td>\n",
       "      <td>520.0</td>\n",
       "      <td>509.56</td>\n",
       "    </tr>\n",
       "    <tr>\n",
       "      <th>16</th>\n",
       "      <td>Cosmorama</td>\n",
       "      <td>17.0</td>\n",
       "      <td>M</td>\n",
       "      <td>2</td>\n",
       "      <td>2</td>\n",
       "      <td>0</td>\n",
       "      <td>2</td>\n",
       "      <td>0</td>\n",
       "      <td>2.0</td>\n",
       "      <td>580.5</td>\n",
       "      <td>650.1</td>\n",
       "      <td>597.1</td>\n",
       "      <td>600.2</td>\n",
       "      <td>500.0</td>\n",
       "      <td>585.58</td>\n",
       "    </tr>\n",
       "    <tr>\n",
       "      <th>34</th>\n",
       "      <td>Águas de Lindóia</td>\n",
       "      <td>17.0</td>\n",
       "      <td>F</td>\n",
       "      <td>1</td>\n",
       "      <td>2</td>\n",
       "      <td>0</td>\n",
       "      <td>3</td>\n",
       "      <td>0</td>\n",
       "      <td>4.0</td>\n",
       "      <td>656.7</td>\n",
       "      <td>669.7</td>\n",
       "      <td>667.9</td>\n",
       "      <td>686.2</td>\n",
       "      <td>800.0</td>\n",
       "      <td>696.10</td>\n",
       "    </tr>\n",
       "    <tr>\n",
       "      <th>36</th>\n",
       "      <td>Suzano</td>\n",
       "      <td>17.0</td>\n",
       "      <td>M</td>\n",
       "      <td>1</td>\n",
       "      <td>2</td>\n",
       "      <td>0</td>\n",
       "      <td>2</td>\n",
       "      <td>0</td>\n",
       "      <td>2.0</td>\n",
       "      <td>674.3</td>\n",
       "      <td>628.5</td>\n",
       "      <td>569.1</td>\n",
       "      <td>664.1</td>\n",
       "      <td>700.0</td>\n",
       "      <td>647.20</td>\n",
       "    </tr>\n",
       "  </tbody>\n",
       "</table>\n",
       "</div>"
      ],
      "text/plain": [
       "   NO_MUNICIPIO_RESIDENCIA  NU_IDADE TP_SEXO  TP_COR_RACA  TP_ST_CONCLUSAO  \\\n",
       "8                São Paulo      17.0       F            3                2   \n",
       "10   Santa Bárbara d'Oeste      18.0       F            2                2   \n",
       "16               Cosmorama      17.0       M            2                2   \n",
       "34        Águas de Lindóia      17.0       F            1                2   \n",
       "36                  Suzano      17.0       M            1                2   \n",
       "\n",
       "    TP_ANO_CONCLUIU  TP_ESCOLA  IN_TREINEIRO  TP_DEPENDENCIA_ADM_ESC  \\\n",
       "8                 0          2             0                     2.0   \n",
       "10                0          2             0                     2.0   \n",
       "16                0          2             0                     2.0   \n",
       "34                0          3             0                     4.0   \n",
       "36                0          2             0                     2.0   \n",
       "\n",
       "    NU_NOTA_CN  NU_NOTA_CH  NU_NOTA_LC  NU_NOTA_MT  NU_NOTA_REDACAO  NOTA_MED  \n",
       "8        452.8       451.3       529.1       439.1            520.0    478.46  \n",
       "10       496.0       484.3       515.7       531.8            520.0    509.56  \n",
       "16       580.5       650.1       597.1       600.2            500.0    585.58  \n",
       "34       656.7       669.7       667.9       686.2            800.0    696.10  \n",
       "36       674.3       628.5       569.1       664.1            700.0    647.20  "
      ]
     },
     "execution_count": 98,
     "metadata": {},
     "output_type": "execute_result"
    }
   ],
   "source": [
    "enemsp.head()"
   ]
  },
  {
   "cell_type": "code",
   "execution_count": 107,
   "metadata": {},
   "outputs": [
    {
     "data": {
      "text/plain": [
       "0.25296594875052636"
      ]
     },
     "execution_count": 107,
     "metadata": {},
     "output_type": "execute_result"
    }
   ],
   "source": [
    "lm1 = LinearRegression()\n",
    "lm1.fit(X[['NU_IDADE', 'TP_COR_RACA',\n",
    "       'TP_ST_CONCLUSAO', 'TP_ANO_CONCLUIU', 'TP_ESCOLA', 'IN_TREINEIRO',\n",
    "       'TP_DEPENDENCIA_ADM_ESC']], enemsp.NOTA_MED)\n",
    "lm1.score(X[['NU_IDADE', 'TP_COR_RACA',\n",
    "       'TP_ST_CONCLUSAO', 'TP_ANO_CONCLUIU', 'TP_ESCOLA', 'IN_TREINEIRO',\n",
    "       'TP_DEPENDENCIA_ADM_ESC']], enemsp.NOTA_MED)"
   ]
  },
  {
   "cell_type": "code",
   "execution_count": null,
   "metadata": {},
   "outputs": [],
   "source": []
  }
 ],
 "metadata": {
  "kernelspec": {
   "display_name": "Python 3",
   "language": "python",
   "name": "python3"
  },
  "language_info": {
   "codemirror_mode": {
    "name": "ipython",
    "version": 3
   },
   "file_extension": ".py",
   "mimetype": "text/x-python",
   "name": "python",
   "nbconvert_exporter": "python",
   "pygments_lexer": "ipython3",
   "version": "3.5.2"
  }
 },
 "nbformat": 4,
 "nbformat_minor": 2
}
