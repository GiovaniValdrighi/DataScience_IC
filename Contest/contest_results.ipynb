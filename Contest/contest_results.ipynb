{
 "cells": [
  {
   "cell_type": "markdown",
   "metadata": {},
   "source": [
    "## Resultados"
   ]
  },
  {
   "cell_type": "markdown",
   "metadata": {},
   "source": [
    "Neste notebook irei sumarizar algum dos resultados obtidos com o trabalho com os dados Contest oferecidos no Data Science Bootcamp da FGV.\n",
    "\n",
    "A primeira etapa do processo foi a leitura dos dados, para compreender as informações que as tabelas contém li o que cada coluna representava e vi em que situações os dados foram coletados. Estamos tratando com 3 tabelas de dados distintas: \"dados escolares\", \"esc_rmsp\" e \"rendimento\". Nosso valor a ser previsto, a tabela \"notas\" contém 1243 escolas distintas do estado de São Paulo, cada uma contendo uma avaliação que vai de 0 a 4, sendo 0 a nota mínima e 4 a nota máxima.\n",
    "\n",
    "No entanto, pela forma em que os dados foram coletados, as tabelas apresentam uma grande quantidade de valores ausentes, ou não preenchidos (null) ou como 0, com colunas que chegam até ter 90% dos dados ausentes, portanto, apesar da grande quantidade de linhas e de colunas, as tabelas não apresentam uma quantidade de dados desejável. \n",
    "\n",
    "Nesse primeiro treinamento de modelos, as colunas foram escolhidas com base em meu conhecimento prévio sobre educação, dando valor para número de funcionários, número de alunos, número de salas, dependência da escola, resultado de avaliações aplicadas no últimos anos do fundamental I e II, e etc. O número de colunas escolhidas para cada uma das tabelas varia entre 12 a 20.\n",
    "\n",
    "Temos alguns resultados a ser listados:\n",
    "\n",
    "- tabela __\"dados escolares\"__:\n",
    "    - modelo __SVM__: R² = 0,697\n",
    "    - modelo __SVR__ (classes balanceadas): R² = 0,597\n",
    "    - modelo __linear__: R² = 0,409\n",
    "    - modelo __linear__(classes balanceadas): R² = 0,566\n",
    "- tabela __\"esc_rmsp\"__:\n",
    "    - modelo __linear__: R² = 0,501\n",
    "    - modelo __SVM__: R² = 0,719\n",
    "\n",
    "A próxima etapa do treinamento de modelos ocorre através de técnicas para a escolha das variáveis, utilizaremos os métodos recursivo, com a função SelectKBest e utilizando Ridge e Lasso. Com o método recursivo obtvemos os resultados:\n",
    "\n",
    "- tabela __\"dados escolares\"__: R² = 0,445\n",
    "- tabela __\"esc_rmsp\"__: R² = 0,527\n",
    "- tabela __\"rendimento\"__: R² = 0,332\n",
    "- tabela união de __\"dados_escolares\"__ e __\"rendimento\"__: R² = 0,498\n",
    "- tabela união de __\"dados_escolares\"__ e __\"esc_rmsp\"__: R² = 0,434\n",
    "\n",
    "O método SelectKBest foi treinado apenas com os dados da tabela __\"dados escolares\"__ e obteve os seguintes resultados:\n",
    "\n",
    "- função __f regression__: R² = 0,288\n",
    "- função __chi 2__: R² = 0,446\n",
    "\n"
   ]
  },
  {
   "cell_type": "code",
   "execution_count": null,
   "metadata": {},
   "outputs": [],
   "source": []
  }
 ],
 "metadata": {
  "kernelspec": {
   "display_name": "Python 3",
   "language": "python",
   "name": "python3"
  },
  "language_info": {
   "codemirror_mode": {
    "name": "ipython",
    "version": 3
   },
   "file_extension": ".py",
   "mimetype": "text/x-python",
   "name": "python",
   "nbconvert_exporter": "python",
   "pygments_lexer": "ipython3",
   "version": "3.7.3"
  }
 },
 "nbformat": 4,
 "nbformat_minor": 2
}
