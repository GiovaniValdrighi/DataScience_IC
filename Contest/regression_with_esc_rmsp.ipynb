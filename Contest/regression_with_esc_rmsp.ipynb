{
 "cells": [
  {
   "cell_type": "code",
   "execution_count": 2,
   "metadata": {},
   "outputs": [],
   "source": [
    "import pandas as pd\n",
    "import numpy as np\n",
    "\n",
    "\n",
    "from sklearn.svm import SVC\n",
    "from sklearn.decomposition import PCA\n",
    "from sklearn.model_selection import KFold, train_test_split\n",
    "from sklearn.preprocessing import StandardScaler\n",
    "from sklearn.linear_model import LinearRegression, Ridge, Lasso, RidgeCV, RidgeClassifier\n",
    "\n",
    "\n",
    "import matplotlib.pyplot as plt"
   ]
  },
  {
   "cell_type": "code",
   "execution_count": 57,
   "metadata": {},
   "outputs": [],
   "source": [
    "def modelo_svm_kf(data, target, gamma, C, k):\n",
    "    kf = KFold(n_splits = k)\n",
    "    scores = []\n",
    "    for g in gamma:\n",
    "            for c in C:\n",
    "                mean_kf = []\n",
    "                for train_i, test_i in kf.split(data):\n",
    "                    #separação dos dados em treino e teste\n",
    "                    data_train, data_test = data.iloc[train_i], data.iloc[test_i]\n",
    "                    target_train, target_test = target[train_i], target[test_i]\n",
    "                    \n",
    "                    #normalização dos dados\n",
    "                    scaler = StandardScaler()\n",
    "                    scaler.fit(data_train)\n",
    "                    data_train = scaler.transform(data_train)\n",
    "                    data_test = scaler.transform(data_test)\n",
    "                    \n",
    "                    #pca nos dados\n",
    "                    pca = PCA(0.95)\n",
    "                    pca.fit(data_train)\n",
    "                    data_train = pca.transform(data_train)\n",
    "                    data_test = pca.transform(data_test)\n",
    "                    \n",
    "                    #rodando o svm\n",
    "                    svc = SVC(kernel = 'rbf', C=c, gamma = g)\n",
    "                    svc.fit(data_train,target_train)\n",
    "                    mean_kf.append(svc.score(data_test,target_test))\n",
    "                                   \n",
    "                #salvando a média do KFold para g e c dados\n",
    "                scores.append(((sum(mean_kf)/len(mean_kf)), g, c))\n",
    "                print('Iteração com gamma %f e c %f concluída' %(g, c))\n",
    "    return scores"
   ]
  },
  {
   "cell_type": "markdown",
   "metadata": {},
   "source": [
    "### Abrindo o arquivo"
   ]
  },
  {
   "cell_type": "code",
   "execution_count": 14,
   "metadata": {},
   "outputs": [
    {
     "name": "stdout",
     "output_type": "stream",
     "text": [
      "\tshapes com NaN's:\n",
      "esc_rmsp:  (1241, 126)\n"
     ]
    }
   ],
   "source": [
    "#criando dataframes\n",
    "esc_rmsp = pd.read_csv('ESC2013_RMSP_CEM.csv', encoding = 'latin1')\n",
    "nota = pd.read_csv('ENEM2015.csv')\n",
    "\n",
    "#agrupamento por escolas\n",
    "esc_rmsp = esc_rmsp.groupby('CODESC').mean()\n",
    "esc_rmsp = esc_rmsp.reset_index()\n",
    "\n",
    "#apagando a classe desbalanceada\n",
    "nota = nota[nota.Classificacao != 0]\n",
    "\n",
    "#Alterando o nome da coluna de acordo com os outros dataframes\n",
    "nota.rename(columns = {'CODIGO DA ENTIDADE':'CODMEC'}, inplace = True)\n",
    "esc_rmsp.rename(columns = {'CODESC':'CODMEC'}, inplace = True)\n",
    "\n",
    "#apgando as escolas que não estão no target\n",
    "esc_rmsp = esc_rmsp[esc_rmsp.CODMEC.isin(nota['CODMEC'])]\n",
    "\n",
    "print(\"\\tshapes com NaN's:\")\n",
    "print('esc_rmsp: ', esc_rmsp.shape)\n",
    "\n",
    "#colunas que apresentam dados anuais\n",
    "cols = ['ID', 'LONGITUDE', 'LATITUDE', 'CODESCTX', 'CODMUN', 'CODDIST', 'COD_SC','CEP', 'LOCALIZA', 'QD_ESP_C', 'QD_ESP_D']\n",
    "cols_reg = ['ENS_REG', 'REG_IN_CR', 'REG_IN_PE', 'REG_FU_8A', 'REG_FU_9A',\n",
    "            'REG_MED', 'REG_MED_I', 'REG_MED_N', 'REG_MED_P']\n",
    "cols_esp = ['ENS_ESP', 'ESP_IN_CR', 'ESP_IN_PE', 'ESP_FU_8A', 'ESP_FU_9A',\n",
    "            'ESP_MED', 'ESP_MED_I', 'ESP_MED_N', 'ESP_MED_P']\n",
    "cols_eja = ['ESP_EJA_F', 'ESP_EJA_M', 'EJA', 'EJA_FUND', 'EJA_MED', 'EJA_PROJ']\n",
    "cols_aprov = ['AP5EF_07', 'AP9EF_07', 'AP3EM_07', 'AP5EF_08' , 'AP9EF_08', 'AP3EM_08',\n",
    "             'AP5EF_09', 'AP9EF_09', 'AP3EM_09', 'AP5EF_10', 'AP9EF_10', 'AP3EM_10',\n",
    "             'AP5EF_11', 'AP9EF_11', 'APR3EM_11', 'AP5EF_12', 'AP9EF_12', 'AP3EM_12',\n",
    "             'AP5EF_13', 'AP9EF_13', 'AP3EM_13', 'AP5EF_14', 'AP9EF_14', 'AP3EM_14']\n",
    "cols_aban = ['AB1EM_07', 'AB1EM_08', 'AB1EM_09', 'AB1EM_10', 'AB1EM_11', 'AB1EM_12', 'AB1EM_13', 'AB1EM_14']\n",
    "cols_dist = ['DI3EM_07', 'DI3EM_08', 'DI3EM_09', 'DI3EM_10','DI3EM_11', 'DI3EM_12', 'DI3EM_13', 'DI3EM_14']\n",
    "cols_pbras_inic = ['MAT05_AI', 'LP05_AI', 'NP05_AI', 'MAT07_AI', 'LP07_AI', \n",
    "            'NP07_AI','MAT09_AI', 'LP09_AI', 'NP09_AI', 'MAT11_AI', 'LP11_AI',\n",
    "            'NP11_AI', 'MAT13_AI', 'LP13_AI', 'NP13_AI']\n",
    "cols_ideb_inic = ['IDEB05AI', 'IDEB07AI', 'IDEB09AI', 'IDEB11AI', 'IDEB13AI']\n",
    "cols_pbras_fin = ['MAT05_AF', 'LP05_AF', 'NP05_AF', 'MAT07_AF', 'LP07_AF', \n",
    "                   'NP07_AF', 'MAT09_AF', 'LP09_AF', 'NP09_AF', 'MAT11_AF', \n",
    "                   'LP11_AF', 'NP11_AF', 'MAT13_AF', 'LP13_AF', 'NP13_AF']\n",
    "cols_ideb_fin = ['IDEB05AF', 'IDEB07AF', 'IDEB09AF', 'IDEB11AF', 'IDEB13AF']\n",
    "cols_enem = ['RED_EN13', 'LC_EN13', 'MAT_EN13', 'CH_EN13', 'CN_EN13', 'ENEM2013']\n",
    "cols_inse = ['INSE_AB']\n",
    "esc_rmsp.drop(cols, axis = 1, inplace = True)"
   ]
  },
  {
   "cell_type": "code",
   "execution_count": 15,
   "metadata": {},
   "outputs": [
    {
     "data": {
      "image/png": "[encoded data removed]",
      "text/plain": [
       "<Figure size 1080x1440 with 22 Axes>"
      ]
     },
     "metadata": {
      "needs_background": "light"
     },
     "output_type": "display_data"
    }
   ],
   "source": [
    "plt.figure(figsize = (15,20))\n",
    "\n",
    "plt.subplots_adjust(top = 1.15)\n",
    "#colunas esp\n",
    "plt.subplot(6,2,1)\n",
    "plt.matshow(esc_rmsp[cols_esp].corr().abs(),0)\n",
    "plt.title('correlação colunas esp')\n",
    "plt.colorbar()\n",
    "\n",
    "\n",
    "#colunas reg\n",
    "plt.subplot(6,2,2)\n",
    "plt.matshow(esc_rmsp[cols_reg].corr().abs(),0)\n",
    "plt.title('correlação colunas reg')\n",
    "plt.colorbar()\n",
    "\n",
    "#colunas eja\n",
    "plt.subplot(6,2,3)\n",
    "plt.matshow(esc_rmsp[cols_eja].corr().abs(),0)\n",
    "plt.title('correlação colunas eja')\n",
    "plt.colorbar()\n",
    "\n",
    "#colunas aprov\n",
    "plt.subplot(6,2,4)\n",
    "plt.matshow(esc_rmsp[cols_aprov].corr().abs(),0)\n",
    "plt.title('correlação colunas aprov')\n",
    "plt.colorbar()\n",
    "\n",
    "#colunas aban\n",
    "plt.subplot(6,2,5)\n",
    "plt.matshow(esc_rmsp[cols_aban].corr().abs(),0)\n",
    "plt.title('correlação colunas aban')\n",
    "plt.colorbar()\n",
    "\n",
    "#colunas dist\n",
    "plt.subplot(6,2,6)\n",
    "plt.matshow(esc_rmsp[cols_dist].corr().abs(),0)\n",
    "plt.title('correlação colunas dist')\n",
    "plt.colorbar()\n",
    "\n",
    "#colunas pbras_inic\n",
    "plt.subplot(6,2,7)\n",
    "plt.matshow(esc_rmsp[cols_pbras_inic].corr().abs(), 0)\n",
    "plt.title('correlação colunas pbras_inic')\n",
    "plt.colorbar()\n",
    "\n",
    "#colunas pbras_fin\n",
    "plt.subplot(6,2,8)\n",
    "plt.matshow(esc_rmsp[cols_pbras_fin].corr().abs(),0)\n",
    "plt.title('correlação colunas pbras_fin')\n",
    "plt.colorbar()\n",
    "\n",
    "#colunas ideb_inic\n",
    "plt.subplot(6,2,9)\n",
    "plt.matshow(esc_rmsp[cols_ideb_inic].corr().abs(),0)\n",
    "plt.title('correlação colunas ideb_inic')\n",
    "plt.colorbar()\n",
    "\n",
    "#colunas ideb_fin\n",
    "plt.subplot(6,2,10)\n",
    "plt.matshow(esc_rmsp[cols_ideb_fin].corr().abs(),0)\n",
    "plt.title('correlação colunas ideb_fin')\n",
    "plt.colorbar()\n",
    "\n",
    "#colunas enem\n",
    "plt.subplot(6,2,11)\n",
    "plt.matshow(esc_rmsp[cols_enem].corr().abs(),0)\n",
    "plt.title('correlação colunas enem')\n",
    "plt.colorbar()\n",
    "\n",
    "plt.show()"
   ]
  },
  {
   "cell_type": "code",
   "execution_count": 16,
   "metadata": {},
   "outputs": [
    {
     "name": "stdout",
     "output_type": "stream",
     "text": [
      "\tshapes com NaN's:\n",
      "esc_rmsp:  (1241, 14)\n"
     ]
    }
   ],
   "source": [
    "#mantendo colunas principais e apagando secundarias\n",
    "cols_reg.remove('ENS_REG')\n",
    "cols_esp.remove('ENS_ESP')\n",
    "cols_eja.remove('EJA')\n",
    "cols_enem.remove('ENEM2013')\n",
    "media_esc_rmsp = esc_rmsp.drop(cols_reg + cols_esp + cols_eja + cols_enem, axis =1)\n",
    "\n",
    "#realizando a média de colunas anuais\n",
    "cols_pbras = ['NP05_AI', 'NP07_AI', 'NP09_AI', 'NP11_AI', 'NP13_AI', \n",
    "              'NP05_AF', 'NP07_AF', 'NP09_AF', 'NP11_AF', 'NP13_AF']\n",
    "media_esc_rmsp['MEDIA_APROV'] = media_esc_rmsp[cols_aprov].mean(axis = 1)\n",
    "media_esc_rmsp['MEDIA_ABAN'] = media_esc_rmsp[cols_aban].mean(axis = 1)\n",
    "media_esc_rmsp['MEDIA_DIST'] = media_esc_rmsp[cols_dist].mean(axis = 1)\n",
    "media_esc_rmsp['MEDIA_IDEB'] = media_esc_rmsp[cols_ideb_fin + cols_ideb_inic].mean(axis = 1)\n",
    "media_esc_rmsp['MEDIA_PBRAS'] = media_esc_rmsp[cols_pbras].mean(axis = 1)\n",
    "media_esc_rmsp.drop(cols_aprov + cols_aban + cols_dist + cols_ideb_fin + cols_ideb_inic + cols_pbras_inic + cols_pbras_fin , axis = 1, inplace = True)\n",
    "print(\"\\tshapes com NaN's:\")\n",
    "print('esc_rmsp: ', media_esc_rmsp.shape)"
   ]
  },
  {
   "cell_type": "code",
   "execution_count": 18,
   "metadata": {},
   "outputs": [
    {
     "data": {
      "text/html": [
       "<div>\n",
       "<style scoped>\n",
       "    .dataframe tbody tr th:only-of-type {\n",
       "        vertical-align: middle;\n",
       "    }\n",
       "\n",
       "    .dataframe tbody tr th {\n",
       "        vertical-align: top;\n",
       "    }\n",
       "\n",
       "    .dataframe thead th {\n",
       "        text-align: right;\n",
       "    }\n",
       "</style>\n",
       "<table border=\"1\" class=\"dataframe\">\n",
       "  <thead>\n",
       "    <tr style=\"text-align: right;\">\n",
       "      <th></th>\n",
       "      <th>CODMEC</th>\n",
       "      <th>COD_DEP</th>\n",
       "      <th>LAB_INF</th>\n",
       "      <th>BIBLIO</th>\n",
       "      <th>ENS_REG</th>\n",
       "      <th>ENS_ESP</th>\n",
       "      <th>EJA</th>\n",
       "      <th>ENEM2013</th>\n",
       "      <th>INSE_AB</th>\n",
       "      <th>MEDIA_APROV</th>\n",
       "      <th>MEDIA_ABAN</th>\n",
       "      <th>MEDIA_DIST</th>\n",
       "      <th>MEDIA_IDEB</th>\n",
       "      <th>MEDIA_PBRAS</th>\n",
       "    </tr>\n",
       "  </thead>\n",
       "  <tbody>\n",
       "    <tr>\n",
       "      <th>12</th>\n",
       "      <td>35000139</td>\n",
       "      <td>2</td>\n",
       "      <td>1</td>\n",
       "      <td>0</td>\n",
       "      <td>1</td>\n",
       "      <td>0</td>\n",
       "      <td>1</td>\n",
       "      <td>NaN</td>\n",
       "      <td>54.0632</td>\n",
       "      <td>82.47500</td>\n",
       "      <td>2.5875</td>\n",
       "      <td>23.6875</td>\n",
       "      <td>3.975</td>\n",
       "      <td>4.5600</td>\n",
       "    </tr>\n",
       "    <tr>\n",
       "      <th>13</th>\n",
       "      <td>35000140</td>\n",
       "      <td>2</td>\n",
       "      <td>1</td>\n",
       "      <td>0</td>\n",
       "      <td>1</td>\n",
       "      <td>0</td>\n",
       "      <td>1</td>\n",
       "      <td>NaN</td>\n",
       "      <td>53.3911</td>\n",
       "      <td>83.06875</td>\n",
       "      <td>4.6000</td>\n",
       "      <td>17.3625</td>\n",
       "      <td>3.800</td>\n",
       "      <td>4.3350</td>\n",
       "    </tr>\n",
       "    <tr>\n",
       "      <th>25</th>\n",
       "      <td>35000267</td>\n",
       "      <td>2</td>\n",
       "      <td>1</td>\n",
       "      <td>1</td>\n",
       "      <td>1</td>\n",
       "      <td>0</td>\n",
       "      <td>1</td>\n",
       "      <td>497.71</td>\n",
       "      <td>55.7365</td>\n",
       "      <td>86.03125</td>\n",
       "      <td>2.7125</td>\n",
       "      <td>14.2000</td>\n",
       "      <td>4.400</td>\n",
       "      <td>5.0575</td>\n",
       "    </tr>\n",
       "    <tr>\n",
       "      <th>27</th>\n",
       "      <td>35000280</td>\n",
       "      <td>2</td>\n",
       "      <td>1</td>\n",
       "      <td>0</td>\n",
       "      <td>1</td>\n",
       "      <td>0</td>\n",
       "      <td>0</td>\n",
       "      <td>NaN</td>\n",
       "      <td>54.2056</td>\n",
       "      <td>88.60625</td>\n",
       "      <td>0.3500</td>\n",
       "      <td>11.7125</td>\n",
       "      <td>4.450</td>\n",
       "      <td>4.6775</td>\n",
       "    </tr>\n",
       "    <tr>\n",
       "      <th>32</th>\n",
       "      <td>35000334</td>\n",
       "      <td>2</td>\n",
       "      <td>1</td>\n",
       "      <td>1</td>\n",
       "      <td>1</td>\n",
       "      <td>0</td>\n",
       "      <td>0</td>\n",
       "      <td>495.39</td>\n",
       "      <td>54.5818</td>\n",
       "      <td>85.88125</td>\n",
       "      <td>8.2500</td>\n",
       "      <td>14.6125</td>\n",
       "      <td>4.575</td>\n",
       "      <td>4.8800</td>\n",
       "    </tr>\n",
       "  </tbody>\n",
       "</table>\n",
       "</div>"
      ],
      "text/plain": [
       "      CODMEC  COD_DEP  LAB_INF  BIBLIO  ENS_REG  ENS_ESP  EJA  ENEM2013  \\\n",
       "12  35000139        2        1       0        1        0    1       NaN   \n",
       "13  35000140        2        1       0        1        0    1       NaN   \n",
       "25  35000267        2        1       1        1        0    1    497.71   \n",
       "27  35000280        2        1       0        1        0    0       NaN   \n",
       "32  35000334        2        1       1        1        0    0    495.39   \n",
       "\n",
       "    INSE_AB  MEDIA_APROV  MEDIA_ABAN  MEDIA_DIST  MEDIA_IDEB  MEDIA_PBRAS  \n",
       "12  54.0632     82.47500      2.5875     23.6875       3.975       4.5600  \n",
       "13  53.3911     83.06875      4.6000     17.3625       3.800       4.3350  \n",
       "25  55.7365     86.03125      2.7125     14.2000       4.400       5.0575  \n",
       "27  54.2056     88.60625      0.3500     11.7125       4.450       4.6775  \n",
       "32  54.5818     85.88125      8.2500     14.6125       4.575       4.8800  "
      ]
     },
     "execution_count": 18,
     "metadata": {},
     "output_type": "execute_result"
    }
   ],
   "source": [
    "media_esc_rmsp.head()"
   ]
  },
  {
   "cell_type": "code",
   "execution_count": 22,
   "metadata": {},
   "outputs": [
    {
     "data": {
      "text/plain": [
       "ENEM2013       0.224819\n",
       "INSE_AB        0.043513\n",
       "MEDIA_APROV    0.001612\n",
       "MEDIA_ABAN     0.003223\n",
       "MEDIA_DIST     0.041902\n",
       "MEDIA_IDEB     0.716358\n",
       "MEDIA_PBRAS    0.716358\n",
       "dtype: float64"
      ]
     },
     "execution_count": 22,
     "metadata": {},
     "output_type": "execute_result"
    }
   ],
   "source": [
    "media_esc_rmsp[media_esc_rmsp.columns[media_esc_rmsp.isna().mean() != 0]].isna().mean()"
   ]
  },
  {
   "cell_type": "code",
   "execution_count": 23,
   "metadata": {},
   "outputs": [],
   "source": [
    "media_esc_rmsp.drop(['MEDIA_IDEB', 'MEDIA_PBRAS'], axis = 1, inplace = True)"
   ]
  },
  {
   "cell_type": "code",
   "execution_count": 36,
   "metadata": {},
   "outputs": [
    {
     "data": {
      "image/png": "[encoded data removed]",
      "text/plain": [
       "<Figure size 288x288 with 2 Axes>"
      ]
     },
     "metadata": {
      "needs_background": "light"
     },
     "output_type": "display_data"
    }
   ],
   "source": [
    "plt.matshow(pd.merge(media_esc_rmsp, nota, on = 'CODMEC').drop(['NUMERO DE PARTICIPANTES', 'ENS_REG', 'CODMEC'], axis = 1).corr().abs())\n",
    "plt.colorbar()\n",
    "plt.show()"
   ]
  },
  {
   "cell_type": "markdown",
   "metadata": {},
   "source": [
    "### Realizando dois testes diferentes: um mantendo a coluna ENEM2013 e outro retirando"
   ]
  },
  {
   "cell_type": "markdown",
   "metadata": {},
   "source": [
    "### Mantendo a coluna"
   ]
  },
  {
   "cell_type": "code",
   "execution_count": 90,
   "metadata": {},
   "outputs": [],
   "source": [
    "df_com_enem = pd.merge(media_esc_rmsp, nota, on = 'CODMEC').drop(['NUMERO DE PARTICIPANTES', 'CODMEC'], axis = 1)\n",
    "df_com_enem.dropna(how = 'any', inplace = True)\n",
    "for col in df_com_enem.columns[df_com_enem.dtypes != 'float64']:\n",
    "    df_com_enem[col] = df_com_enem[col].astype('float64')"
   ]
  },
  {
   "cell_type": "code",
   "execution_count": 91,
   "metadata": {},
   "outputs": [
    {
     "name": "stdout",
     "output_type": "stream",
     "text": [
      "cv número:  0\n",
      "\tscore treino\t\t score teste\n",
      "\t 0.6240472330238946 \t 0.660426311857286\n",
      "cv número:  1\n",
      "\tscore treino\t\t score teste\n",
      "\t 0.6235207919264139 \t 0.662637879473867\n",
      "cv número:  2\n",
      "\tscore treino\t\t score teste\n",
      "\t 0.6409105300895386 \t 0.5755195791983396\n",
      "cv número:  3\n",
      "\tscore treino\t\t score teste\n",
      "\t 0.6175936076660313 \t 0.6744922194531027\n",
      "cv número:  4\n",
      "\tscore treino\t\t score teste\n",
      "\t 0.6626269257928648 \t 0.43012249150531945\n"
     ]
    }
   ],
   "source": [
    "data = df_com_enem.drop(['Classificacao'], axis = 1)\n",
    "target = df_com_enem.Classificacao\n",
    "scaler = StandardScaler()\n",
    "data = scaler.fit_transform(data)\n",
    "for i in range(5):\n",
    "    x_train, x_test, y_train, y_test = train_test_split(data, target, test_size = 0.2, shuffle = True)\n",
    "    lm = LinearRegression()\n",
    "    lm.fit(x_train, y_train)\n",
    "    print('cv número: ', i)\n",
    "    print('\\tscore treino\\t\\t score teste')\n",
    "    print('\\t',lm.score(x_train, y_train), '\\t', lm.score(x_test, y_test))"
   ]
  },
  {
   "cell_type": "code",
   "execution_count": 92,
   "metadata": {},
   "outputs": [
    {
     "name": "stdout",
     "output_type": "stream",
     "text": [
      "R²:  0.8449197860962567\n",
      "R²:  0.8449197860962567\n",
      "R²:  0.8288770053475936\n",
      "R²:  0.8449197860962567\n",
      "R²:  0.8021390374331551\n"
     ]
    }
   ],
   "source": [
    "svc = SVC(kernel = 'rbf', C = 73, gamma = 0.01)\n",
    "for i in range(5):\n",
    "    x_train, x_test, y_train, y_test = train_test_split(data, target, test_size = 0.2, shuffle = True)\n",
    "    svc.fit(x_train, y_train)\n",
    "    print('R²: ',svc.score(x_test, y_test))"
   ]
  },
  {
   "cell_type": "markdown",
   "metadata": {},
   "source": [
    "### Retirando a coluna"
   ]
  },
  {
   "cell_type": "code",
   "execution_count": 93,
   "metadata": {},
   "outputs": [
    {
     "name": "stdout",
     "output_type": "stream",
     "text": [
      "cv número:  0\n",
      "\tscore treino\t\t score teste\n",
      "\t 0.48607472115223344 \t 0.5040453192764818\n",
      "cv número:  1\n",
      "\tscore treino\t\t score teste\n",
      "\t 0.5102988436213078 \t 0.3865919580182228\n",
      "cv número:  2\n",
      "\tscore treino\t\t score teste\n",
      "\t 0.4727017907137997 \t 0.5664831817687043\n",
      "cv número:  3\n",
      "\tscore treino\t\t score teste\n",
      "\t 0.49069296709334836 \t 0.49004345522235276\n",
      "cv número:  4\n",
      "\tscore treino\t\t score teste\n",
      "\t 0.5193535987763263 \t 0.344748551749118\n"
     ]
    }
   ],
   "source": [
    "data = df_com_enem.drop(['Classificacao', 'ENEM2013'], axis = 1)\n",
    "target = df_com_enem.Classificacao\n",
    "scaler = StandardScaler()\n",
    "data = scaler.fit_transform(data)\n",
    "for i in range(5):\n",
    "    x_train, x_test, y_train, y_test = train_test_split(data, target, test_size = 0.2, shuffle = True)\n",
    "    lm = LinearRegression()\n",
    "    lm.fit(x_train, y_train)\n",
    "    print('cv número: ', i)\n",
    "    print('\\tscore treino\\t\\t score teste')\n",
    "    print('\\t',lm.score(x_train, y_train), '\\t', lm.score(x_test, y_test))"
   ]
  },
  {
   "cell_type": "code",
   "execution_count": 94,
   "metadata": {},
   "outputs": [
    {
     "name": "stdout",
     "output_type": "stream",
     "text": [
      "R²:  0.7754010695187166\n",
      "R²:  0.8128342245989305\n",
      "R²:  0.7914438502673797\n",
      "R²:  0.786096256684492\n",
      "R²:  0.8663101604278075\n"
     ]
    }
   ],
   "source": [
    "svc = SVC(kernel = 'rbf', C = 73, gamma = 0.01)\n",
    "for i in range(5):\n",
    "    x_train, x_test, y_train, y_test = train_test_split(data, target, test_size = 0.2, shuffle = True)\n",
    "    svc.fit(x_train, y_train)\n",
    "    print('R²: ',svc.score(x_test, y_test))"
   ]
  },
  {
   "cell_type": "code",
   "execution_count": null,
   "metadata": {},
   "outputs": [],
   "source": []
  }
 ],
 "metadata": {
  "kernelspec": {
   "display_name": "Python 3",
   "language": "python",
   "name": "python3"
  },
  "language_info": {
   "codemirror_mode": {
    "name": "ipython",
    "version": 3
   },
   "file_extension": ".py",
   "mimetype": "text/x-python",
   "name": "python",
   "nbconvert_exporter": "python",
   "pygments_lexer": "ipython3",
   "version": "3.7.3"
  }
 },
 "nbformat": 4,
 "nbformat_minor": 2
}
