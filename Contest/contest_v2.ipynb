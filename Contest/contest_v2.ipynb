{
 "cells": [
  {
   "cell_type": "code",
   "execution_count": 1,
   "metadata": {},
   "outputs": [],
   "source": [
    "import pandas as pd\n",
    "import numpy as np\n",
    "import matplotlib.pyplot as plt\n",
    "from sklearn.svm import SVC\n",
    "from sklearn.svm import SVR\n",
    "from sklearn.decomposition import PCA\n",
    "from sklearn.model_selection import KFold\n",
    "from sklearn.model_selection import GridSearchCV\n",
    "from sklearn.preprocessing import StandardScaler\n",
    "from sklearn.linear_model import LinearRegression\n",
    "from sklearn.model_selection import cross_val_score\n",
    "from sklearn.model_selection import train_test_split\n",
    "from sklearn.metrics import r2_score\n",
    "from random import randint"
   ]
  },
  {
   "cell_type": "code",
   "execution_count": 2,
   "metadata": {},
   "outputs": [
    {
     "name": "stderr",
     "output_type": "stream",
     "text": [
      "C:\\Users\\giova\\Anaconda3\\lib\\site-packages\\IPython\\core\\interactiveshell.py:3049: DtypeWarning: Columns (11) have mixed types. Specify dtype option on import or set low_memory=False.\n",
      "  interactivity=interactivity, compiler=compiler, result=result)\n"
     ]
    }
   ],
   "source": [
    "#colunas que escolhi para dados escolares\n",
    "col_escol = ['CODMEC','ANO','TIPOESC','DEP','Qtde_Docentes','NUM_FUNC','MERENDA','CLFUND',\n",
    "            'ALFUND','TOTALEJA','TOT_EE','TOTAL_ALUNOS','CL_CRECHE','AL_CRECHE','CL_PRE','AL_PRE','CLEM','ALEM']\n",
    "col_rendi = ['CODMEC','EFABAND9ANOS8S','EFABAND9ANOS9S','EFABAND7S','EFABAND8S','TOTALEF_ABAND','TOTALEF_APROV',\n",
    "             'TOTALEF_REPROV','TOTAL_EM_ABAND','TOTAL_EM_REPROV','CONCLUINTES_EM','EPABAND','EPREPROV']\n",
    "dados_escolares = pd.read_csv('DadosEscolares1996-2015.csv', encoding = 'latin1', usecols = col_escol)\n",
    "rendimento = pd.read_csv('RendimentoEscolar2000-2015.csv', encoding = 'latin1', usecols = col_rendi)\n",
    "esc_rmsp = pd.read_csv('ESC2013_RMSP_CEM.csv', encoding = 'latin1')\n",
    "nota = pd.read_csv('ENEM2015.csv')\n",
    "#como eu abri todas as colunas do esc_rmsp, agora vou retirar as que não desejo usar\n",
    "col_rmsp = ['ID', 'LONGITUDE', 'LATITUDE', 'CODESCTX','NOMEESC', 'NOMEMUN','CODMUN', 'NOMDIST', 'CODDIST', 'COD_SC',\n",
    "           'BAIRRO','CEP','END_ESC','NUM_ESC','DDD','TELEFONE','ENS_REG','REG_IN_CR','REG_IN_PE','REG_FU_8A',\n",
    "           'REG_FU_9A','REG_MED','REG_MED_I','REG_MED_N','REG_MED_P','ENS_ESP','ESP_IN_CR','ESP_IN_PE',\n",
    "           'ESP_FU_8A','ESP_FU_9A','ESP_MED','ESP_MED_I','ESP_MED_N','ESP_MED_P','ESP_EJA_F','ESP_EJA_M','EJA',\n",
    "           'EJA_FUND','EJA_MED','EJA_PROJ']\n",
    "esc_rmsp = esc_rmsp.drop(col_rmsp, axis = 1)"
   ]
  },
  {
   "cell_type": "code",
   "execution_count": 3,
   "metadata": {},
   "outputs": [
    {
     "name": "stdout",
     "output_type": "stream",
     "text": [
      "Dados escolares(104292, 18)\n",
      "Rendimento(14944, 13)\n",
      "ESC_RMSP(10937, 96)\n",
      "Nota(1243, 3)\n"
     ]
    }
   ],
   "source": [
    "#verificando o tamanho\n",
    "print ( 'Dados escolares' + str(dados_escolares.shape))\n",
    "print ( 'Rendimento' + str(rendimento.shape))\n",
    "print ( 'ESC_RMSP' + str(esc_rmsp.shape))\n",
    "print( 'Nota' + str(nota.shape))"
   ]
  },
  {
   "cell_type": "code",
   "execution_count": 4,
   "metadata": {},
   "outputs": [],
   "source": [
    "#def t(x):\n",
    "#    if x==0:\n",
    "#        return None\n",
    "#    else:\n",
    "#        return x\n",
    "#for c in dados_escolares.columns:\n",
    "#    dados_escolares[c] = dados_escolares[c].apply(t)"
   ]
  },
  {
   "cell_type": "markdown",
   "metadata": {},
   "source": [
    "Agrupei os dados nos três dataframes por escola fazendo a média das linhas."
   ]
  },
  {
   "cell_type": "code",
   "execution_count": 5,
   "metadata": {},
   "outputs": [],
   "source": [
    "#Agrupo por escolas\n",
    "dados_escolares = dados_escolares.groupby('CODMEC').mean()\n",
    "rendimento = rendimento.groupby('CODMEC').mean()\n",
    "esc_rmsp = esc_rmsp.groupby('CODESC').mean()"
   ]
  },
  {
   "cell_type": "code",
   "execution_count": 6,
   "metadata": {},
   "outputs": [
    {
     "name": "stdout",
     "output_type": "stream",
     "text": [
      "Dados escolares(9642, 14)\n",
      "Rendimento(4892, 12)\n",
      "ESC_RMSP(10937, 93)\n",
      "Nota(1243, 3)\n"
     ]
    }
   ],
   "source": [
    "#verificando o tamanho\n",
    "print ( 'Dados escolares' + str(dados_escolares.shape))\n",
    "print ( 'Rendimento' + str(rendimento.shape))\n",
    "print ( 'ESC_RMSP' + str(esc_rmsp.shape))\n",
    "print( 'Nota' + str(nota.shape))"
   ]
  },
  {
   "cell_type": "markdown",
   "metadata": {},
   "source": [
    "Apaguei as linhas que tinham a coluna Classificação igual a 0 (apenas 3 linhas) e apaguei todos os dados de escolas que não estão no target."
   ]
  },
  {
   "cell_type": "code",
   "execution_count": 7,
   "metadata": {},
   "outputs": [],
   "source": [
    "#Apagando a classe desbalanceada\n",
    "nota = nota[nota.Classificacao != 0]\n",
    "#Em todos Dataframes temos mais escolas do que o nosso target\n",
    "dados_escolares = dados_escolares.reset_index()[dados_escolares.reset_index().CODMEC.isin(nota['CODIGO DA ENTIDADE'])]\n",
    "rendimento = rendimento.reset_index()[rendimento.reset_index().CODMEC.isin(nota['CODIGO DA ENTIDADE'])]\n",
    "esc_rmsp = esc_rmsp.reset_index()[esc_rmsp.reset_index().CODESC.isin(nota['CODIGO DA ENTIDADE'])]"
   ]
  },
  {
   "cell_type": "code",
   "execution_count": 8,
   "metadata": {},
   "outputs": [
    {
     "name": "stdout",
     "output_type": "stream",
     "text": [
      "Dados escolares(692, 15)\n",
      "Rendimento(504, 13)\n",
      "ESC_RMSP(1241, 94)\n",
      "Nota(1241, 3)\n"
     ]
    }
   ],
   "source": [
    "#verificando o tamanho\n",
    "print ( 'Dados escolares' + str(dados_escolares.shape))\n",
    "print ( 'Rendimento' + str(rendimento.shape))\n",
    "print ( 'ESC_RMSP' + str(esc_rmsp.shape))\n",
    "print( 'Nota' + str(nota.shape))"
   ]
  },
  {
   "cell_type": "markdown",
   "metadata": {},
   "source": [
    "Apaguei as colunas que tinham mais do que 15% de valores NaN e depois apaguei as linhas que tinham algum valor NaN."
   ]
  },
  {
   "cell_type": "code",
   "execution_count": 9,
   "metadata": {},
   "outputs": [],
   "source": [
    "#apagando as linha com valor NaN\n",
    "dados_escolares.dropna(inplace = True, how = 'any')\n",
    "esc_rmsp.drop(esc_rmsp.columns[esc_rmsp.isnull().mean() > 0.15], axis=1, inplace = True)\n",
    "esc_rmsp.dropna(how='any', axis = 0, inplace = True)"
   ]
  },
  {
   "cell_type": "code",
   "execution_count": 10,
   "metadata": {},
   "outputs": [
    {
     "name": "stdout",
     "output_type": "stream",
     "text": [
      "Dados escolares(690, 15)\n",
      "Rendimento(504, 13)\n",
      "ESC_RMSP(931, 21)\n",
      "Nota(1241, 3)\n"
     ]
    }
   ],
   "source": [
    "#verificando o tamanho\n",
    "print ( 'Dados escolares' + str(dados_escolares.shape))\n",
    "print ( 'Rendimento' + str(rendimento.shape))\n",
    "print ( 'ESC_RMSP' + str(esc_rmsp.shape))\n",
    "print( 'Nota' + str(nota.shape))"
   ]
  },
  {
   "cell_type": "markdown",
   "metadata": {},
   "source": [
    "Utilizando apenas o dataframe dados_escolares."
   ]
  },
  {
   "cell_type": "code",
   "execution_count": 11,
   "metadata": {},
   "outputs": [],
   "source": [
    "#Alterando o nome da coluna para o merge\n",
    "nota.rename(columns = {'CODIGO DA ENTIDADE':'CODMEC'}, inplace = True)\n",
    "#criando o merge com base na coluna CODMEC usando o dataframe target e os dados escolares\n",
    "new_df = pd.merge(dados_escolares, nota, on = 'CODMEC')\n",
    "new_df.drop(['CODMEC', 'ANO','NUMERO DE PARTICIPANTES'], axis = 1, inplace = True)"
   ]
  },
  {
   "cell_type": "code",
   "execution_count": 12,
   "metadata": {},
   "outputs": [],
   "source": [
    "#criando o data e o target\n",
    "data = new_df.drop('Classificacao', axis = 1)\n",
    "target = new_df.Classificacao"
   ]
  },
  {
   "cell_type": "markdown",
   "metadata": {},
   "source": [
    "Realizo um teste com os dados normalizados, utilizando KFolds e linear regression."
   ]
  },
  {
   "cell_type": "code",
   "execution_count": 13,
   "metadata": {},
   "outputs": [
    {
     "name": "stdout",
     "output_type": "stream",
     "text": [
      "Kfolds results:  [0.4720345159024039, 0.4682137357581474, 0.4570959709764666, 0.3389382795206265, 0.31334855487962526]\n",
      "Score mean:  0.40992621140745394\n"
     ]
    }
   ],
   "source": [
    "lm = LinearRegression()\n",
    "scaler = StandardScaler()\n",
    "data1 = scaler.fit_transform(data)\n",
    "#PCA não melhora o score\n",
    "kf = KFold(5, shuffle = True)\n",
    "r = []\n",
    "for train_i, test_i in kf.split(data):\n",
    "    x_train, x_test = data1[train_i], data1[test_i]\n",
    "    y_train, y_test = target[train_i], target[test_i]\n",
    "    lm.fit(x_train, y_train)\n",
    "    r.append(lm.score(x_test, y_test))\n",
    "r.sort(reverse = True)\n",
    "print('Kfolds results: ', r)\n",
    "print('Score mean: ', sum(r)/5)"
   ]
  },
  {
   "cell_type": "code",
   "execution_count": 114,
   "metadata": {},
   "outputs": [],
   "source": [
    "def modelo_svm_kf(data, target, gamma, C, k):\n",
    "    kf = KFold(n_splits = k)\n",
    "    scores = []\n",
    "    for g in gamma:\n",
    "            for c in C:\n",
    "                mean_kf = []\n",
    "                for train_i, test_i in kf.split(data):\n",
    "                    #separação dos dados em treino e teste\n",
    "                    data_train, data_test = data.iloc[train_i], data.iloc[test_i]\n",
    "                    target_train, target_test = target[train_i], target[test_i]\n",
    "                    \n",
    "                    #normalização dos dados\n",
    "                    scaler = StandardScaler()\n",
    "                    scaler.fit(data_train)\n",
    "                    data_train = scaler.transform(data_train)\n",
    "                    data_test = scaler.transform(data_test)\n",
    "                    \n",
    "                    #pca nos dados\n",
    "                    pca = PCA(0.95)\n",
    "                    pca.fit(data_train)\n",
    "                    data_train = pca.transform(data_train)\n",
    "                    data_test = pca.transform(data_test)\n",
    "                    \n",
    "                    #rodando o svm\n",
    "                    svc = SVC(kernel = 'rbf', C=c, gamma = g)\n",
    "                    svc.fit(data_train,target_train)\n",
    "                    mean_kf.append(svc.score(data_test,target_test))\n",
    "                                   \n",
    "                #salvando a média do KFold para g e c dados\n",
    "                scores.append(((sum(mean_kf)/len(mean_kf)), g, c))\n",
    "                print('Iteração com gamma %f e c %f concluída' %(g, c))\n",
    "    return scores"
   ]
  },
  {
   "cell_type": "markdown",
   "metadata": {},
   "source": [
    "Realizo um teste usando:\n",
    "- Kfolds\n",
    "-  Normalização\n",
    "- PCA\n",
    "- SVM\n",
    "- Tuning dos parametros"
   ]
  },
  {
   "cell_type": "code",
   "execution_count": 115,
   "metadata": {
    "scrolled": true
   },
   "outputs": [
    {
     "name": "stdout",
     "output_type": "stream",
     "text": [
      "Iteração com gamma 0.010000 e c 0.010000 concluída\n",
      "Iteração com gamma 0.010000 e c 0.100000 concluída\n",
      "Iteração com gamma 0.010000 e c 1.000000 concluída\n",
      "Iteração com gamma 0.010000 e c 10.000000 concluída\n",
      "Iteração com gamma 0.010000 e c 100.000000 concluída\n",
      "Iteração com gamma 0.100000 e c 0.010000 concluída\n",
      "Iteração com gamma 0.100000 e c 0.100000 concluída\n",
      "Iteração com gamma 0.100000 e c 1.000000 concluída\n",
      "Iteração com gamma 0.100000 e c 10.000000 concluída\n",
      "Iteração com gamma 0.100000 e c 100.000000 concluída\n",
      "Iteração com gamma 1.000000 e c 0.010000 concluída\n",
      "Iteração com gamma 1.000000 e c 0.100000 concluída\n",
      "Iteração com gamma 1.000000 e c 1.000000 concluída\n",
      "Iteração com gamma 1.000000 e c 10.000000 concluída\n",
      "Iteração com gamma 1.000000 e c 100.000000 concluída\n",
      "Iteração com gamma 10.000000 e c 0.010000 concluída\n",
      "Iteração com gamma 10.000000 e c 0.100000 concluída\n",
      "Iteração com gamma 10.000000 e c 1.000000 concluída\n",
      "Iteração com gamma 10.000000 e c 10.000000 concluída\n",
      "Iteração com gamma 10.000000 e c 100.000000 concluída\n",
      "Iteração com gamma 100.000000 e c 0.010000 concluída\n",
      "Iteração com gamma 100.000000 e c 0.100000 concluída\n",
      "Iteração com gamma 100.000000 e c 1.000000 concluída\n",
      "Iteração com gamma 100.000000 e c 10.000000 concluída\n",
      "Iteração com gamma 100.000000 e c 100.000000 concluída\n",
      "Maiores score e os parâmetros:\n"
     ]
    },
    {
     "data": {
      "text/plain": [
       "[(0.7130434782608696, 100, 0.01),\n",
       " (0.7130434782608696, 100, 0.1),\n",
       " (0.7130434782608696, 100, 1),\n",
       " (0.7159420289855072, 0.01, 100),\n",
       " (0.7246376811594203, 0.01, 1)]"
      ]
     },
     "execution_count": 115,
     "metadata": {},
     "output_type": "execute_result"
    }
   ],
   "source": [
    "res = modelo_svm_kf(data, target, gamma = [0.01, 0.1, 1, 10, 100], C = [0.01, 0.1, 1, 10, 100], k = 5)\n",
    "res.sort()\n",
    "print('Maiores score e os parâmetros:')\n",
    "res[-5:]"
   ]
  },
  {
   "cell_type": "markdown",
   "metadata": {},
   "source": [
    "Repito o mesmo erro que tive no outro dia, utilizando tanto o KFolds quanto o train_test_split."
   ]
  },
  {
   "cell_type": "code",
   "execution_count": 116,
   "metadata": {},
   "outputs": [
    {
     "name": "stdout",
     "output_type": "stream",
     "text": [
      "Treino:  [0.14075827]\n",
      "Teste:  [-0.22302813]\n"
     ]
    }
   ],
   "source": [
    "params = {'kernel': ['rbf'], 'C':[0.1], 'gamma':[100]}\n",
    "svr = SVR()\n",
    "clf = GridSearchCV(estimator = svr, param_grid = params, cv = 5, return_train_score=True)\n",
    "clf.fit(data, target)\n",
    "print( 'Treino: ', clf.cv_results_['mean_train_score'])\n",
    "print( 'Teste: ', clf.cv_results_['mean_test_score'])"
   ]
  },
  {
   "cell_type": "code",
   "execution_count": 117,
   "metadata": {},
   "outputs": [
    {
     "name": "stdout",
     "output_type": "stream",
     "text": [
      "Treino:  0.14713908838907208\n",
      "Teste:  -0.0019170975005526891\n"
     ]
    }
   ],
   "source": [
    "svr = SVR(kernel = 'rbf', C=0.1, gamma = 100)\n",
    "x_train, x_test, y_train, y_test = train_test_split(data, target, test_size = 0.2)\n",
    "svr.fit(x_train, y_train)\n",
    "print( 'Treino: ', svr.score(x_train, y_train))\n",
    "print( 'Teste: ', svr.score(x_test, y_test))"
   ]
  },
  {
   "cell_type": "code",
   "execution_count": 118,
   "metadata": {},
   "outputs": [
    {
     "data": {
      "text/plain": [
       "2    492\n",
       "3     84\n",
       "1     74\n",
       "4     40\n",
       "Name: Classificacao, dtype: int64"
      ]
     },
     "execution_count": 118,
     "metadata": {},
     "output_type": "execute_result"
    }
   ],
   "source": [
    "target.value_counts()"
   ]
  },
  {
   "cell_type": "markdown",
   "metadata": {},
   "source": [
    "Faço o balanceamento das classes, agora tenho 40 escolas com cada classe, cada classe agora tem 40 escolas."
   ]
  },
  {
   "cell_type": "code",
   "execution_count": 19,
   "metadata": {},
   "outputs": [],
   "source": [
    "#fazendo o balanceamento\n",
    "balanced = new_df.groupby('Classificacao').apply(lambda x: x.sample(40))\n",
    "balanced = balanced.sample(frac = 1)\n",
    "balanced = balanced.droplevel(level = 0)\n",
    "balanced = balanced.reset_index()\n",
    "balanced.drop(['index'], axis = 1, inplace = True)\n",
    "data_balanced = balanced.drop(['Classificacao'], axis =1)\n",
    "target_balanced = balanced.Classificacao"
   ]
  },
  {
   "cell_type": "markdown",
   "metadata": {},
   "source": [
    "Realizo um teste usando:\n",
    "- Classes balanceadas\n",
    "- Kfolds\n",
    "-  Normalização\n",
    "- PCA\n",
    "- SVM\n",
    "- Tuning dos parametros"
   ]
  },
  {
   "cell_type": "code",
   "execution_count": 20,
   "metadata": {},
   "outputs": [
    {
     "name": "stdout",
     "output_type": "stream",
     "text": [
      "Iteração com gamma 0.010000 e c 0.010000 concluída\n",
      "Iteração com gamma 0.010000 e c 0.100000 concluída\n",
      "Iteração com gamma 0.010000 e c 1.000000 concluída\n",
      "Iteração com gamma 0.010000 e c 10.000000 concluída\n",
      "Iteração com gamma 0.010000 e c 100.000000 concluída\n",
      "Iteração com gamma 0.100000 e c 0.010000 concluída\n",
      "Iteração com gamma 0.100000 e c 0.100000 concluída\n",
      "Iteração com gamma 0.100000 e c 1.000000 concluída\n",
      "Iteração com gamma 0.100000 e c 10.000000 concluída\n",
      "Iteração com gamma 0.100000 e c 100.000000 concluída\n",
      "Iteração com gamma 1.000000 e c 0.010000 concluída\n",
      "Iteração com gamma 1.000000 e c 0.100000 concluída\n",
      "Iteração com gamma 1.000000 e c 1.000000 concluída\n",
      "Iteração com gamma 1.000000 e c 10.000000 concluída\n",
      "Iteração com gamma 1.000000 e c 100.000000 concluída\n",
      "Iteração com gamma 10.000000 e c 0.010000 concluída\n",
      "Iteração com gamma 10.000000 e c 0.100000 concluída\n",
      "Iteração com gamma 10.000000 e c 1.000000 concluída\n",
      "Iteração com gamma 10.000000 e c 10.000000 concluída\n",
      "Iteração com gamma 10.000000 e c 100.000000 concluída\n",
      "Iteração com gamma 100.000000 e c 0.010000 concluída\n",
      "Iteração com gamma 100.000000 e c 0.100000 concluída\n",
      "Iteração com gamma 100.000000 e c 1.000000 concluída\n",
      "Iteração com gamma 100.000000 e c 10.000000 concluída\n",
      "Iteração com gamma 100.000000 e c 100.000000 concluída\n"
     ]
    },
    {
     "data": {
      "text/plain": [
       "[(0.525, 0.1, 100),\n",
       " (0.58125, 0.1, 10),\n",
       " (0.5875, 0.1, 1),\n",
       " (0.59375, 0.01, 10),\n",
       " (0.60625, 0.01, 100)]"
      ]
     },
     "execution_count": 20,
     "metadata": {},
     "output_type": "execute_result"
    }
   ],
   "source": [
    "r = modelo_svm_kf(data_balanced, target_balanced, gamma = [0.01, 0.1, 1, 10,100],C = [0.01, 0.1, 1, 10, 100],k = 5)\n",
    "r.sort()\n",
    "r[-5:]"
   ]
  },
  {
   "cell_type": "markdown",
   "metadata": {},
   "source": [
    "Percebo que o erro é o valor de C."
   ]
  },
  {
   "cell_type": "code",
   "execution_count": 21,
   "metadata": {},
   "outputs": [
    {
     "name": "stdout",
     "output_type": "stream",
     "text": [
      "Treino:  [-0.0580772  -0.01018249 -0.06643596 -0.08936642 -0.09031282  0.26968844\n",
      "  0.43519755  0.24234908  0.09276661  0.08441945  0.57497508  0.75545311\n",
      "  0.90725108  0.90369238  0.89566295  0.69253092  0.8755207   0.99133176\n",
      "  0.99204367  0.9919884   0.81158077  0.94852189  0.99234063  0.99204367\n",
      "  0.9919884 ]\n",
      "Teste:  [-0.16309458 -0.1114864  -0.18147225 -0.21320515 -0.21425981  0.20797829\n",
      "  0.35197897  0.0782364  -0.14526022 -0.15494523  0.52886327  0.59083284\n",
      "  0.39354005  0.0048188  -0.02429771  0.61213792  0.58434184  0.40467673\n",
      "  0.01259529 -0.01900778  0.60229486  0.34265341  0.40794645  0.01259529\n",
      " -0.01900778]\n"
     ]
    }
   ],
   "source": [
    "scaler = StandardScaler()\n",
    "data_balanced1 = scaler.fit_transform(data_balanced)\n",
    "params = {'kernel': ['rbf'], 'C':[0.01, 0.1, 1, 10,100], 'gamma':[0.01, 0.1, 1, 10, 100]}\n",
    "svr = SVR()\n",
    "clf = GridSearchCV(estimator = svr, param_grid = params, cv = 5, return_train_score=True)\n",
    "clf.fit(data_balanced1, target_balanced)\n",
    "print( 'Treino: ', clf.cv_results_['mean_train_score'])\n",
    "print( 'Teste: ', clf.cv_results_['mean_test_score'])"
   ]
  },
  {
   "cell_type": "code",
   "execution_count": 23,
   "metadata": {},
   "outputs": [
    {
     "name": "stdout",
     "output_type": "stream",
     "text": [
      "Treino:  [0.04644468 0.06310087 0.01374831 0.0030881  0.00290729 0.23926396\n",
      " 0.26830185 0.18483379 0.14251386 0.14076896 0.40153691 0.55298718\n",
      " 0.79866586 0.88543061 0.88414376 0.48684638 0.69091509 0.95782899\n",
      " 0.97803488 0.97712555 0.55408799 0.81116576 0.97864212 0.97803488\n",
      " 0.97712555]\n",
      "Teste:  [-0.2018141  -0.19576325 -0.21402055 -0.21018039 -0.21031691 -0.0402193\n",
      " -0.0683221  -0.20963459 -0.22233695 -0.22309383  0.17263795  0.08401124\n",
      " -0.1921403  -0.351319   -0.3398982   0.17189969 -0.17032501 -0.29433483\n",
      " -0.35775385 -0.36275587 -0.00449163 -0.83165966 -0.48803898 -0.35775385\n",
      " -0.36275587]\n"
     ]
    }
   ],
   "source": [
    "scaler = StandardScaler()\n",
    "params = {'kernel': ['rbf'], 'C':[0.01, 0.1, 1, 10,100], 'gamma':[0.01, 0.1, 1, 10, 100]}\n",
    "svr = SVR()\n",
    "clf = GridSearchCV(estimator = svr, param_grid = params, cv = 5, return_train_score=True, refit = True)\n",
    "clf.fit(data1, target)\n",
    "print( 'Treino: ', clf.cv_results_['mean_train_score'])\n",
    "print( 'Teste: ', clf.cv_results_['mean_test_score'])"
   ]
  },
  {
   "cell_type": "markdown",
   "metadata": {},
   "source": [
    "Utilizando apenas o dataframe esc_rmsp."
   ]
  },
  {
   "cell_type": "code",
   "execution_count": 83,
   "metadata": {},
   "outputs": [],
   "source": [
    "esc_rmsp.rename(columns={'CODESC':'CODMEC'}, inplace = True)\n",
    "new_df = pd.merge(esc_rmsp, nota, on = 'CODMEC')\n",
    "new_df.drop(['NUMERO DE PARTICIPANTES', 'CODMEC'], axis = 1,inplace = True)\n",
    "data = new_df.drop(['Classificacao'], axis =1)\n",
    "target = new_df.Classificacao\n",
    "data.COD_DEP = data.COD_DEP.astype('float64')\n",
    "data.LOCALIZA = data.LOCALIZA.astype('float64')\n",
    "data.LAB_INF = data.LAB_INF.astype('float64')\n",
    "data.QD_ESP_C = data.QD_ESP_C.astype('float64')\n",
    "data.QD_ESP_D = data.QD_ESP_D.astype('float64')\n",
    "data.BIBLIO = data.BIBLIO.astype('float64')"
   ]
  },
  {
   "cell_type": "markdown",
   "metadata": {},
   "source": [
    "Realizo um teste usando Kfolds, normalização e linear regression."
   ]
  },
  {
   "cell_type": "code",
   "execution_count": 85,
   "metadata": {},
   "outputs": [
    {
     "name": "stdout",
     "output_type": "stream",
     "text": [
      "Kfolds results:  [0.5519871022599485, 0.5418561407000198, 0.5358635778891673, 0.46773194882564934, 0.40969403453438324]\n",
      "Score mean:  0.5014265608418336\n"
     ]
    }
   ],
   "source": [
    "lm = LinearRegression()\n",
    "scaler = StandardScaler()\n",
    "data1 = scaler.fit_transform(data)\n",
    "#PCA não melhora o score\n",
    "kf = KFold(5, shuffle=True)\n",
    "r = []\n",
    "for train_i, test_i in kf.split(data):\n",
    "    x_train, x_test = data1[train_i], data1[test_i]\n",
    "    y_train, y_test = target[train_i], target[test_i]\n",
    "    lm.fit(x_train, y_train)\n",
    "    r.append(lm.score(x_test, y_test))\n",
    "r.sort(reverse = True)\n",
    "print('Kfolds results: ', r)\n",
    "print('Score mean: ', sum(r)/5)"
   ]
  },
  {
   "cell_type": "markdown",
   "metadata": {},
   "source": [
    "Realizo um teste usando:\n",
    "- Kfolds\n",
    "-  Normalização\n",
    "- PCA\n",
    "- SVM\n",
    "- Tuning dos parametros"
   ]
  },
  {
   "cell_type": "code",
   "execution_count": 95,
   "metadata": {
    "scrolled": true
   },
   "outputs": [
    {
     "name": "stdout",
     "output_type": "stream",
     "text": [
      "Iteração com gamma 0.010000 e c 0.010000 concluída\n",
      "Iteração com gamma 0.010000 e c 0.100000 concluída\n",
      "Iteração com gamma 0.010000 e c 1.000000 concluída\n",
      "Iteração com gamma 0.010000 e c 10.000000 concluída\n",
      "Iteração com gamma 0.010000 e c 100.000000 concluída\n",
      "Iteração com gamma 0.100000 e c 0.010000 concluída\n",
      "Iteração com gamma 0.100000 e c 0.100000 concluída\n",
      "Iteração com gamma 0.100000 e c 1.000000 concluída\n",
      "Iteração com gamma 0.100000 e c 10.000000 concluída\n",
      "Iteração com gamma 0.100000 e c 100.000000 concluída\n",
      "Iteração com gamma 1.000000 e c 0.010000 concluída\n",
      "Iteração com gamma 1.000000 e c 0.100000 concluída\n",
      "Iteração com gamma 1.000000 e c 1.000000 concluída\n",
      "Iteração com gamma 1.000000 e c 10.000000 concluída\n",
      "Iteração com gamma 1.000000 e c 100.000000 concluída\n",
      "Iteração com gamma 10.000000 e c 0.010000 concluída\n",
      "Iteração com gamma 10.000000 e c 0.100000 concluída\n",
      "Iteração com gamma 10.000000 e c 1.000000 concluída\n",
      "Iteração com gamma 10.000000 e c 10.000000 concluída\n",
      "Iteração com gamma 10.000000 e c 100.000000 concluída\n",
      "Iteração com gamma 100.000000 e c 0.010000 concluída\n",
      "Iteração com gamma 100.000000 e c 0.100000 concluída\n",
      "Iteração com gamma 100.000000 e c 1.000000 concluída\n",
      "Iteração com gamma 100.000000 e c 10.000000 concluída\n",
      "Iteração com gamma 100.000000 e c 100.000000 concluída\n",
      "Maiores score e os parâmetros:\n"
     ]
    },
    {
     "data": {
      "text/plain": [
       "[(0.6897130699787246, 10, 100),\n",
       " (0.6972974527054225, 0.1, 10),\n",
       " (0.698315220516359, 1, 1),\n",
       " (0.7026795468920707, 0.01, 10),\n",
       " (0.719872347766086, 0.01, 100)]"
      ]
     },
     "execution_count": 95,
     "metadata": {},
     "output_type": "execute_result"
    }
   ],
   "source": [
    "res = modelo_svm_kf(data, target, gamma = [0.01, 0.1, 1, 10, 100], C = [0.01, 0.1, 1, 10, 100], k = 5)\n",
    "res.sort()\n",
    "print('Maiores score e os parâmetros:')\n",
    "res[-5:]"
   ]
  }
 ],
 "metadata": {
  "kernelspec": {
   "display_name": "Python 3",
   "language": "python",
   "name": "python3"
  },
  "language_info": {
   "codemirror_mode": {
    "name": "ipython",
    "version": 3
   },
   "file_extension": ".py",
   "mimetype": "text/x-python",
   "name": "python",
   "nbconvert_exporter": "python",
   "pygments_lexer": "ipython3",
   "version": "3.7.3"
  }
 },
 "nbformat": 4,
 "nbformat_minor": 2
}
