{
 "cells": [
  {
   "cell_type": "code",
   "execution_count": 102,
   "metadata": {},
   "outputs": [],
   "source": [
    "import pandas as pd\n",
    "import numpy as np\n",
    "import matplotlib.pyplot as plt\n",
    "from sklearn.svm import SVC\n",
    "from sklearn.svm import SVR\n",
    "from sklearn.decomposition import PCA\n",
    "from sklearn.model_selection import KFold\n",
    "from sklearn.model_selection import GridSearchCV\n",
    "from sklearn.preprocessing import StandardScaler\n",
    "from sklearn.linear_model import LinearRegression\n",
    "from sklearn.model_selection import cross_val_score\n",
    "from sklearn.model_selection import train_test_split\n",
    "from random import randint"
   ]
  },
  {
   "cell_type": "code",
   "execution_count": 50,
   "metadata": {},
   "outputs": [
    {
     "name": "stderr",
     "output_type": "stream",
     "text": [
      "C:\\Users\\giova\\Anaconda3\\lib\\site-packages\\IPython\\core\\interactiveshell.py:3049: DtypeWarning: Columns (11) have mixed types. Specify dtype option on import or set low_memory=False.\n",
      "  interactivity=interactivity, compiler=compiler, result=result)\n"
     ]
    }
   ],
   "source": [
    "#colunas que escolhi para dados escolares\n",
    "col_escol = ['CODMEC','ANO','TIPOESC','DEP','Qtde_Docentes','NUM_FUNC','MERENDA','CLFUND',\n",
    "            'ALFUND','TOTALEJA','TOT_EE','TOTAL_ALUNOS','CL_CRECHE','AL_CRECHE','CL_PRE','AL_PRE','CLEM','ALEM']\n",
    "col_rendi = ['CODMEC','EFABAND9ANOS8S','EFABAND9ANOS9S','EFABAND7S','EFABAND8S','TOTALEF_ABAND','TOTALEF_APROV',\n",
    "             'TOTALEF_REPROV','TOTAL_EM_ABAND','TOTAL_EM_REPROV','CONCLUINTES_EM','EPABAND','EPREPROV']\n",
    "dados_escolares = pd.read_csv('DadosEscolares1996-2015.csv', encoding = 'latin1', usecols = col_escol)\n",
    "rendimento = pd.read_csv('RendimentoEscolar2000-2015.csv', encoding = 'latin1', usecols = col_rendi)\n",
    "esc_rmsp = pd.read_csv('ESC2013_RMSP_CEM.csv', encoding = 'latin1')\n",
    "nota = pd.read_csv('ENEM2015.csv')\n",
    "#como eu abri todas as colunas do esc_rmsp, agora vou retirar as que não desejo usar\n",
    "col_rmsp = ['ID', 'LONGITUDE', 'LATITUDE', 'CODESCTX','NOMEESC', 'NOMEMUN','CODMUN', 'NOMDIST', 'CODDIST', 'COD_SC',\n",
    "           'BAIRRO','CEP','END_ESC','NUM_ESC','DDD','TELEFONE','ENS_REG','REG_IN_CR','REG_IN_PE','REG_FU_8A',\n",
    "           'REG_FU_9A','REG_MED','REG_MED_I','REG_MED_N','REG_MED_P','ENS_ESP','ESP_IN_CR','ESP_IN_PE',\n",
    "           'ESP_FU_8A','ESP_FU_9A','ESP_MED','ESP_MED_I','ESP_MED_N','ESP_MED_P','ESP_EJA_F','ESP_EJA_M','EJA',\n",
    "           'EJA_FUND','EJA_MED','EJA_PROJ']\n",
    "esc_rmsp = esc_rmsp.drop(col_rmsp, axis = 1)"
   ]
  },
  {
   "cell_type": "code",
   "execution_count": 52,
   "metadata": {},
   "outputs": [
    {
     "name": "stdout",
     "output_type": "stream",
     "text": [
      "Dados escolares(104292, 18)\n",
      "Rendimento(14944, 13)\n",
      "ESC_RMSP(10937, 96)\n",
      "Nota(1243, 3)\n"
     ]
    }
   ],
   "source": [
    "#verificando o tamanho\n",
    "print ( 'Dados escolares' + str(dados_escolares.shape))\n",
    "print ( 'Rendimento' + str(rendimento.shape))\n",
    "print ( 'ESC_RMSP' + str(esc_rmsp.shape))\n",
    "print( 'Nota' + str(nota.shape))"
   ]
  },
  {
   "cell_type": "code",
   "execution_count": 53,
   "metadata": {},
   "outputs": [],
   "source": [
    "#Unificando os dados de vários anos\n",
    "dados_escolares = dados_escolares.groupby('CODMEC').mean()\n",
    "rendimento = rendimento.groupby('CODMEC').mean()\n",
    "esc_rmsp = esc_rmsp.groupby('CODESC').mean()"
   ]
  },
  {
   "cell_type": "code",
   "execution_count": 54,
   "metadata": {},
   "outputs": [
    {
     "name": "stdout",
     "output_type": "stream",
     "text": [
      "Dados escolares(9642, 14)\n",
      "Rendimento(4892, 12)\n",
      "ESC_RMSP(10937, 93)\n",
      "Nota(1243, 3)\n"
     ]
    }
   ],
   "source": [
    "#verificando o tamanho\n",
    "print ( 'Dados escolares' + str(dados_escolares.shape))\n",
    "print ( 'Rendimento' + str(rendimento.shape))\n",
    "print ( 'ESC_RMSP' + str(esc_rmsp.shape))\n",
    "print( 'Nota' + str(nota.shape))"
   ]
  },
  {
   "cell_type": "code",
   "execution_count": 55,
   "metadata": {},
   "outputs": [],
   "source": [
    "#Apagando a classe desbalanceada\n",
    "nota = nota[nota.Classificacao != 0]"
   ]
  },
  {
   "cell_type": "code",
   "execution_count": 56,
   "metadata": {},
   "outputs": [],
   "source": [
    "#Em todos Dataframes temos mais escolas do que o nosso target\n",
    "dados_escolares = dados_escolares.reset_index()[dados_escolares.reset_index().CODMEC.isin(nota['CODIGO DA ENTIDADE'])]\n",
    "rendimento = rendimento.reset_index()[rendimento.reset_index().CODMEC.isin(nota['CODIGO DA ENTIDADE'])]\n",
    "esc_rmsp = esc_rmsp.reset_index()[esc_rmsp.reset_index().CODESC.isin(nota['CODIGO DA ENTIDADE'])]"
   ]
  },
  {
   "cell_type": "code",
   "execution_count": 57,
   "metadata": {},
   "outputs": [
    {
     "name": "stdout",
     "output_type": "stream",
     "text": [
      "Dados escolares(692, 15)\n",
      "Rendimento(504, 13)\n",
      "ESC_RMSP(1241, 94)\n",
      "Nota(1241, 3)\n"
     ]
    }
   ],
   "source": [
    "#verificando o tamanho\n",
    "print ( 'Dados escolares' + str(dados_escolares.shape))\n",
    "print ( 'Rendimento' + str(rendimento.shape))\n",
    "print ( 'ESC_RMSP' + str(esc_rmsp.shape))\n",
    "print( 'Nota' + str(nota.shape))"
   ]
  },
  {
   "cell_type": "code",
   "execution_count": 58,
   "metadata": {},
   "outputs": [],
   "source": [
    "#apagando as linha com valor NaN\n",
    "dados_escolares.dropna(inplace = True, how = 'any')"
   ]
  },
  {
   "cell_type": "code",
   "execution_count": 59,
   "metadata": {},
   "outputs": [],
   "source": [
    "esc_rmsp.drop(esc_rmsp.columns[esc_rmsp.isnull().mean() > 0.15], axis=1, inplace = True)\n",
    "esc_rmsp.dropna(how='any', axis = 0, inplace = True)"
   ]
  },
  {
   "cell_type": "code",
   "execution_count": 60,
   "metadata": {},
   "outputs": [
    {
     "name": "stdout",
     "output_type": "stream",
     "text": [
      "Dados escolares(690, 15)\n",
      "Rendimento(504, 13)\n",
      "ESC_RMSP(931, 21)\n",
      "Nota(1241, 3)\n"
     ]
    }
   ],
   "source": [
    "#verificando o tamanho\n",
    "print ( 'Dados escolares' + str(dados_escolares.shape))\n",
    "print ( 'Rendimento' + str(rendimento.shape))\n",
    "print ( 'ESC_RMSP' + str(esc_rmsp.shape))\n",
    "print( 'Nota' + str(nota.shape))"
   ]
  },
  {
   "cell_type": "code",
   "execution_count": 75,
   "metadata": {},
   "outputs": [],
   "source": [
    "nota.rename(columns = {'CODIGO DA ENTIDADE':'CODMEC'}, inplace = True)"
   ]
  },
  {
   "cell_type": "code",
   "execution_count": 88,
   "metadata": {},
   "outputs": [],
   "source": [
    "new_df = pd.merge(dados_escolares, nota, on = 'CODMEC')"
   ]
  },
  {
   "cell_type": "code",
   "execution_count": 91,
   "metadata": {},
   "outputs": [
    {
     "data": {
      "text/plain": [
       "Index(['Qtde_Docentes', 'NUM_FUNC', 'CL_CRECHE', 'CL_PRE', 'AL_CRECHE',\n",
       "       'AL_PRE', 'CLEM', 'ALEM', 'CLFUND', 'ALFUND', 'TOTALEJA', 'TOT_EE',\n",
       "       'TOTAL_ALUNOS', 'Classificacao'],\n",
       "      dtype='object')"
      ]
     },
     "execution_count": 91,
     "metadata": {},
     "output_type": "execute_result"
    }
   ],
   "source": [
    "new_df.drop(['CODMEC', 'ANO','NUMERO DE PARTICIPANTES'], axis = 1, inplace = True)\n",
    "new_df.columns"
   ]
  },
  {
   "cell_type": "code",
   "execution_count": 92,
   "metadata": {},
   "outputs": [],
   "source": [
    "data = new_df.drop('Classificacao', axis = 1)\n",
    "target = new_df.Classificacao"
   ]
  },
  {
   "cell_type": "code",
   "execution_count": 115,
   "metadata": {},
   "outputs": [
    {
     "name": "stdout",
     "output_type": "stream",
     "text": [
      "- 0.4017775339450078\n",
      "0.32669680375422194\n",
      "- 0.3647245434379016\n",
      "0.46933406951145606\n",
      "- 0.4149241888977693\n",
      "0.22617913361313455\n",
      "- 0.39421595408007537\n",
      "0.3719938282869293\n",
      "- 0.3944567361106862\n",
      "0.37489445455461556\n"
     ]
    }
   ],
   "source": [
    "lm = LinearRegression()\n",
    "scaler = StandardScaler()\n",
    "data = scaler.fit_transform(data)\n",
    "pca = PCA(0.95)\n",
    "data = pca.fit_transform(data)\n",
    "kf = KFold(5, shuffle = True)\n",
    "for train_i, test_i in kf.split(data):\n",
    "    x_train, x_test = data[train_i], data[test_i]\n",
    "    y_train, y_test = target[train_i], target[test_i]\n",
    "    lm.fit(x_train, y_train)\n",
    "    print('-', lm.score(x_train, y_train))\n",
    "    print(lm.score(x_test, y_test))"
   ]
  },
  {
   "cell_type": "code",
   "execution_count": 113,
   "metadata": {},
   "outputs": [
    {
     "data": {
      "text/plain": [
       "2    492\n",
       "3     84\n",
       "1     74\n",
       "4     40\n",
       "Name: Classificacao, dtype: int64"
      ]
     },
     "execution_count": 113,
     "metadata": {},
     "output_type": "execute_result"
    }
   ],
   "source": [
    "target.value_counts()"
   ]
  },
  {
   "cell_type": "code",
   "execution_count": null,
   "metadata": {},
   "outputs": [],
   "source": []
  }
 ],
 "metadata": {
  "kernelspec": {
   "display_name": "Python 3",
   "language": "python",
   "name": "python3"
  },
  "language_info": {
   "codemirror_mode": {
    "name": "ipython",
    "version": 3
   },
   "file_extension": ".py",
   "mimetype": "text/x-python",
   "name": "python",
   "nbconvert_exporter": "python",
   "pygments_lexer": "ipython3",
   "version": "3.7.3"
  }
 },
 "nbformat": 4,
 "nbformat_minor": 2
}
