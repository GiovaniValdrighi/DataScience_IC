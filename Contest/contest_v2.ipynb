{
 "cells": [
  {
   "cell_type": "code",
   "execution_count": 74,
   "metadata": {},
   "outputs": [],
   "source": [
    "import pandas as pd\n",
    "import numpy as np\n",
    "import matplotlib.pyplot as plt\n",
    "from sklearn.svm import SVC\n",
    "from sklearn.svm import SVR\n",
    "from sklearn.decomposition import PCA\n",
    "from sklearn.model_selection import KFold\n",
    "from sklearn.model_selection import GridSearchCV\n",
    "from sklearn.preprocessing import StandardScaler\n",
    "from sklearn.linear_model import LinearRegression\n",
    "from sklearn.model_selection import cross_val_score\n",
    "from sklearn.model_selection import train_test_split\n",
    "from sklearn.metrics import r2_score\n",
    "from random import randint"
   ]
  },
  {
   "cell_type": "code",
   "execution_count": 14,
   "metadata": {},
   "outputs": [],
   "source": [
    "#colunas que escolhi para dados escolares\n",
    "col_escol = ['CODMEC','ANO','TIPOESC','DEP','Qtde_Docentes','NUM_FUNC','MERENDA','CLFUND',\n",
    "            'ALFUND','TOTALEJA','TOT_EE','TOTAL_ALUNOS','CL_CRECHE','AL_CRECHE','CL_PRE','AL_PRE','CLEM','ALEM']\n",
    "col_rendi = ['CODMEC','EFABAND9ANOS8S','EFABAND9ANOS9S','EFABAND7S','EFABAND8S','TOTALEF_ABAND','TOTALEF_APROV',\n",
    "             'TOTALEF_REPROV','TOTAL_EM_ABAND','TOTAL_EM_REPROV','CONCLUINTES_EM','EPABAND','EPREPROV']\n",
    "dados_escolares = pd.read_csv('DadosEscolares1996-2015.csv', encoding = 'latin1', usecols = col_escol)\n",
    "rendimento = pd.read_csv('RendimentoEscolar2000-2015.csv', encoding = 'latin1', usecols = col_rendi)\n",
    "esc_rmsp = pd.read_csv('ESC2013_RMSP_CEM.csv', encoding = 'latin1')\n",
    "nota = pd.read_csv('ENEM2015.csv')\n",
    "#como eu abri todas as colunas do esc_rmsp, agora vou retirar as que não desejo usar\n",
    "col_rmsp = ['ID', 'LONGITUDE', 'LATITUDE', 'CODESCTX','NOMEESC', 'NOMEMUN','CODMUN', 'NOMDIST', 'CODDIST', 'COD_SC',\n",
    "           'BAIRRO','CEP','END_ESC','NUM_ESC','DDD','TELEFONE','ENS_REG','REG_IN_CR','REG_IN_PE','REG_FU_8A',\n",
    "           'REG_FU_9A','REG_MED','REG_MED_I','REG_MED_N','REG_MED_P','ENS_ESP','ESP_IN_CR','ESP_IN_PE',\n",
    "           'ESP_FU_8A','ESP_FU_9A','ESP_MED','ESP_MED_I','ESP_MED_N','ESP_MED_P','ESP_EJA_F','ESP_EJA_M','EJA',\n",
    "           'EJA_FUND','EJA_MED','EJA_PROJ']\n",
    "esc_rmsp = esc_rmsp.drop(col_rmsp, axis = 1)"
   ]
  },
  {
   "cell_type": "code",
   "execution_count": 15,
   "metadata": {},
   "outputs": [
    {
     "name": "stdout",
     "output_type": "stream",
     "text": [
      "Dados escolares(104292, 18)\n",
      "Rendimento(14944, 13)\n",
      "ESC_RMSP(10937, 96)\n",
      "Nota(1243, 3)\n"
     ]
    }
   ],
   "source": [
    "#verificando o tamanho\n",
    "print ( 'Dados escolares' + str(dados_escolares.shape))\n",
    "print ( 'Rendimento' + str(rendimento.shape))\n",
    "print ( 'ESC_RMSP' + str(esc_rmsp.shape))\n",
    "print( 'Nota' + str(nota.shape))"
   ]
  },
  {
   "cell_type": "code",
   "execution_count": 16,
   "metadata": {},
   "outputs": [],
   "source": [
    "#def t(x):\n",
    "#    if x==0:\n",
    "#        return None\n",
    "#    else:\n",
    "#        return x\n",
    "#for c in dados_escolares.columns:\n",
    "#    dados_escolares[c] = dados_escolares[c].apply(t)"
   ]
  },
  {
   "cell_type": "code",
   "execution_count": 25,
   "metadata": {},
   "outputs": [],
   "source": [
    "#Agrupo por escolas\n",
    "dados_escolares = dados_escolares.groupby('CODMEC').mean()\n",
    "rendimento = rendimento.groupby('CODMEC').mean()\n",
    "esc_rmsp = esc_rmsp.groupby('CODESC').mean()"
   ]
  },
  {
   "cell_type": "code",
   "execution_count": 26,
   "metadata": {},
   "outputs": [
    {
     "name": "stdout",
     "output_type": "stream",
     "text": [
      "Dados escolares(690, 14)\n",
      "Rendimento(504, 12)\n",
      "ESC_RMSP(931, 20)\n",
      "Nota(1241, 3)\n"
     ]
    }
   ],
   "source": [
    "#verificando o tamanho\n",
    "print ( 'Dados escolares' + str(dados_escolares.shape))\n",
    "print ( 'Rendimento' + str(rendimento.shape))\n",
    "print ( 'ESC_RMSP' + str(esc_rmsp.shape))\n",
    "print( 'Nota' + str(nota.shape))"
   ]
  },
  {
   "cell_type": "code",
   "execution_count": 27,
   "metadata": {},
   "outputs": [],
   "source": [
    "#Apagando a classe desbalanceada\n",
    "nota = nota[nota.Classificacao != 0]\n",
    "#Em todos Dataframes temos mais escolas do que o nosso target\n",
    "dados_escolares = dados_escolares.reset_index()[dados_escolares.reset_index().CODMEC.isin(nota['CODIGO DA ENTIDADE'])]\n",
    "rendimento = rendimento.reset_index()[rendimento.reset_index().CODMEC.isin(nota['CODIGO DA ENTIDADE'])]\n",
    "esc_rmsp = esc_rmsp.reset_index()[esc_rmsp.reset_index().CODESC.isin(nota['CODIGO DA ENTIDADE'])]"
   ]
  },
  {
   "cell_type": "code",
   "execution_count": 28,
   "metadata": {},
   "outputs": [
    {
     "name": "stdout",
     "output_type": "stream",
     "text": [
      "Dados escolares(690, 15)\n",
      "Rendimento(504, 13)\n",
      "ESC_RMSP(931, 21)\n",
      "Nota(1241, 3)\n"
     ]
    }
   ],
   "source": [
    "#verificando o tamanho\n",
    "print ( 'Dados escolares' + str(dados_escolares.shape))\n",
    "print ( 'Rendimento' + str(rendimento.shape))\n",
    "print ( 'ESC_RMSP' + str(esc_rmsp.shape))\n",
    "print( 'Nota' + str(nota.shape))"
   ]
  },
  {
   "cell_type": "code",
   "execution_count": 29,
   "metadata": {},
   "outputs": [],
   "source": [
    "#apagando as linha com valor NaN\n",
    "dados_escolares.dropna(inplace = True, how = 'any')\n",
    "esc_rmsp.drop(esc_rmsp.columns[esc_rmsp.isnull().mean() > 0.15], axis=1, inplace = True)\n",
    "esc_rmsp.dropna(how='any', axis = 0, inplace = True)"
   ]
  },
  {
   "cell_type": "code",
   "execution_count": 30,
   "metadata": {},
   "outputs": [
    {
     "name": "stdout",
     "output_type": "stream",
     "text": [
      "Dados escolares(690, 15)\n",
      "Rendimento(504, 13)\n",
      "ESC_RMSP(931, 21)\n",
      "Nota(1241, 3)\n"
     ]
    }
   ],
   "source": [
    "#verificando o tamanho\n",
    "print ( 'Dados escolares' + str(dados_escolares.shape))\n",
    "print ( 'Rendimento' + str(rendimento.shape))\n",
    "print ( 'ESC_RMSP' + str(esc_rmsp.shape))\n",
    "print( 'Nota' + str(nota.shape))"
   ]
  },
  {
   "cell_type": "code",
   "execution_count": 31,
   "metadata": {},
   "outputs": [],
   "source": [
    "#Alterando o nome da coluna para o merge\n",
    "nota.rename(columns = {'CODIGO DA ENTIDADE':'CODMEC'}, inplace = True)\n",
    "#criando o merge com base na coluna CODMEC usando o dataframe target e os dados escolares\n",
    "new_df = pd.merge(dados_escolares, nota, on = 'CODMEC')\n",
    "new_df.drop(['CODMEC', 'ANO','NUMERO DE PARTICIPANTES'], axis = 1, inplace = True)"
   ]
  },
  {
   "cell_type": "code",
   "execution_count": 37,
   "metadata": {},
   "outputs": [],
   "source": [
    "#criando o data e o target\n",
    "data = new_df.drop('Classificacao', axis = 1)\n",
    "target = new_df.Classificacao"
   ]
  },
  {
   "cell_type": "code",
   "execution_count": 134,
   "metadata": {},
   "outputs": [
    {
     "name": "stdout",
     "output_type": "stream",
     "text": [
      "Kfolds results:  [0.4808406694753451, 0.4655680690228231, 0.3975419271105904, 0.3668001977695857, 0.33174411057519326]\n"
     ]
    }
   ],
   "source": [
    "lm = LinearRegression()\n",
    "scaler = StandardScaler()\n",
    "data1 = scaler.fit_transform(data)\n",
    "kf = KFold(5, shuffle = True)\n",
    "r = []\n",
    "for train_i, test_i in kf.split(data):\n",
    "    x_train, x_test = data1[train_i], data1[test_i]\n",
    "    y_train, y_test = target[train_i], target[test_i]\n",
    "    lm.fit(x_train, y_train)\n",
    "    r.append(lm.score(x_test, y_test))\n",
    "r.sort(reverse = True)\n",
    "print('Kfolds results: ', r)"
   ]
  },
  {
   "cell_type": "code",
   "execution_count": 40,
   "metadata": {},
   "outputs": [],
   "source": [
    "def modelo_svm_kf(data, target, gamma, C, k):\n",
    "    kf = KFold(n_splits = k)\n",
    "    scores = []\n",
    "    for g in gamma:\n",
    "            for c in C:\n",
    "                mean_kf = []\n",
    "                for train_i, test_i in kf.split(data):\n",
    "                    #separação dos dados em treino e teste\n",
    "                    data_train, data_test = data.iloc[train_i], data.iloc[test_i]\n",
    "                    target_train, target_test = target[train_i], target[test_i]\n",
    "                    \n",
    "                    #normalização dos dados\n",
    "                    scaler = StandardScaler()\n",
    "                    scaler.fit(data_train)\n",
    "                    data_train = scaler.transform(data_train)\n",
    "                    data_test = scaler.transform(data_test)\n",
    "                    \n",
    "                    #pca nos dados\n",
    "                    pca = PCA(0.95)\n",
    "                    pca.fit(data_train)\n",
    "                    data_train = pca.transform(data_train)\n",
    "                    data_test = pca.transform(data_test)\n",
    "                    \n",
    "                    #rodando o svm\n",
    "                    svc = SVC(kernel = 'rbf', C=c, gamma = g)\n",
    "                    svc.fit(data_train,target_train)\n",
    "                    mean_kf.append(svc.score(data_test,target_test))\n",
    "                                   \n",
    "                #salvando a média do KFold para g e c dados\n",
    "                scores.append(((sum(mean_kf)/len(mean_kf)), g, c))\n",
    "                print('Iteração com gamma %f e c %f concluída' %(g, c))\n",
    "    return scores"
   ]
  },
  {
   "cell_type": "code",
   "execution_count": 135,
   "metadata": {},
   "outputs": [
    {
     "name": "stdout",
     "output_type": "stream",
     "text": [
      "Iteração com gamma 0.010000 e c 0.010000 concluída\n",
      "Iteração com gamma 0.010000 e c 0.100000 concluída\n",
      "Iteração com gamma 0.010000 e c 1.000000 concluída\n",
      "Iteração com gamma 0.010000 e c 10.000000 concluída\n",
      "Iteração com gamma 0.010000 e c 100.000000 concluída\n",
      "Iteração com gamma 0.100000 e c 0.010000 concluída\n",
      "Iteração com gamma 0.100000 e c 0.100000 concluída\n",
      "Iteração com gamma 0.100000 e c 1.000000 concluída\n",
      "Iteração com gamma 0.100000 e c 10.000000 concluída\n",
      "Iteração com gamma 0.100000 e c 100.000000 concluída\n",
      "Iteração com gamma 1.000000 e c 0.010000 concluída\n",
      "Iteração com gamma 1.000000 e c 0.100000 concluída\n",
      "Iteração com gamma 1.000000 e c 1.000000 concluída\n",
      "Iteração com gamma 1.000000 e c 10.000000 concluída\n",
      "Iteração com gamma 1.000000 e c 100.000000 concluída\n",
      "Iteração com gamma 10.000000 e c 0.010000 concluída\n",
      "Iteração com gamma 10.000000 e c 0.100000 concluída\n",
      "Iteração com gamma 10.000000 e c 1.000000 concluída\n",
      "Iteração com gamma 10.000000 e c 10.000000 concluída\n",
      "Iteração com gamma 10.000000 e c 100.000000 concluída\n",
      "Iteração com gamma 100.000000 e c 0.010000 concluída\n",
      "Iteração com gamma 100.000000 e c 0.100000 concluída\n",
      "Iteração com gamma 100.000000 e c 1.000000 concluída\n",
      "Iteração com gamma 100.000000 e c 10.000000 concluída\n",
      "Iteração com gamma 100.000000 e c 100.000000 concluída\n"
     ]
    },
    {
     "data": {
      "text/plain": [
       "[(0.7130434782608696, 100, 0.01),\n",
       " (0.7130434782608696, 100, 0.1),\n",
       " (0.7130434782608696, 100, 1),\n",
       " (0.7159420289855072, 0.01, 100),\n",
       " (0.7246376811594203, 0.01, 1)]"
      ]
     },
     "execution_count": 135,
     "metadata": {},
     "output_type": "execute_result"
    }
   ],
   "source": [
    "res = modelo_svm_kf(data, target, gamma = [0.01, 0.1, 1, 10, 100], C = [0.01, 0.1, 1, 10, 100], k = 5)\n",
    "res.sort()\n",
    "res[-5:]"
   ]
  },
  {
   "cell_type": "code",
   "execution_count": 167,
   "metadata": {},
   "outputs": [
    {
     "name": "stdout",
     "output_type": "stream",
     "text": [
      "Treino:  [0.14075827]\n",
      "Teste:  [-0.22302813]\n"
     ]
    }
   ],
   "source": [
    "params = {'kernel': ['rbf'], 'C':[0.1], 'gamma':[100]}\n",
    "svr = SVR()\n",
    "clf = GridSearchCV(estimator = svr, param_grid = params, cv = 5, return_train_score=True)\n",
    "clf.fit(data, target)\n",
    "print( 'Treino: ', clf.cv_results_['mean_train_score'])\n",
    "print( 'Teste: ', clf.cv_results_['mean_test_score'])"
   ]
  },
  {
   "cell_type": "code",
   "execution_count": null,
   "metadata": {},
   "outputs": [],
   "source": [
    "svr = SVR(kernel = 'linear')\n",
    "x_train, x_test, y_train, y_test = train_test_split(data, target, test_size = 0.2)\n",
    "svr.fit(x_train, y_train)\n",
    "print( 'Treino: ', svr.score(x_train, y_train))\n",
    "print( 'Teste: ', svr.score(x_test, y_test))"
   ]
  },
  {
   "cell_type": "code",
   "execution_count": null,
   "metadata": {},
   "outputs": [],
   "source": []
  },
  {
   "cell_type": "code",
   "execution_count": null,
   "metadata": {},
   "outputs": [],
   "source": []
  }
 ],
 "metadata": {
  "kernelspec": {
   "display_name": "Python 3",
   "language": "python",
   "name": "python3"
  },
  "language_info": {
   "codemirror_mode": {
    "name": "ipython",
    "version": 3
   },
   "file_extension": ".py",
   "mimetype": "text/x-python",
   "name": "python",
   "nbconvert_exporter": "python",
   "pygments_lexer": "ipython3",
   "version": "3.7.3"
  }
 },
 "nbformat": 4,
 "nbformat_minor": 2
}
