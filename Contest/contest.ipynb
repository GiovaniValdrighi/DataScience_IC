{
 "cells": [
  {
   "cell_type": "code",
   "execution_count": 2,
   "metadata": {},
   "outputs": [],
   "source": [
    "import pandas as pd\n",
    "import numpy as np\n",
    "import altair as alt\n",
    "import matplotlib.pyplot as plt\n",
    "from sklearn.svm import SVC\n",
    "from sklearn.decomposition import PCA\n",
    "from sklearn.model_selection import KFold\n",
    "from sklearn.preprocessing import StandardScaler\n",
    "from sklearn.linear_model import LinearRegression"
   ]
  },
  {
   "cell_type": "code",
   "execution_count": 3,
   "metadata": {},
   "outputs": [
    {
     "name": "stderr",
     "output_type": "stream",
     "text": [
      "C:\\Users\\giova\\Anaconda3\\lib\\site-packages\\IPython\\core\\interactiveshell.py:3020: DtypeWarning: Columns (11) have mixed types. Specify dtype option on import or set low_memory=False.\n",
      "  interactivity=interactivity, compiler=compiler, result=result)\n"
     ]
    }
   ],
   "source": [
    "#colunas que escolhi para dados escolares\n",
    "col_escol = ['CODMEC','ANO','TIPOESC','DEP','Qtde_Docentes','NUM_FUNC','MERENDA','CLFUND',\n",
    "            'ALFUND','TOTALEJA','TOT_EE','TOTAL_ALUNOS','CL_CRECHE','AL_CRECHE','CL_PRE','AL_PRE','CLEM','ALEM']\n",
    "col_rendi = ['CODMEC','EFABAND9ANOS8S','EFABAND9ANOS9S','EFABAND7S','EFABAND8S','TOTALEF_ABAND','TOTALEF_APROV',\n",
    "             'TOTALEF_REPROV','TOTAL_EM_ABAND','TOTAL_EM_REPROV','CONCLUINTES_EM','EPABAND','EPREPROV']\n",
    "dados_escolares = pd.read_csv('DadosEscolares1996-2015.csv', encoding = 'latin1', usecols = col_escol)\n",
    "rendimento = pd.read_csv('RendimentoEscolar2000-2015.csv', encoding = 'latin1', usecols = col_rendi)\n",
    "esc_rmsp = pd.read_csv('ESC2013_RMSP_CEM.csv', encoding = 'latin1')\n",
    "nota = pd.read_csv('ENEM2015.csv')"
   ]
  },
  {
   "cell_type": "code",
   "execution_count": 4,
   "metadata": {},
   "outputs": [
    {
     "name": "stdout",
     "output_type": "stream",
     "text": [
      "Dados escolares(104292, 18)\n",
      "Rendimento(14944, 13)\n",
      "ESC_RMSP(10937, 136)\n",
      "Nota(1243, 3)\n"
     ]
    }
   ],
   "source": [
    "#verificando o tamanho\n",
    "print ( 'Dados escolares' + str(dados_escolares.shape))\n",
    "print ( 'Rendimento' + str(rendimento.shape))\n",
    "print ( 'ESC_RMSP' + str(esc_rmsp.shape))\n",
    "print( 'Nota' + str(nota.shape))"
   ]
  },
  {
   "cell_type": "code",
   "execution_count": 5,
   "metadata": {},
   "outputs": [],
   "source": [
    "#Existem escolas que estão no dataframe dados_escolares, rendimento, esc_rmsp que eu não tenho o valor da nota dela\n",
    "#Preciso retirar escolas que não estão no dataframe nota\n",
    "dados_escolares = dados_escolares[dados_escolares.CODMEC.isin(nota['CODIGO DA ENTIDADE'])]\n",
    "rendimento = rendimento[rendimento.CODMEC.isin(nota['CODIGO DA ENTIDADE'])]\n",
    "esc_rmsp = esc_rmsp[esc_rmsp.CODESC.isin(nota['CODIGO DA ENTIDADE'])]"
   ]
  },
  {
   "cell_type": "code",
   "execution_count": 6,
   "metadata": {},
   "outputs": [],
   "source": [
    "#retirando as colunas em que mais que 50% dos valores são null\n",
    "dados_escolares1 = dados_escolares.drop(dados_escolares.columns[dados_escolares.isnull().mean()>0.5], axis = 1)\n",
    "#apagando as linha com valor NaN\n",
    "dados_escolares1.dropna(inplace = True, how = 'any')"
   ]
  },
  {
   "cell_type": "code",
   "execution_count": 7,
   "metadata": {},
   "outputs": [],
   "source": [
    "#como eu abri todas as colunas do esc_rmsp, agora vou retirar as que não desejo usar\n",
    "col_rmsp = ['ID', 'LONGITUDE', 'LATITUDE', 'CODESCTX','NOMEESC', 'NOMEMUN','CODMUN', 'NOMDIST', 'CODDIST', 'COD_SC',\n",
    "           'BAIRRO','CEP','END_ESC','NUM_ESC','DDD','TELEFONE','ENS_REG','REG_IN_CR','REG_IN_PE','REG_FU_8A',\n",
    "           'REG_FU_9A','REG_MED','REG_MED_I','REG_MED_N','REG_MED_P','ENS_ESP','ESP_IN_CR','ESP_IN_PE',\n",
    "           'ESP_FU_8A','ESP_FU_9A','ESP_MED','ESP_MED_I','ESP_MED_N','ESP_MED_P','ESP_EJA_F','ESP_EJA_M','EJA',\n",
    "           'EJA_FUND','EJA_MED','EJA_PROJ']\n",
    "esc_rmsp1 = esc_rmsp.drop(col_rmsp, axis = 1)"
   ]
  },
  {
   "cell_type": "code",
   "execution_count": 8,
   "metadata": {},
   "outputs": [],
   "source": [
    "esc_rmsp1.drop(esc_rmsp1.columns[esc_rmsp1.isnull().mean() > 0.3], axis=1, inplace = True)\n",
    "esc_rmsp1.dropna(how='any', axis = 0, inplace = True)"
   ]
  },
  {
   "cell_type": "code",
   "execution_count": 9,
   "metadata": {},
   "outputs": [
    {
     "name": "stdout",
     "output_type": "stream",
     "text": [
      "Dados escolares 0\n",
      "Rendimento 0\n",
      "ESC_RMSP1 0\n"
     ]
    }
   ],
   "source": [
    "print('Dados escolares', dados_escolares1.isnull().sum().sum())\n",
    "print('Rendimento', rendimento.isnull().sum().sum())\n",
    "print('ESC_RMSP1', esc_rmsp1.isnull().sum().sum())"
   ]
  },
  {
   "cell_type": "code",
   "execution_count": 10,
   "metadata": {},
   "outputs": [],
   "source": [
    "#primeiro teste vai ser o mais simples e fácil, usar o maior dataset que tenho\n",
    "teste1 = pd.merge(dados_escolares1, nota, how = 'inner', left_on = 'CODMEC', right_on = 'CODIGO DA ENTIDADE')\n",
    "teste1.drop(['ANO', 'TIPOESC', 'CODIGO DA ENTIDADE', 'NUMERO DE PARTICIPANTES'], axis = 1, inplace = True)\n",
    "dep = {'Privada': 'privada', 'Estadual':'estadual', 'PRIVADA':'privada', 'ESTADUAL':'estadual',\n",
    "      'privada':'privada', 'PARTICULAR':'privada','Municipal':'municipal','MUNICIPAL':'municipal',\n",
    "      'Federal':'federal', 'FEDERAL':'federal'}\n",
    "teste1.DEP = teste1.DEP.map(dep)\n",
    "teste1 = pd.get_dummies(teste1, 'DEP')"
   ]
  },
  {
   "cell_type": "code",
   "execution_count": 11,
   "metadata": {},
   "outputs": [],
   "source": [
    "target = teste1.Classificacao\n",
    "data = teste1.drop('Classificacao', axis =1)"
   ]
  },
  {
   "cell_type": "code",
   "execution_count": 13,
   "metadata": {},
   "outputs": [
    {
     "data": {
      "text/plain": [
       "2    7249\n",
       "3    1355\n",
       "1    1130\n",
       "4     656\n",
       "0       3\n",
       "Name: Classificacao, dtype: int64"
      ]
     },
     "execution_count": 13,
     "metadata": {},
     "output_type": "execute_result"
    }
   ],
   "source": [
    "target.value_counts()"
   ]
  },
  {
   "cell_type": "code",
   "execution_count": 11,
   "metadata": {},
   "outputs": [],
   "source": [
    "def modelo_linear():\n",
    "    kf = KFold(n_splits = 5)\n",
    "    coe = []\n",
    "    scor = []\n",
    "    for train_index, test_index in kf.split(data):\n",
    "        #separando em x,y treino e x,y teste\n",
    "        x_train, x_test = np.array(data)[train_index], np.array(data)[test_index]\n",
    "        y_train, y_test = np.array(target)[train_index], np.array(target)[test_index]\n",
    "        #fit o scaler com base no train, transform train e test\n",
    "        scaler = StandardScaler()\n",
    "        scaler.fit(x_train)\n",
    "        x_train_scaled = scaler.transform(x_train)\n",
    "        x_test_scaled = scaler.transform(x_test)\n",
    "        #fit o pca com base no train, transform train e test\n",
    "        pca = PCA(0.95)\n",
    "        pca.fit(x_train_scaled)\n",
    "        x_train_scaled = pca.transform(x_train_scaled)\n",
    "        x_test = pca.transform(x_test_scaled)\n",
    "        #fitando o linear regression no train, avaliando no test\n",
    "        lm = LinearRegression()\n",
    "        lm.fit(x_train_scaled, y_train)        \n",
    "        scor.append(lm.score(x_test, y_test))\n",
    "        coe.append(lm.coef_)\n",
    "    return scor, coe"
   ]
  },
  {
   "cell_type": "code",
   "execution_count": 12,
   "metadata": {},
   "outputs": [
    {
     "data": {
      "text/plain": [
       "([0.1884377829856061,\n",
       "  0.09029241349298468,\n",
       "  -0.15601777565502362,\n",
       "  0.18170305307324452,\n",
       "  -0.0383385878570599],\n",
       " [array([ 0.10588923,  0.03667219,  0.04362433,  0.11378414, -0.05950105,\n",
       "          0.06695005,  0.07821987, -0.02149581]),\n",
       "  array([ 0.12864273,  0.04836024,  0.00351143,  0.14150184, -0.0147282 ,\n",
       "          0.06294633,  0.09677731, -0.06857373]),\n",
       "  array([ 0.14567619, -0.00281191,  0.00208543, -0.1196628 ,  0.05351346,\n",
       "          0.05477117,  0.06823988, -0.11016167]),\n",
       "  array([ 0.12778289, -0.07690021, -0.02465833,  0.02082304,  0.08746063,\n",
       "          0.0120282 ,  0.04965883, -0.04933183]),\n",
       "  array([ 0.13489566,  0.08708272, -0.00263264, -0.05646346,  0.04594472,\n",
       "          0.07295263, -0.10952338])])"
      ]
     },
     "execution_count": 12,
     "metadata": {},
     "output_type": "execute_result"
    }
   ],
   "source": [
    "modelo_linear()"
   ]
  },
  {
   "cell_type": "code",
   "execution_count": 37,
   "metadata": {},
   "outputs": [],
   "source": [
    "def modelo_svm(data, target, gamma, C):\n",
    "    scaler = StandardScaler()\n",
    "    data = scaler.fit_transform(data)\n",
    "    pca = PCA(0.95)\n",
    "    data = pca.fit_transform(data)\n",
    "    scores = []\n",
    "    for g in gamma:\n",
    "        for c in C:\n",
    "            svc = SVC(kernel = 'rbf', C=c, gamma = g)\n",
    "            svc.fit(data,target)\n",
    "            scores.append((svc.score(data,target), g, c))\n",
    "            print('Iteração com gamma %f e c %f concluída' %(g, c))\n",
    "    return scores"
   ]
  },
  {
   "cell_type": "code",
   "execution_count": 38,
   "metadata": {},
   "outputs": [
    {
     "name": "stderr",
     "output_type": "stream",
     "text": [
      "C:\\Users\\giova\\Anaconda3\\lib\\site-packages\\sklearn\\preprocessing\\data.py:625: DataConversionWarning: Data with input dtype uint8, int64, float64 were all converted to float64 by StandardScaler.\n",
      "  return self.partial_fit(X, y)\n",
      "C:\\Users\\giova\\Anaconda3\\lib\\site-packages\\sklearn\\base.py:462: DataConversionWarning: Data with input dtype uint8, int64, float64 were all converted to float64 by StandardScaler.\n",
      "  return self.fit(X, **fit_params).transform(X)\n"
     ]
    },
    {
     "name": "stdout",
     "output_type": "stream",
     "text": [
      "Iteração com gamma 1.000000 e c 1.000000 concluída\n",
      "Iteração com gamma 1.000000 e c 1.500000 concluída\n",
      "Iteração com gamma 1.000000 e c 2.000000 concluída\n",
      "Iteração com gamma 1.000000 e c 2.500000 concluída\n",
      "Iteração com gamma 1.000000 e c 3.000000 concluída\n",
      "Iteração com gamma 1.000000 e c 3.500000 concluída\n",
      "Iteração com gamma 1.000000 e c 4.000000 concluída\n",
      "Iteração com gamma 1.000000 e c 4.500000 concluída\n",
      "Iteração com gamma 1.000000 e c 5.000000 concluída\n",
      "Iteração com gamma 1.500000 e c 1.000000 concluída\n",
      "Iteração com gamma 1.500000 e c 1.500000 concluída\n",
      "Iteração com gamma 1.500000 e c 2.000000 concluída\n",
      "Iteração com gamma 1.500000 e c 2.500000 concluída\n",
      "Iteração com gamma 1.500000 e c 3.000000 concluída\n",
      "Iteração com gamma 1.500000 e c 3.500000 concluída\n",
      "Iteração com gamma 1.500000 e c 4.000000 concluída\n",
      "Iteração com gamma 1.500000 e c 4.500000 concluída\n",
      "Iteração com gamma 1.500000 e c 5.000000 concluída\n",
      "Iteração com gamma 2.000000 e c 1.000000 concluída\n",
      "Iteração com gamma 2.000000 e c 1.500000 concluída\n",
      "Iteração com gamma 2.000000 e c 2.000000 concluída\n",
      "Iteração com gamma 2.000000 e c 2.500000 concluída\n",
      "Iteração com gamma 2.000000 e c 3.000000 concluída\n",
      "Iteração com gamma 2.000000 e c 3.500000 concluída\n",
      "Iteração com gamma 2.000000 e c 4.000000 concluída\n",
      "Iteração com gamma 2.000000 e c 4.500000 concluída\n",
      "Iteração com gamma 2.000000 e c 5.000000 concluída\n",
      "Iteração com gamma 2.500000 e c 1.000000 concluída\n",
      "Iteração com gamma 2.500000 e c 1.500000 concluída\n",
      "Iteração com gamma 2.500000 e c 2.000000 concluída\n",
      "Iteração com gamma 2.500000 e c 2.500000 concluída\n",
      "Iteração com gamma 2.500000 e c 3.000000 concluída\n",
      "Iteração com gamma 2.500000 e c 3.500000 concluída\n",
      "Iteração com gamma 2.500000 e c 4.000000 concluída\n",
      "Iteração com gamma 2.500000 e c 4.500000 concluída\n",
      "Iteração com gamma 2.500000 e c 5.000000 concluída\n",
      "Iteração com gamma 3.000000 e c 1.000000 concluída\n",
      "Iteração com gamma 3.000000 e c 1.500000 concluída\n",
      "Iteração com gamma 3.000000 e c 2.000000 concluída\n",
      "Iteração com gamma 3.000000 e c 2.500000 concluída\n",
      "Iteração com gamma 3.000000 e c 3.000000 concluída\n",
      "Iteração com gamma 3.000000 e c 3.500000 concluída\n",
      "Iteração com gamma 3.000000 e c 4.000000 concluída\n",
      "Iteração com gamma 3.000000 e c 4.500000 concluída\n",
      "Iteração com gamma 3.000000 e c 5.000000 concluída\n",
      "Iteração com gamma 3.500000 e c 1.000000 concluída\n",
      "Iteração com gamma 3.500000 e c 1.500000 concluída\n",
      "Iteração com gamma 3.500000 e c 2.000000 concluída\n",
      "Iteração com gamma 3.500000 e c 2.500000 concluída\n",
      "Iteração com gamma 3.500000 e c 3.000000 concluída\n",
      "Iteração com gamma 3.500000 e c 3.500000 concluída\n",
      "Iteração com gamma 3.500000 e c 4.000000 concluída\n",
      "Iteração com gamma 3.500000 e c 4.500000 concluída\n",
      "Iteração com gamma 3.500000 e c 5.000000 concluída\n",
      "Iteração com gamma 4.000000 e c 1.000000 concluída\n",
      "Iteração com gamma 4.000000 e c 1.500000 concluída\n",
      "Iteração com gamma 4.000000 e c 2.000000 concluída\n",
      "Iteração com gamma 4.000000 e c 2.500000 concluída\n",
      "Iteração com gamma 4.000000 e c 3.000000 concluída\n",
      "Iteração com gamma 4.000000 e c 3.500000 concluída\n",
      "Iteração com gamma 4.000000 e c 4.000000 concluída\n",
      "Iteração com gamma 4.000000 e c 4.500000 concluída\n",
      "Iteração com gamma 4.000000 e c 5.000000 concluída\n",
      "Iteração com gamma 4.500000 e c 1.000000 concluída\n",
      "Iteração com gamma 4.500000 e c 1.500000 concluída\n",
      "Iteração com gamma 4.500000 e c 2.000000 concluída\n",
      "Iteração com gamma 4.500000 e c 2.500000 concluída\n",
      "Iteração com gamma 4.500000 e c 3.000000 concluída\n",
      "Iteração com gamma 4.500000 e c 3.500000 concluída\n",
      "Iteração com gamma 4.500000 e c 4.000000 concluída\n",
      "Iteração com gamma 4.500000 e c 4.500000 concluída\n",
      "Iteração com gamma 4.500000 e c 5.000000 concluída\n",
      "Iteração com gamma 5.000000 e c 1.000000 concluída\n",
      "Iteração com gamma 5.000000 e c 1.500000 concluída\n",
      "Iteração com gamma 5.000000 e c 2.000000 concluída\n",
      "Iteração com gamma 5.000000 e c 2.500000 concluída\n",
      "Iteração com gamma 5.000000 e c 3.000000 concluída\n",
      "Iteração com gamma 5.000000 e c 3.500000 concluída\n",
      "Iteração com gamma 5.000000 e c 4.000000 concluída\n",
      "Iteração com gamma 5.000000 e c 4.500000 concluída\n",
      "Iteração com gamma 5.000000 e c 5.000000 concluída\n"
     ]
    }
   ],
   "source": [
    "gamma = np.linspace(1,5,9)\n",
    "c = gamma\n",
    "svm1 = modelo_svm(data, target, gamma, c)"
   ]
  },
  {
   "cell_type": "code",
   "execution_count": 43,
   "metadata": {},
   "outputs": [],
   "source": [
    "svm1.sort()"
   ]
  },
  {
   "cell_type": "code",
   "execution_count": 45,
   "metadata": {},
   "outputs": [
    {
     "data": {
      "text/plain": [
       "[(0.8733763109785433, 4.5, 4.5),\n",
       " (0.8753969017608005, 5.0, 4.0),\n",
       " (0.8762628692389108, 4.5, 5.0),\n",
       " (0.8784758972385259, 5.0, 4.5),\n",
       " (0.8812662368902145, 5.0, 5.0)]"
      ]
     },
     "execution_count": 45,
     "metadata": {},
     "output_type": "execute_result"
    }
   ],
   "source": [
    "svm1[-5:]"
   ]
  },
  {
   "cell_type": "code",
   "execution_count": 46,
   "metadata": {},
   "outputs": [
    {
     "name": "stderr",
     "output_type": "stream",
     "text": [
      "C:\\Users\\giova\\Anaconda3\\lib\\site-packages\\sklearn\\preprocessing\\data.py:625: DataConversionWarning: Data with input dtype uint8, int64, float64 were all converted to float64 by StandardScaler.\n",
      "  return self.partial_fit(X, y)\n",
      "C:\\Users\\giova\\Anaconda3\\lib\\site-packages\\sklearn\\base.py:462: DataConversionWarning: Data with input dtype uint8, int64, float64 were all converted to float64 by StandardScaler.\n",
      "  return self.fit(X, **fit_params).transform(X)\n"
     ]
    },
    {
     "name": "stdout",
     "output_type": "stream",
     "text": [
      "Iteração com gamma 5.000000 e c 5.000000 concluída\n",
      "Iteração com gamma 5.000000 e c 5.625000 concluída\n",
      "Iteração com gamma 5.000000 e c 6.250000 concluída\n",
      "Iteração com gamma 5.000000 e c 6.875000 concluída\n",
      "Iteração com gamma 5.000000 e c 7.500000 concluída\n",
      "Iteração com gamma 5.000000 e c 8.125000 concluída\n",
      "Iteração com gamma 5.000000 e c 8.750000 concluída\n",
      "Iteração com gamma 5.000000 e c 9.375000 concluída\n",
      "Iteração com gamma 5.000000 e c 10.000000 concluída\n",
      "Iteração com gamma 5.625000 e c 5.000000 concluída\n",
      "Iteração com gamma 5.625000 e c 5.625000 concluída\n",
      "Iteração com gamma 5.625000 e c 6.250000 concluída\n",
      "Iteração com gamma 5.625000 e c 6.875000 concluída\n",
      "Iteração com gamma 5.625000 e c 7.500000 concluída\n",
      "Iteração com gamma 5.625000 e c 8.125000 concluída\n",
      "Iteração com gamma 5.625000 e c 8.750000 concluída\n",
      "Iteração com gamma 5.625000 e c 9.375000 concluída\n",
      "Iteração com gamma 5.625000 e c 10.000000 concluída\n",
      "Iteração com gamma 6.250000 e c 5.000000 concluída\n",
      "Iteração com gamma 6.250000 e c 5.625000 concluída\n",
      "Iteração com gamma 6.250000 e c 6.250000 concluída\n",
      "Iteração com gamma 6.250000 e c 6.875000 concluída\n",
      "Iteração com gamma 6.250000 e c 7.500000 concluída\n",
      "Iteração com gamma 6.250000 e c 8.125000 concluída\n",
      "Iteração com gamma 6.250000 e c 8.750000 concluída\n",
      "Iteração com gamma 6.250000 e c 9.375000 concluída\n",
      "Iteração com gamma 6.250000 e c 10.000000 concluída\n",
      "Iteração com gamma 6.875000 e c 5.000000 concluída\n",
      "Iteração com gamma 6.875000 e c 5.625000 concluída\n",
      "Iteração com gamma 6.875000 e c 6.250000 concluída\n",
      "Iteração com gamma 6.875000 e c 6.875000 concluída\n",
      "Iteração com gamma 6.875000 e c 7.500000 concluída\n",
      "Iteração com gamma 6.875000 e c 8.125000 concluída\n",
      "Iteração com gamma 6.875000 e c 8.750000 concluída\n",
      "Iteração com gamma 6.875000 e c 9.375000 concluída\n",
      "Iteração com gamma 6.875000 e c 10.000000 concluída\n",
      "Iteração com gamma 7.500000 e c 5.000000 concluída\n",
      "Iteração com gamma 7.500000 e c 5.625000 concluída\n",
      "Iteração com gamma 7.500000 e c 6.250000 concluída\n",
      "Iteração com gamma 7.500000 e c 6.875000 concluída\n",
      "Iteração com gamma 7.500000 e c 7.500000 concluída\n",
      "Iteração com gamma 7.500000 e c 8.125000 concluída\n",
      "Iteração com gamma 7.500000 e c 8.750000 concluída\n",
      "Iteração com gamma 7.500000 e c 9.375000 concluída\n",
      "Iteração com gamma 7.500000 e c 10.000000 concluída\n",
      "Iteração com gamma 8.125000 e c 5.000000 concluída\n",
      "Iteração com gamma 8.125000 e c 5.625000 concluída\n",
      "Iteração com gamma 8.125000 e c 6.250000 concluída\n",
      "Iteração com gamma 8.125000 e c 6.875000 concluída\n",
      "Iteração com gamma 8.125000 e c 7.500000 concluída\n",
      "Iteração com gamma 8.125000 e c 8.125000 concluída\n",
      "Iteração com gamma 8.125000 e c 8.750000 concluída\n",
      "Iteração com gamma 8.125000 e c 9.375000 concluída\n",
      "Iteração com gamma 8.125000 e c 10.000000 concluída\n",
      "Iteração com gamma 8.750000 e c 5.000000 concluída\n",
      "Iteração com gamma 8.750000 e c 5.625000 concluída\n",
      "Iteração com gamma 8.750000 e c 6.250000 concluída\n",
      "Iteração com gamma 8.750000 e c 6.875000 concluída\n",
      "Iteração com gamma 8.750000 e c 7.500000 concluída\n",
      "Iteração com gamma 8.750000 e c 8.125000 concluída\n",
      "Iteração com gamma 8.750000 e c 8.750000 concluída\n",
      "Iteração com gamma 8.750000 e c 9.375000 concluída\n",
      "Iteração com gamma 8.750000 e c 10.000000 concluída\n",
      "Iteração com gamma 9.375000 e c 5.000000 concluída\n",
      "Iteração com gamma 9.375000 e c 5.625000 concluída\n",
      "Iteração com gamma 9.375000 e c 6.250000 concluída\n",
      "Iteração com gamma 9.375000 e c 6.875000 concluída\n",
      "Iteração com gamma 9.375000 e c 7.500000 concluída\n",
      "Iteração com gamma 9.375000 e c 8.125000 concluída\n",
      "Iteração com gamma 9.375000 e c 8.750000 concluída\n",
      "Iteração com gamma 9.375000 e c 9.375000 concluída\n",
      "Iteração com gamma 9.375000 e c 10.000000 concluída\n",
      "Iteração com gamma 10.000000 e c 5.000000 concluída\n",
      "Iteração com gamma 10.000000 e c 5.625000 concluída\n",
      "Iteração com gamma 10.000000 e c 6.250000 concluída\n",
      "Iteração com gamma 10.000000 e c 6.875000 concluída\n",
      "Iteração com gamma 10.000000 e c 7.500000 concluída\n",
      "Iteração com gamma 10.000000 e c 8.125000 concluída\n",
      "Iteração com gamma 10.000000 e c 8.750000 concluída\n",
      "Iteração com gamma 10.000000 e c 9.375000 concluída\n",
      "Iteração com gamma 10.000000 e c 10.000000 concluída\n"
     ]
    }
   ],
   "source": [
    "gamma = np.linspace(5,10,9)\n",
    "c = gamma\n",
    "svm1 = modelo_svm(data, target, gamma, c)"
   ]
  },
  {
   "cell_type": "code",
   "execution_count": 48,
   "metadata": {},
   "outputs": [
    {
     "data": {
      "text/plain": [
       "[(0.9221591455787549, 8.75, 10.0),\n",
       " (0.9224478014047917, 9.375, 8.75),\n",
       " (0.9239872991436544, 9.375, 9.375),\n",
       " (0.9239872991436544, 10.0, 8.125),\n",
       " (0.9253343596651592, 10.0, 8.75),\n",
       " (0.9254305782738381, 9.375, 10.0),\n",
       " (0.9266814201866641, 10.0, 9.375),\n",
       " (0.9276436062734533, 10.0, 10.0)]"
      ]
     },
     "execution_count": 48,
     "metadata": {},
     "output_type": "execute_result"
    }
   ],
   "source": [
    "svm1.sort()\n",
    "svm1[-8:]"
   ]
  },
  {
   "cell_type": "code",
   "execution_count": 49,
   "metadata": {},
   "outputs": [
    {
     "name": "stderr",
     "output_type": "stream",
     "text": [
      "C:\\Users\\giova\\Anaconda3\\lib\\site-packages\\sklearn\\preprocessing\\data.py:625: DataConversionWarning: Data with input dtype uint8, int64, float64 were all converted to float64 by StandardScaler.\n",
      "  return self.partial_fit(X, y)\n",
      "C:\\Users\\giova\\Anaconda3\\lib\\site-packages\\sklearn\\base.py:462: DataConversionWarning: Data with input dtype uint8, int64, float64 were all converted to float64 by StandardScaler.\n",
      "  return self.fit(X, **fit_params).transform(X)\n"
     ]
    },
    {
     "name": "stdout",
     "output_type": "stream",
     "text": [
      "Iteração com gamma 10.000000 e c 10.000000 concluída\n",
      "Iteração com gamma 10.000000 e c 10.625000 concluída\n",
      "Iteração com gamma 10.000000 e c 11.250000 concluída\n",
      "Iteração com gamma 10.000000 e c 11.875000 concluída\n",
      "Iteração com gamma 10.000000 e c 12.500000 concluída\n",
      "Iteração com gamma 10.000000 e c 13.125000 concluída\n",
      "Iteração com gamma 10.000000 e c 13.750000 concluída\n",
      "Iteração com gamma 10.000000 e c 14.375000 concluída\n",
      "Iteração com gamma 10.000000 e c 15.000000 concluída\n",
      "Iteração com gamma 10.625000 e c 10.000000 concluída\n",
      "Iteração com gamma 10.625000 e c 10.625000 concluída\n",
      "Iteração com gamma 10.625000 e c 11.250000 concluída\n",
      "Iteração com gamma 10.625000 e c 11.875000 concluída\n",
      "Iteração com gamma 10.625000 e c 12.500000 concluída\n",
      "Iteração com gamma 10.625000 e c 13.125000 concluída\n",
      "Iteração com gamma 10.625000 e c 13.750000 concluída\n",
      "Iteração com gamma 10.625000 e c 14.375000 concluída\n",
      "Iteração com gamma 10.625000 e c 15.000000 concluída\n",
      "Iteração com gamma 11.250000 e c 10.000000 concluída\n",
      "Iteração com gamma 11.250000 e c 10.625000 concluída\n",
      "Iteração com gamma 11.250000 e c 11.250000 concluída\n",
      "Iteração com gamma 11.250000 e c 11.875000 concluída\n",
      "Iteração com gamma 11.250000 e c 12.500000 concluída\n",
      "Iteração com gamma 11.250000 e c 13.125000 concluída\n",
      "Iteração com gamma 11.250000 e c 13.750000 concluída\n",
      "Iteração com gamma 11.250000 e c 14.375000 concluída\n",
      "Iteração com gamma 11.250000 e c 15.000000 concluída\n",
      "Iteração com gamma 11.875000 e c 10.000000 concluída\n",
      "Iteração com gamma 11.875000 e c 10.625000 concluída\n",
      "Iteração com gamma 11.875000 e c 11.250000 concluída\n",
      "Iteração com gamma 11.875000 e c 11.875000 concluída\n",
      "Iteração com gamma 11.875000 e c 12.500000 concluída\n",
      "Iteração com gamma 11.875000 e c 13.125000 concluída\n",
      "Iteração com gamma 11.875000 e c 13.750000 concluída\n",
      "Iteração com gamma 11.875000 e c 14.375000 concluída\n",
      "Iteração com gamma 11.875000 e c 15.000000 concluída\n",
      "Iteração com gamma 12.500000 e c 10.000000 concluída\n",
      "Iteração com gamma 12.500000 e c 10.625000 concluída\n",
      "Iteração com gamma 12.500000 e c 11.250000 concluída\n",
      "Iteração com gamma 12.500000 e c 11.875000 concluída\n",
      "Iteração com gamma 12.500000 e c 12.500000 concluída\n",
      "Iteração com gamma 12.500000 e c 13.125000 concluída\n",
      "Iteração com gamma 12.500000 e c 13.750000 concluída\n",
      "Iteração com gamma 12.500000 e c 14.375000 concluída\n",
      "Iteração com gamma 12.500000 e c 15.000000 concluída\n",
      "Iteração com gamma 13.125000 e c 10.000000 concluída\n",
      "Iteração com gamma 13.125000 e c 10.625000 concluída\n",
      "Iteração com gamma 13.125000 e c 11.250000 concluída\n",
      "Iteração com gamma 13.125000 e c 11.875000 concluída\n",
      "Iteração com gamma 13.125000 e c 12.500000 concluída\n",
      "Iteração com gamma 13.125000 e c 13.125000 concluída\n",
      "Iteração com gamma 13.125000 e c 13.750000 concluída\n",
      "Iteração com gamma 13.125000 e c 14.375000 concluída\n",
      "Iteração com gamma 13.125000 e c 15.000000 concluída\n",
      "Iteração com gamma 13.750000 e c 10.000000 concluída\n",
      "Iteração com gamma 13.750000 e c 10.625000 concluída\n",
      "Iteração com gamma 13.750000 e c 11.250000 concluída\n",
      "Iteração com gamma 13.750000 e c 11.875000 concluída\n",
      "Iteração com gamma 13.750000 e c 12.500000 concluída\n",
      "Iteração com gamma 13.750000 e c 13.125000 concluída\n",
      "Iteração com gamma 13.750000 e c 13.750000 concluída\n",
      "Iteração com gamma 13.750000 e c 14.375000 concluída\n",
      "Iteração com gamma 13.750000 e c 15.000000 concluída\n",
      "Iteração com gamma 14.375000 e c 10.000000 concluída\n",
      "Iteração com gamma 14.375000 e c 10.625000 concluída\n",
      "Iteração com gamma 14.375000 e c 11.250000 concluída\n",
      "Iteração com gamma 14.375000 e c 11.875000 concluída\n",
      "Iteração com gamma 14.375000 e c 12.500000 concluída\n",
      "Iteração com gamma 14.375000 e c 13.125000 concluída\n",
      "Iteração com gamma 14.375000 e c 13.750000 concluída\n",
      "Iteração com gamma 14.375000 e c 14.375000 concluída\n",
      "Iteração com gamma 14.375000 e c 15.000000 concluída\n",
      "Iteração com gamma 15.000000 e c 10.000000 concluída\n",
      "Iteração com gamma 15.000000 e c 10.625000 concluída\n",
      "Iteração com gamma 15.000000 e c 11.250000 concluída\n",
      "Iteração com gamma 15.000000 e c 11.875000 concluída\n",
      "Iteração com gamma 15.000000 e c 12.500000 concluída\n",
      "Iteração com gamma 15.000000 e c 13.125000 concluída\n",
      "Iteração com gamma 15.000000 e c 13.750000 concluída\n",
      "Iteração com gamma 15.000000 e c 14.375000 concluída\n",
      "Iteração com gamma 15.000000 e c 15.000000 concluída\n"
     ]
    }
   ],
   "source": [
    "gamma = np.linspace(10,15,9)\n",
    "c = gamma\n",
    "svm1 = modelo_svm(data, target, gamma, c)"
   ]
  },
  {
   "cell_type": "code",
   "execution_count": 57,
   "metadata": {},
   "outputs": [
    {
     "data": {
      "text/plain": [
       "[(0.9474646396613104, 14.375, 13.75),\n",
       " (0.9477532954873472, 13.75, 15.0),\n",
       " (0.9485230443567786, 15.0, 13.125),\n",
       " (0.9488117001828154, 14.375, 14.375),\n",
       " (0.9495814490522467, 14.375, 15.0),\n",
       " (0.9496776676609257, 15.0, 13.75),\n",
       " (0.9507360723563937, 15.0, 14.375),\n",
       " (0.951505821225825, 15.0, 15.0)]"
      ]
     },
     "execution_count": 57,
     "metadata": {},
     "output_type": "execute_result"
    }
   ],
   "source": [
    "svm1.sort()\n",
    "svm1[-8:]"
   ]
  },
  {
   "cell_type": "code",
   "execution_count": 58,
   "metadata": {},
   "outputs": [],
   "source": [
    "def modelo_svm_kf(data, target, gamma, C):\n",
    "    kf = KFold(n_splits = 5)\n",
    "    scores = []\n",
    "    for g in gamma:\n",
    "            for c in C:\n",
    "                mean_kf = []\n",
    "                for train_i, test_i in kf.split(data):\n",
    "                    #separação dos dados em treino e teste\n",
    "                    data_train, data_test = data[train_i], data[test_i]\n",
    "                    target_train, target_test = target[train_i], target[test_i]\n",
    "                    \n",
    "                    #normalização dos dados\n",
    "                    scaler = StandardScaler()\n",
    "                    scaler.fit(data_train)\n",
    "                    data_train = scaler.transform(data_train)\n",
    "                    data_test = scaler.transform(data_test)\n",
    "                    \n",
    "                    #pca nos dados\n",
    "                    pca = PCA(0.95)\n",
    "                    pca.fit(data_train)\n",
    "                    data_train = pca.transform(data_train)\n",
    "                    data_test = pca.transform(data_test)\n",
    "                    \n",
    "                    #rodando o svm\n",
    "                    svc = SVC(kernel = 'rbf', C=c, gamma = g)\n",
    "                    svc.fit(data_train,target_train)\n",
    "                    mean_kf.append(svc.score(data_test,target_test))\n",
    "                                   \n",
    "                #salvando a média do KFold para g e c dados\n",
    "                scores.append(((sum(mean_kf)/len(mean_kf)), g, c))\n",
    "                print('Iteração com gamma %f e c %f concluída' %(g, c))\n",
    "    return scores"
   ]
  },
  {
   "cell_type": "code",
   "execution_count": 59,
   "metadata": {},
   "outputs": [
    {
     "ename": "KeyError",
     "evalue": "'[ 2079  2080  2081 ... 10390 10391 10392] not in index'",
     "output_type": "error",
     "traceback": [
      "\u001b[1;31m---------------------------------------------------------------------------\u001b[0m",
      "\u001b[1;31mKeyError\u001b[0m                                  Traceback (most recent call last)",
      "\u001b[1;32m<ipython-input-59-faee77ea1886>\u001b[0m in \u001b[0;36m<module>\u001b[1;34m\u001b[0m\n\u001b[1;32m----> 1\u001b[1;33m \u001b[0mmodelo_svm_kf\u001b[0m\u001b[1;33m(\u001b[0m\u001b[0mdata\u001b[0m\u001b[1;33m,\u001b[0m \u001b[0mtarget\u001b[0m\u001b[1;33m,\u001b[0m \u001b[1;33m[\u001b[0m\u001b[1;36m15\u001b[0m\u001b[1;33m]\u001b[0m\u001b[1;33m,\u001b[0m \u001b[1;33m[\u001b[0m\u001b[1;36m15\u001b[0m\u001b[1;33m]\u001b[0m\u001b[1;33m)\u001b[0m\u001b[1;33m\u001b[0m\u001b[1;33m\u001b[0m\u001b[0m\n\u001b[0m",
      "\u001b[1;32m<ipython-input-58-a1fbc12b8aae>\u001b[0m in \u001b[0;36mmodelo_svm_kf\u001b[1;34m(data, target, gamma, C)\u001b[0m\n\u001b[0;32m      7\u001b[0m                 \u001b[1;32mfor\u001b[0m \u001b[0mtrain_i\u001b[0m\u001b[1;33m,\u001b[0m \u001b[0mtest_i\u001b[0m \u001b[1;32min\u001b[0m \u001b[0mkf\u001b[0m\u001b[1;33m.\u001b[0m\u001b[0msplit\u001b[0m\u001b[1;33m(\u001b[0m\u001b[0mdata\u001b[0m\u001b[1;33m)\u001b[0m\u001b[1;33m:\u001b[0m\u001b[1;33m\u001b[0m\u001b[1;33m\u001b[0m\u001b[0m\n\u001b[0;32m      8\u001b[0m                     \u001b[1;31m#separação dos dados em treino e teste\u001b[0m\u001b[1;33m\u001b[0m\u001b[1;33m\u001b[0m\u001b[1;33m\u001b[0m\u001b[0m\n\u001b[1;32m----> 9\u001b[1;33m                     \u001b[0mdata_train\u001b[0m\u001b[1;33m,\u001b[0m \u001b[0mdata_test\u001b[0m \u001b[1;33m=\u001b[0m \u001b[0mdata\u001b[0m\u001b[1;33m[\u001b[0m\u001b[0mtrain_i\u001b[0m\u001b[1;33m]\u001b[0m\u001b[1;33m,\u001b[0m \u001b[0mdata\u001b[0m\u001b[1;33m[\u001b[0m\u001b[0mtest_i\u001b[0m\u001b[1;33m]\u001b[0m\u001b[1;33m\u001b[0m\u001b[1;33m\u001b[0m\u001b[0m\n\u001b[0m\u001b[0;32m     10\u001b[0m                     \u001b[0mtarget_train\u001b[0m\u001b[1;33m,\u001b[0m \u001b[0mtarget_test\u001b[0m \u001b[1;33m=\u001b[0m \u001b[0mtarget\u001b[0m\u001b[1;33m[\u001b[0m\u001b[0mtrain_i\u001b[0m\u001b[1;33m]\u001b[0m\u001b[1;33m,\u001b[0m \u001b[0mtarget\u001b[0m\u001b[1;33m[\u001b[0m\u001b[0mtest_i\u001b[0m\u001b[1;33m]\u001b[0m\u001b[1;33m\u001b[0m\u001b[1;33m\u001b[0m\u001b[0m\n\u001b[0;32m     11\u001b[0m \u001b[1;33m\u001b[0m\u001b[0m\n",
      "\u001b[1;32m~\\Anaconda3\\lib\\site-packages\\pandas\\core\\frame.py\u001b[0m in \u001b[0;36m__getitem__\u001b[1;34m(self, key)\u001b[0m\n\u001b[0;32m   2680\u001b[0m         \u001b[1;32mif\u001b[0m \u001b[0misinstance\u001b[0m\u001b[1;33m(\u001b[0m\u001b[0mkey\u001b[0m\u001b[1;33m,\u001b[0m \u001b[1;33m(\u001b[0m\u001b[0mSeries\u001b[0m\u001b[1;33m,\u001b[0m \u001b[0mnp\u001b[0m\u001b[1;33m.\u001b[0m\u001b[0mndarray\u001b[0m\u001b[1;33m,\u001b[0m \u001b[0mIndex\u001b[0m\u001b[1;33m,\u001b[0m \u001b[0mlist\u001b[0m\u001b[1;33m)\u001b[0m\u001b[1;33m)\u001b[0m\u001b[1;33m:\u001b[0m\u001b[1;33m\u001b[0m\u001b[1;33m\u001b[0m\u001b[0m\n\u001b[0;32m   2681\u001b[0m             \u001b[1;31m# either boolean or fancy integer index\u001b[0m\u001b[1;33m\u001b[0m\u001b[1;33m\u001b[0m\u001b[1;33m\u001b[0m\u001b[0m\n\u001b[1;32m-> 2682\u001b[1;33m             \u001b[1;32mreturn\u001b[0m \u001b[0mself\u001b[0m\u001b[1;33m.\u001b[0m\u001b[0m_getitem_array\u001b[0m\u001b[1;33m(\u001b[0m\u001b[0mkey\u001b[0m\u001b[1;33m)\u001b[0m\u001b[1;33m\u001b[0m\u001b[1;33m\u001b[0m\u001b[0m\n\u001b[0m\u001b[0;32m   2683\u001b[0m         \u001b[1;32melif\u001b[0m \u001b[0misinstance\u001b[0m\u001b[1;33m(\u001b[0m\u001b[0mkey\u001b[0m\u001b[1;33m,\u001b[0m \u001b[0mDataFrame\u001b[0m\u001b[1;33m)\u001b[0m\u001b[1;33m:\u001b[0m\u001b[1;33m\u001b[0m\u001b[1;33m\u001b[0m\u001b[0m\n\u001b[0;32m   2684\u001b[0m             \u001b[1;32mreturn\u001b[0m \u001b[0mself\u001b[0m\u001b[1;33m.\u001b[0m\u001b[0m_getitem_frame\u001b[0m\u001b[1;33m(\u001b[0m\u001b[0mkey\u001b[0m\u001b[1;33m)\u001b[0m\u001b[1;33m\u001b[0m\u001b[1;33m\u001b[0m\u001b[0m\n",
      "\u001b[1;32m~\\Anaconda3\\lib\\site-packages\\pandas\\core\\frame.py\u001b[0m in \u001b[0;36m_getitem_array\u001b[1;34m(self, key)\u001b[0m\n\u001b[0;32m   2724\u001b[0m             \u001b[1;32mreturn\u001b[0m \u001b[0mself\u001b[0m\u001b[1;33m.\u001b[0m\u001b[0m_take\u001b[0m\u001b[1;33m(\u001b[0m\u001b[0mindexer\u001b[0m\u001b[1;33m,\u001b[0m \u001b[0maxis\u001b[0m\u001b[1;33m=\u001b[0m\u001b[1;36m0\u001b[0m\u001b[1;33m)\u001b[0m\u001b[1;33m\u001b[0m\u001b[1;33m\u001b[0m\u001b[0m\n\u001b[0;32m   2725\u001b[0m         \u001b[1;32melse\u001b[0m\u001b[1;33m:\u001b[0m\u001b[1;33m\u001b[0m\u001b[1;33m\u001b[0m\u001b[0m\n\u001b[1;32m-> 2726\u001b[1;33m             \u001b[0mindexer\u001b[0m \u001b[1;33m=\u001b[0m \u001b[0mself\u001b[0m\u001b[1;33m.\u001b[0m\u001b[0mloc\u001b[0m\u001b[1;33m.\u001b[0m\u001b[0m_convert_to_indexer\u001b[0m\u001b[1;33m(\u001b[0m\u001b[0mkey\u001b[0m\u001b[1;33m,\u001b[0m \u001b[0maxis\u001b[0m\u001b[1;33m=\u001b[0m\u001b[1;36m1\u001b[0m\u001b[1;33m)\u001b[0m\u001b[1;33m\u001b[0m\u001b[1;33m\u001b[0m\u001b[0m\n\u001b[0m\u001b[0;32m   2727\u001b[0m             \u001b[1;32mreturn\u001b[0m \u001b[0mself\u001b[0m\u001b[1;33m.\u001b[0m\u001b[0m_take\u001b[0m\u001b[1;33m(\u001b[0m\u001b[0mindexer\u001b[0m\u001b[1;33m,\u001b[0m \u001b[0maxis\u001b[0m\u001b[1;33m=\u001b[0m\u001b[1;36m1\u001b[0m\u001b[1;33m)\u001b[0m\u001b[1;33m\u001b[0m\u001b[1;33m\u001b[0m\u001b[0m\n\u001b[0;32m   2728\u001b[0m \u001b[1;33m\u001b[0m\u001b[0m\n",
      "\u001b[1;32m~\\Anaconda3\\lib\\site-packages\\pandas\\core\\indexing.py\u001b[0m in \u001b[0;36m_convert_to_indexer\u001b[1;34m(self, obj, axis, is_setter)\u001b[0m\n\u001b[0;32m   1325\u001b[0m                 \u001b[1;32mif\u001b[0m \u001b[0mmask\u001b[0m\u001b[1;33m.\u001b[0m\u001b[0many\u001b[0m\u001b[1;33m(\u001b[0m\u001b[1;33m)\u001b[0m\u001b[1;33m:\u001b[0m\u001b[1;33m\u001b[0m\u001b[1;33m\u001b[0m\u001b[0m\n\u001b[0;32m   1326\u001b[0m                     raise KeyError('{mask} not in index'\n\u001b[1;32m-> 1327\u001b[1;33m                                    .format(mask=objarr[mask]))\n\u001b[0m\u001b[0;32m   1328\u001b[0m \u001b[1;33m\u001b[0m\u001b[0m\n\u001b[0;32m   1329\u001b[0m                 \u001b[1;32mreturn\u001b[0m \u001b[0mcom\u001b[0m\u001b[1;33m.\u001b[0m\u001b[0m_values_from_object\u001b[0m\u001b[1;33m(\u001b[0m\u001b[0mindexer\u001b[0m\u001b[1;33m)\u001b[0m\u001b[1;33m\u001b[0m\u001b[1;33m\u001b[0m\u001b[0m\n",
      "\u001b[1;31mKeyError\u001b[0m: '[ 2079  2080  2081 ... 10390 10391 10392] not in index'"
     ]
    }
   ],
   "source": [
    "modelo_svm_kf(data, target, [15], [15])"
   ]
  },
  {
   "cell_type": "code",
   "execution_count": null,
   "metadata": {},
   "outputs": [],
   "source": []
  }
 ],
 "metadata": {
  "kernelspec": {
   "display_name": "Python 3",
   "language": "python",
   "name": "python3"
  },
  "language_info": {
   "codemirror_mode": {
    "name": "ipython",
    "version": 3
   },
   "file_extension": ".py",
   "mimetype": "text/x-python",
   "name": "python",
   "nbconvert_exporter": "python",
   "pygments_lexer": "ipython3",
   "version": "3.7.1"
  }
 },
 "nbformat": 4,
 "nbformat_minor": 2
}
