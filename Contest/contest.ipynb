{
 "cells": [
  {
   "cell_type": "code",
   "execution_count": 1,
   "metadata": {},
   "outputs": [],
   "source": [
    "import pandas as pd\n",
    "import numpy as np\n",
    "import altair as alt\n",
    "import matplotlib.pyplot as plt\n",
    "from sklearn.svm import SVC\n",
    "from sklearn.decomposition import PCA\n",
    "from sklearn.model_selection import KFold\n",
    "from sklearn.preprocessing import StandardScaler\n",
    "from sklearn.linear_model import LinearRegression"
   ]
  },
  {
   "cell_type": "code",
   "execution_count": 2,
   "metadata": {},
   "outputs": [
    {
     "name": "stderr",
     "output_type": "stream",
     "text": [
      "C:\\Users\\giova\\Anaconda3\\lib\\site-packages\\IPython\\core\\interactiveshell.py:3020: DtypeWarning: Columns (11) have mixed types. Specify dtype option on import or set low_memory=False.\n",
      "  interactivity=interactivity, compiler=compiler, result=result)\n"
     ]
    }
   ],
   "source": [
    "#colunas que escolhi para dados escolares\n",
    "col_escol = ['CODMEC','ANO','TIPOESC','DEP','Qtde_Docentes','NUM_FUNC','MERENDA','CLFUND',\n",
    "            'ALFUND','TOTALEJA','TOT_EE','TOTAL_ALUNOS','CL_CRECHE','AL_CRECHE','CL_PRE','AL_PRE','CLEM','ALEM']\n",
    "col_rendi = ['CODMEC','EFABAND9ANOS8S','EFABAND9ANOS9S','EFABAND7S','EFABAND8S','TOTALEF_ABAND','TOTALEF_APROV',\n",
    "             'TOTALEF_REPROV','TOTAL_EM_ABAND','TOTAL_EM_REPROV','CONCLUINTES_EM','EPABAND','EPREPROV']\n",
    "dados_escolares = pd.read_csv('DadosEscolares1996-2015.csv', encoding = 'latin1', usecols = col_escol)\n",
    "rendimento = pd.read_csv('RendimentoEscolar2000-2015.csv', encoding = 'latin1', usecols = col_rendi)\n",
    "esc_rmsp = pd.read_csv('ESC2013_RMSP_CEM.csv', encoding = 'latin1')\n",
    "nota = pd.read_csv('ENEM2015.csv')"
   ]
  },
  {
   "cell_type": "code",
   "execution_count": 3,
   "metadata": {},
   "outputs": [
    {
     "name": "stdout",
     "output_type": "stream",
     "text": [
      "Dados escolares(104292, 18)\n",
      "Rendimento(14944, 13)\n",
      "ESC_RMSP(10937, 136)\n",
      "Nota(1243, 3)\n"
     ]
    }
   ],
   "source": [
    "#verificando o tamanho\n",
    "print ( 'Dados escolares' + str(dados_escolares.shape))\n",
    "print ( 'Rendimento' + str(rendimento.shape))\n",
    "print ( 'ESC_RMSP' + str(esc_rmsp.shape))\n",
    "print( 'Nota' + str(nota.shape))"
   ]
  },
  {
   "cell_type": "code",
   "execution_count": 4,
   "metadata": {},
   "outputs": [],
   "source": [
    "#Existem escolas que estão no dataframe dados_escolares, rendimento, esc_rmsp que eu não tenho o valor da nota dela\n",
    "#Preciso retirar escolas que não estão no dataframe nota\n",
    "dados_escolares = dados_escolares[dados_escolares.CODMEC.isin(nota['CODIGO DA ENTIDADE'])]\n",
    "rendimento = rendimento[rendimento.CODMEC.isin(nota['CODIGO DA ENTIDADE'])]\n",
    "esc_rmsp = esc_rmsp[esc_rmsp.CODESC.isin(nota['CODIGO DA ENTIDADE'])]"
   ]
  },
  {
   "cell_type": "code",
   "execution_count": 5,
   "metadata": {},
   "outputs": [],
   "source": [
    "#retirando as colunas em que mais que 50% dos valores são null\n",
    "dados_escolares1 = dados_escolares.drop(dados_escolares.columns[dados_escolares.isnull().mean()>0.5], axis = 1)\n",
    "#apagando as linha com valor NaN\n",
    "dados_escolares1.dropna(inplace = True, how = 'any')"
   ]
  },
  {
   "cell_type": "code",
   "execution_count": 6,
   "metadata": {},
   "outputs": [],
   "source": [
    "#como eu abri todas as colunas do esc_rmsp, agora vou retirar as que não desejo usar\n",
    "col_rmsp = ['ID', 'LONGITUDE', 'LATITUDE', 'CODESCTX','NOMEESC', 'NOMEMUN','CODMUN', 'NOMDIST', 'CODDIST', 'COD_SC',\n",
    "           'BAIRRO','CEP','END_ESC','NUM_ESC','DDD','TELEFONE','ENS_REG','REG_IN_CR','REG_IN_PE','REG_FU_8A',\n",
    "           'REG_FU_9A','REG_MED','REG_MED_I','REG_MED_N','REG_MED_P','ENS_ESP','ESP_IN_CR','ESP_IN_PE',\n",
    "           'ESP_FU_8A','ESP_FU_9A','ESP_MED','ESP_MED_I','ESP_MED_N','ESP_MED_P','ESP_EJA_F','ESP_EJA_M','EJA',\n",
    "           'EJA_FUND','EJA_MED','EJA_PROJ']\n",
    "esc_rmsp1 = esc_rmsp.drop(col_rmsp, axis = 1)"
   ]
  },
  {
   "cell_type": "code",
   "execution_count": 7,
   "metadata": {},
   "outputs": [],
   "source": [
    "esc_rmsp1.drop(esc_rmsp1.columns[esc_rmsp1.isnull().mean() > 0.3], axis=1, inplace = True)\n",
    "esc_rmsp1.dropna(how='any', axis = 0, inplace = True)"
   ]
  },
  {
   "cell_type": "code",
   "execution_count": 8,
   "metadata": {},
   "outputs": [
    {
     "name": "stdout",
     "output_type": "stream",
     "text": [
      "Dados escolares 0\n",
      "Rendimento 0\n",
      "ESC_RMSP1 0\n"
     ]
    }
   ],
   "source": [
    "print('Dados escolares', dados_escolares1.isnull().sum().sum())\n",
    "print('Rendimento', rendimento.isnull().sum().sum())\n",
    "print('ESC_RMSP1', esc_rmsp1.isnull().sum().sum())"
   ]
  },
  {
   "cell_type": "code",
   "execution_count": 9,
   "metadata": {},
   "outputs": [],
   "source": [
    "#primeiro teste vai ser o mais simples e fácil, usar o maior dataset que tenho\n",
    "teste1 = pd.merge(dados_escolares1, nota, how = 'inner', left_on = 'CODMEC', right_on = 'CODIGO DA ENTIDADE')\n",
    "teste1.drop(['ANO', 'TIPOESC', 'CODIGO DA ENTIDADE', 'NUMERO DE PARTICIPANTES'], axis = 1, inplace = True)\n",
    "dep = {'Privada': 'privada', 'Estadual':'estadual', 'PRIVADA':'privada', 'ESTADUAL':'estadual',\n",
    "      'privada':'privada', 'PARTICULAR':'privada','Municipal':'municipal','MUNICIPAL':'municipal',\n",
    "      'Federal':'federal', 'FEDERAL':'federal'}\n",
    "teste1.DEP = teste1.DEP.map(dep)\n",
    "teste1 = pd.get_dummies(teste1, 'DEP')"
   ]
  },
  {
   "cell_type": "code",
   "execution_count": 10,
   "metadata": {},
   "outputs": [],
   "source": [
    "target = teste1.Classificacao\n",
    "data = teste1.drop('Classificacao', axis =1)"
   ]
  },
  {
   "cell_type": "code",
   "execution_count": 11,
   "metadata": {},
   "outputs": [
    {
     "data": {
      "text/plain": [
       "CODMEC           float64\n",
       "CL_CRECHE        float64\n",
       "CL_PRE           float64\n",
       "AL_CRECHE        float64\n",
       "AL_PRE           float64\n",
       "CLEM             float64\n",
       "ALEM             float64\n",
       "CLFUND           float64\n",
       "ALFUND           float64\n",
       "TOTALEJA         float64\n",
       "TOTAL_ALUNOS     float64\n",
       "DEP_estadual     float64\n",
       "DEP_federal      float64\n",
       "DEP_municipal    float64\n",
       "DEP_privada      float64\n",
       "dtype: object"
      ]
     },
     "execution_count": 11,
     "metadata": {},
     "output_type": "execute_result"
    }
   ],
   "source": [
    "data.CODMEC  = data.CODMEC.astype('float64')\n",
    "data_TOTALEJA = data.TOTALEJA.astype('float64')\n",
    "data.TOTAL_ALUNOS = data.TOTAL_ALUNOS.astype('float64')\n",
    "data.DEP_estadual = data.DEP_estadual.astype('float64')\n",
    "data.DEP_federal = data.DEP_federal.astype('float64')\n",
    "data.DEP_municipal = data.DEP_municipal.astype('float64')\n",
    "data.DEP_privada = data.DEP_privada.astype(\"float64\")\n",
    "data.dtypes"
   ]
  },
  {
   "cell_type": "code",
   "execution_count": 12,
   "metadata": {},
   "outputs": [
    {
     "data": {
      "text/plain": [
       "2    7249\n",
       "3    1355\n",
       "1    1130\n",
       "4     656\n",
       "0       3\n",
       "Name: Classificacao, dtype: int64"
      ]
     },
     "execution_count": 12,
     "metadata": {},
     "output_type": "execute_result"
    }
   ],
   "source": [
    "target.value_counts()"
   ]
  },
  {
   "cell_type": "code",
   "execution_count": 14,
   "metadata": {},
   "outputs": [],
   "source": [
    "def modelo_svm_kf(data, target, gamma, C, k):\n",
    "    kf = KFold(n_splits = k)\n",
    "    scores = []\n",
    "    for g in gamma:\n",
    "            for c in C:\n",
    "                mean_kf = []\n",
    "                for train_i, test_i in kf.split(data):\n",
    "                    #separação dos dados em treino e teste\n",
    "                    data_train, data_test = data.iloc[train_i], data.iloc[test_i]\n",
    "                    target_train, target_test = target[train_i], target[test_i]\n",
    "                    \n",
    "                    #normalização dos dados\n",
    "                    scaler = StandardScaler()\n",
    "                    scaler.fit(data_train)\n",
    "                    data_train = scaler.transform(data_train)\n",
    "                    data_test = scaler.transform(data_test)\n",
    "                    \n",
    "                    #pca nos dados\n",
    "                    pca = PCA(0.95)\n",
    "                    pca.fit(data_train)\n",
    "                    data_train = pca.transform(data_train)\n",
    "                    data_test = pca.transform(data_test)\n",
    "                    \n",
    "                    #rodando o svm\n",
    "                    svc = SVC(kernel = 'rbf', C=c, gamma = g)\n",
    "                    svc.fit(data_train,target_train)\n",
    "                    mean_kf.append(svc.score(data_test,target_test))\n",
    "                                   \n",
    "                #salvando a média do KFold para g e c dados\n",
    "                scores.append(((sum(mean_kf)/len(mean_kf)), g, c))\n",
    "                print('Iteração com gamma %f e c %f concluída' %(g, c))\n",
    "    return scores"
   ]
  },
  {
   "cell_type": "code",
   "execution_count": 15,
   "metadata": {},
   "outputs": [
    {
     "name": "stdout",
     "output_type": "stream",
     "text": [
      "Iteração com gamma 15.000000 e c 15.000000 concluída\n"
     ]
    },
    {
     "data": {
      "text/plain": [
       "[(0.6400440076089741, 15, 15)]"
      ]
     },
     "execution_count": 15,
     "metadata": {},
     "output_type": "execute_result"
    }
   ],
   "source": [
    "modelo_svm_kf(data, target, [15], [15], 5)"
   ]
  },
  {
   "cell_type": "code",
   "execution_count": 23,
   "metadata": {},
   "outputs": [
    {
     "name": "stdout",
     "output_type": "stream",
     "text": [
      "Iteração com gamma 0.100000 e c 0.100000 concluída\n",
      "Iteração com gamma 0.100000 e c 1.521429 concluída\n",
      "Iteração com gamma 0.100000 e c 2.942857 concluída\n",
      "Iteração com gamma 0.100000 e c 4.364286 concluída\n",
      "Iteração com gamma 0.100000 e c 5.785714 concluída\n",
      "Iteração com gamma 0.100000 e c 7.207143 concluída\n",
      "Iteração com gamma 0.100000 e c 8.628571 concluída\n",
      "Iteração com gamma 0.100000 e c 10.050000 concluída\n",
      "Iteração com gamma 0.100000 e c 11.471429 concluída\n",
      "Iteração com gamma 0.100000 e c 12.892857 concluída\n",
      "Iteração com gamma 0.100000 e c 14.314286 concluída\n",
      "Iteração com gamma 0.100000 e c 15.735714 concluída\n",
      "Iteração com gamma 0.100000 e c 17.157143 concluída\n",
      "Iteração com gamma 0.100000 e c 18.578571 concluída\n",
      "Iteração com gamma 0.100000 e c 20.000000 concluída\n",
      "Iteração com gamma 1.521429 e c 0.100000 concluída\n",
      "Iteração com gamma 1.521429 e c 1.521429 concluída\n",
      "Iteração com gamma 1.521429 e c 2.942857 concluída\n",
      "Iteração com gamma 1.521429 e c 4.364286 concluída\n",
      "Iteração com gamma 1.521429 e c 5.785714 concluída\n",
      "Iteração com gamma 1.521429 e c 7.207143 concluída\n",
      "Iteração com gamma 1.521429 e c 8.628571 concluída\n",
      "Iteração com gamma 1.521429 e c 10.050000 concluída\n",
      "Iteração com gamma 1.521429 e c 11.471429 concluída\n",
      "Iteração com gamma 1.521429 e c 12.892857 concluída\n",
      "Iteração com gamma 1.521429 e c 14.314286 concluída\n",
      "Iteração com gamma 1.521429 e c 15.735714 concluída\n",
      "Iteração com gamma 1.521429 e c 17.157143 concluída\n",
      "Iteração com gamma 1.521429 e c 18.578571 concluída\n",
      "Iteração com gamma 1.521429 e c 20.000000 concluída\n",
      "Iteração com gamma 2.942857 e c 0.100000 concluída\n",
      "Iteração com gamma 2.942857 e c 1.521429 concluída\n",
      "Iteração com gamma 2.942857 e c 2.942857 concluída\n",
      "Iteração com gamma 2.942857 e c 4.364286 concluída\n",
      "Iteração com gamma 2.942857 e c 5.785714 concluída\n",
      "Iteração com gamma 2.942857 e c 7.207143 concluída\n",
      "Iteração com gamma 2.942857 e c 8.628571 concluída\n",
      "Iteração com gamma 2.942857 e c 10.050000 concluída\n",
      "Iteração com gamma 2.942857 e c 11.471429 concluída\n",
      "Iteração com gamma 2.942857 e c 12.892857 concluída\n",
      "Iteração com gamma 2.942857 e c 14.314286 concluída\n",
      "Iteração com gamma 2.942857 e c 15.735714 concluída\n",
      "Iteração com gamma 2.942857 e c 17.157143 concluída\n",
      "Iteração com gamma 2.942857 e c 18.578571 concluída\n",
      "Iteração com gamma 2.942857 e c 20.000000 concluída\n",
      "Iteração com gamma 4.364286 e c 0.100000 concluída\n",
      "Iteração com gamma 4.364286 e c 1.521429 concluída\n",
      "Iteração com gamma 4.364286 e c 2.942857 concluída\n",
      "Iteração com gamma 4.364286 e c 4.364286 concluída\n",
      "Iteração com gamma 4.364286 e c 5.785714 concluída\n",
      "Iteração com gamma 4.364286 e c 7.207143 concluída\n",
      "Iteração com gamma 4.364286 e c 8.628571 concluída\n",
      "Iteração com gamma 4.364286 e c 10.050000 concluída\n",
      "Iteração com gamma 4.364286 e c 11.471429 concluída\n",
      "Iteração com gamma 4.364286 e c 12.892857 concluída\n",
      "Iteração com gamma 4.364286 e c 14.314286 concluída\n",
      "Iteração com gamma 4.364286 e c 15.735714 concluída\n",
      "Iteração com gamma 4.364286 e c 17.157143 concluída\n",
      "Iteração com gamma 4.364286 e c 18.578571 concluída\n",
      "Iteração com gamma 4.364286 e c 20.000000 concluída\n",
      "Iteração com gamma 5.785714 e c 0.100000 concluída\n",
      "Iteração com gamma 5.785714 e c 1.521429 concluída\n",
      "Iteração com gamma 5.785714 e c 2.942857 concluída\n",
      "Iteração com gamma 5.785714 e c 4.364286 concluída\n",
      "Iteração com gamma 5.785714 e c 5.785714 concluída\n",
      "Iteração com gamma 5.785714 e c 7.207143 concluída\n",
      "Iteração com gamma 5.785714 e c 8.628571 concluída\n",
      "Iteração com gamma 5.785714 e c 10.050000 concluída\n",
      "Iteração com gamma 5.785714 e c 11.471429 concluída\n",
      "Iteração com gamma 5.785714 e c 12.892857 concluída\n",
      "Iteração com gamma 5.785714 e c 14.314286 concluída\n",
      "Iteração com gamma 5.785714 e c 15.735714 concluída\n",
      "Iteração com gamma 5.785714 e c 17.157143 concluída\n",
      "Iteração com gamma 5.785714 e c 18.578571 concluída\n",
      "Iteração com gamma 5.785714 e c 20.000000 concluída\n",
      "Iteração com gamma 7.207143 e c 0.100000 concluída\n",
      "Iteração com gamma 7.207143 e c 1.521429 concluída\n",
      "Iteração com gamma 7.207143 e c 2.942857 concluída\n",
      "Iteração com gamma 7.207143 e c 4.364286 concluída\n",
      "Iteração com gamma 7.207143 e c 5.785714 concluída\n",
      "Iteração com gamma 7.207143 e c 7.207143 concluída\n",
      "Iteração com gamma 7.207143 e c 8.628571 concluída\n",
      "Iteração com gamma 7.207143 e c 10.050000 concluída\n",
      "Iteração com gamma 7.207143 e c 11.471429 concluída\n",
      "Iteração com gamma 7.207143 e c 12.892857 concluída\n",
      "Iteração com gamma 7.207143 e c 14.314286 concluída\n",
      "Iteração com gamma 7.207143 e c 15.735714 concluída\n",
      "Iteração com gamma 7.207143 e c 17.157143 concluída\n",
      "Iteração com gamma 7.207143 e c 18.578571 concluída\n",
      "Iteração com gamma 7.207143 e c 20.000000 concluída\n",
      "Iteração com gamma 8.628571 e c 0.100000 concluída\n",
      "Iteração com gamma 8.628571 e c 1.521429 concluída\n",
      "Iteração com gamma 8.628571 e c 2.942857 concluída\n",
      "Iteração com gamma 8.628571 e c 4.364286 concluída\n",
      "Iteração com gamma 8.628571 e c 5.785714 concluída\n",
      "Iteração com gamma 8.628571 e c 7.207143 concluída\n",
      "Iteração com gamma 8.628571 e c 8.628571 concluída\n",
      "Iteração com gamma 8.628571 e c 10.050000 concluída\n",
      "Iteração com gamma 8.628571 e c 11.471429 concluída\n",
      "Iteração com gamma 8.628571 e c 12.892857 concluída\n",
      "Iteração com gamma 8.628571 e c 14.314286 concluída\n",
      "Iteração com gamma 8.628571 e c 15.735714 concluída\n",
      "Iteração com gamma 8.628571 e c 17.157143 concluída\n",
      "Iteração com gamma 8.628571 e c 18.578571 concluída\n",
      "Iteração com gamma 8.628571 e c 20.000000 concluída\n",
      "Iteração com gamma 10.050000 e c 0.100000 concluída\n",
      "Iteração com gamma 10.050000 e c 1.521429 concluída\n",
      "Iteração com gamma 10.050000 e c 2.942857 concluída\n",
      "Iteração com gamma 10.050000 e c 4.364286 concluída\n",
      "Iteração com gamma 10.050000 e c 5.785714 concluída\n",
      "Iteração com gamma 10.050000 e c 7.207143 concluída\n",
      "Iteração com gamma 10.050000 e c 8.628571 concluída\n",
      "Iteração com gamma 10.050000 e c 10.050000 concluída\n",
      "Iteração com gamma 10.050000 e c 11.471429 concluída\n",
      "Iteração com gamma 10.050000 e c 12.892857 concluída\n",
      "Iteração com gamma 10.050000 e c 14.314286 concluída\n",
      "Iteração com gamma 10.050000 e c 15.735714 concluída\n",
      "Iteração com gamma 10.050000 e c 17.157143 concluída\n",
      "Iteração com gamma 10.050000 e c 18.578571 concluída\n",
      "Iteração com gamma 10.050000 e c 20.000000 concluída\n",
      "Iteração com gamma 11.471429 e c 0.100000 concluída\n",
      "Iteração com gamma 11.471429 e c 1.521429 concluída\n",
      "Iteração com gamma 11.471429 e c 2.942857 concluída\n",
      "Iteração com gamma 11.471429 e c 4.364286 concluída\n",
      "Iteração com gamma 11.471429 e c 5.785714 concluída\n",
      "Iteração com gamma 11.471429 e c 7.207143 concluída\n",
      "Iteração com gamma 11.471429 e c 8.628571 concluída\n",
      "Iteração com gamma 11.471429 e c 10.050000 concluída\n",
      "Iteração com gamma 11.471429 e c 11.471429 concluída\n",
      "Iteração com gamma 11.471429 e c 12.892857 concluída\n",
      "Iteração com gamma 11.471429 e c 14.314286 concluída\n",
      "Iteração com gamma 11.471429 e c 15.735714 concluída\n",
      "Iteração com gamma 11.471429 e c 17.157143 concluída\n",
      "Iteração com gamma 11.471429 e c 18.578571 concluída\n",
      "Iteração com gamma 11.471429 e c 20.000000 concluída\n",
      "Iteração com gamma 12.892857 e c 0.100000 concluída\n",
      "Iteração com gamma 12.892857 e c 1.521429 concluída\n",
      "Iteração com gamma 12.892857 e c 2.942857 concluída\n",
      "Iteração com gamma 12.892857 e c 4.364286 concluída\n",
      "Iteração com gamma 12.892857 e c 5.785714 concluída\n",
      "Iteração com gamma 12.892857 e c 7.207143 concluída\n",
      "Iteração com gamma 12.892857 e c 8.628571 concluída\n",
      "Iteração com gamma 12.892857 e c 10.050000 concluída\n",
      "Iteração com gamma 12.892857 e c 11.471429 concluída\n",
      "Iteração com gamma 12.892857 e c 12.892857 concluída\n",
      "Iteração com gamma 12.892857 e c 14.314286 concluída\n",
      "Iteração com gamma 12.892857 e c 15.735714 concluída\n",
      "Iteração com gamma 12.892857 e c 17.157143 concluída\n",
      "Iteração com gamma 12.892857 e c 18.578571 concluída\n",
      "Iteração com gamma 12.892857 e c 20.000000 concluída\n",
      "Iteração com gamma 14.314286 e c 0.100000 concluída\n",
      "Iteração com gamma 14.314286 e c 1.521429 concluída\n",
      "Iteração com gamma 14.314286 e c 2.942857 concluída\n",
      "Iteração com gamma 14.314286 e c 4.364286 concluída\n",
      "Iteração com gamma 14.314286 e c 5.785714 concluída\n",
      "Iteração com gamma 14.314286 e c 7.207143 concluída\n",
      "Iteração com gamma 14.314286 e c 8.628571 concluída\n",
      "Iteração com gamma 14.314286 e c 10.050000 concluída\n",
      "Iteração com gamma 14.314286 e c 11.471429 concluída\n"
     ]
    },
    {
     "name": "stdout",
     "output_type": "stream",
     "text": [
      "Iteração com gamma 14.314286 e c 12.892857 concluída\n",
      "Iteração com gamma 14.314286 e c 14.314286 concluída\n",
      "Iteração com gamma 14.314286 e c 15.735714 concluída\n",
      "Iteração com gamma 14.314286 e c 17.157143 concluída\n",
      "Iteração com gamma 14.314286 e c 18.578571 concluída\n",
      "Iteração com gamma 14.314286 e c 20.000000 concluída\n",
      "Iteração com gamma 15.735714 e c 0.100000 concluída\n",
      "Iteração com gamma 15.735714 e c 1.521429 concluída\n",
      "Iteração com gamma 15.735714 e c 2.942857 concluída\n",
      "Iteração com gamma 15.735714 e c 4.364286 concluída\n",
      "Iteração com gamma 15.735714 e c 5.785714 concluída\n",
      "Iteração com gamma 15.735714 e c 7.207143 concluída\n",
      "Iteração com gamma 15.735714 e c 8.628571 concluída\n",
      "Iteração com gamma 15.735714 e c 10.050000 concluída\n",
      "Iteração com gamma 15.735714 e c 11.471429 concluída\n",
      "Iteração com gamma 15.735714 e c 12.892857 concluída\n",
      "Iteração com gamma 15.735714 e c 14.314286 concluída\n",
      "Iteração com gamma 15.735714 e c 15.735714 concluída\n",
      "Iteração com gamma 15.735714 e c 17.157143 concluída\n",
      "Iteração com gamma 15.735714 e c 18.578571 concluída\n",
      "Iteração com gamma 15.735714 e c 20.000000 concluída\n",
      "Iteração com gamma 17.157143 e c 0.100000 concluída\n",
      "Iteração com gamma 17.157143 e c 1.521429 concluída\n",
      "Iteração com gamma 17.157143 e c 2.942857 concluída\n",
      "Iteração com gamma 17.157143 e c 4.364286 concluída\n",
      "Iteração com gamma 17.157143 e c 5.785714 concluída\n",
      "Iteração com gamma 17.157143 e c 7.207143 concluída\n",
      "Iteração com gamma 17.157143 e c 8.628571 concluída\n",
      "Iteração com gamma 17.157143 e c 10.050000 concluída\n",
      "Iteração com gamma 17.157143 e c 11.471429 concluída\n",
      "Iteração com gamma 17.157143 e c 12.892857 concluída\n",
      "Iteração com gamma 17.157143 e c 14.314286 concluída\n",
      "Iteração com gamma 17.157143 e c 15.735714 concluída\n",
      "Iteração com gamma 17.157143 e c 17.157143 concluída\n",
      "Iteração com gamma 17.157143 e c 18.578571 concluída\n",
      "Iteração com gamma 17.157143 e c 20.000000 concluída\n",
      "Iteração com gamma 18.578571 e c 0.100000 concluída\n",
      "Iteração com gamma 18.578571 e c 1.521429 concluída\n",
      "Iteração com gamma 18.578571 e c 2.942857 concluída\n",
      "Iteração com gamma 18.578571 e c 4.364286 concluída\n",
      "Iteração com gamma 18.578571 e c 5.785714 concluída\n",
      "Iteração com gamma 18.578571 e c 7.207143 concluída\n",
      "Iteração com gamma 18.578571 e c 8.628571 concluída\n",
      "Iteração com gamma 18.578571 e c 10.050000 concluída\n",
      "Iteração com gamma 18.578571 e c 11.471429 concluída\n",
      "Iteração com gamma 18.578571 e c 12.892857 concluída\n",
      "Iteração com gamma 18.578571 e c 14.314286 concluída\n",
      "Iteração com gamma 18.578571 e c 15.735714 concluída\n",
      "Iteração com gamma 18.578571 e c 17.157143 concluída\n",
      "Iteração com gamma 18.578571 e c 18.578571 concluída\n",
      "Iteração com gamma 18.578571 e c 20.000000 concluída\n",
      "Iteração com gamma 20.000000 e c 0.100000 concluída\n",
      "Iteração com gamma 20.000000 e c 1.521429 concluída\n",
      "Iteração com gamma 20.000000 e c 2.942857 concluída\n",
      "Iteração com gamma 20.000000 e c 4.364286 concluída\n",
      "Iteração com gamma 20.000000 e c 5.785714 concluída\n",
      "Iteração com gamma 20.000000 e c 7.207143 concluída\n",
      "Iteração com gamma 20.000000 e c 8.628571 concluída\n",
      "Iteração com gamma 20.000000 e c 10.050000 concluída\n",
      "Iteração com gamma 20.000000 e c 11.471429 concluída\n",
      "Iteração com gamma 20.000000 e c 12.892857 concluída\n",
      "Iteração com gamma 20.000000 e c 14.314286 concluída\n",
      "Iteração com gamma 20.000000 e c 15.735714 concluída\n",
      "Iteração com gamma 20.000000 e c 17.157143 concluída\n",
      "Iteração com gamma 20.000000 e c 18.578571 concluída\n",
      "Iteração com gamma 20.000000 e c 20.000000 concluída\n"
     ]
    }
   ],
   "source": [
    "gamma = np.linspace(0.1,20,15)\n",
    "c = gamma\n",
    "svm1 = modelo_svm_kf(data, target, gamma, c,5)"
   ]
  },
  {
   "cell_type": "code",
   "execution_count": 24,
   "metadata": {},
   "outputs": [
    {
     "data": {
      "text/plain": [
       "[(0.6972936663023285, 11.47142857142857, 0.1),\n",
       " (0.6973898201039683, 14.314285714285711, 0.1),\n",
       " (0.6973898663985285, 10.049999999999999, 0.1),\n",
       " (0.6974859276110479, 7.2071428571428555, 0.1),\n",
       " (0.6985438971964476, 0.1, 0.1)]"
      ]
     },
     "execution_count": 24,
     "metadata": {},
     "output_type": "execute_result"
    }
   ],
   "source": [
    "svm1.sort()\n",
    "svm1[-5:]"
   ]
  },
  {
   "cell_type": "code",
   "execution_count": null,
   "metadata": {},
   "outputs": [],
   "source": []
  }
 ],
 "metadata": {
  "kernelspec": {
   "display_name": "Python 3",
   "language": "python",
   "name": "python3"
  },
  "language_info": {
   "codemirror_mode": {
    "name": "ipython",
    "version": 3
   },
   "file_extension": ".py",
   "mimetype": "text/x-python",
   "name": "python",
   "nbconvert_exporter": "python",
   "pygments_lexer": "ipython3",
   "version": "3.7.1"
  }
 },
 "nbformat": 4,
 "nbformat_minor": 2
}
