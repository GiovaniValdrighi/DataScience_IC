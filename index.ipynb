{
 "cells": [
  {
   "cell_type": "markdown",
   "metadata": {},
   "source": [
    "# Iniciação Científica - 2019.2 - Data Science"
   ]
  },
  {
   "cell_type": "markdown",
   "metadata": {},
   "source": [
    "O projeto pode ser dividido em duas etapas principais, cada uma sendo definida pelo banco de dados em que se é utilizado, na primeira utilizados os micro dados do ENEM fornecidos pelo INPE, na segunda etapa utilizaremos uma segunda fonte de dados que contem informações sobre as instituições de ensino."
   ]
  },
  {
   "cell_type": "markdown",
   "metadata": {},
   "source": [
    "## Micro dados do ENEM"
   ]
  },
  {
   "cell_type": "markdown",
   "metadata": {},
   "source": [
    "Os [dados](http://inep.gov.br/microdados) fornecidos pelo INEP são informações de todos os alunos que realizaram o ENEM (Exame Nacional do Ensino Médio) ano a ano, contendo as informações de cadastro do aluno (endereço, necessidade de atendimento especial, questões socioeconômicas) e as notas obtidas nos 5 diferentes testes.\n",
    "\n",
    "Como a quantidade de dados é gigantesca, são cerca de 6 milhões de participantes por ano, para a realização do projeto foi decidido utilizar apenas os dados dos alunos do estado de São Paulo que realizaram a prova em 2017. Iniciando com a seleção e tratamento dos dados para a seguinte utilização de modelos."
   ]
  },
  {
   "cell_type": "markdown",
   "metadata": {},
   "source": [
    "### Limpeza dos dados"
   ]
  },
  {
   "cell_type": "markdown",
   "metadata": {},
   "source": [
    "Utilizando os micro dados do ano de 2017, obtivemos 6,731 milhões de linhas, cada um sendo um aluno que realizou a prova e com 137 colunas, cada uma sendo uma informação sobre o aluno. Além dos dados, o INEP oferece um dicionário onde cada coluna possui sua descrição. Para diminuir a quantidade de dados, selecionamos os alunos que fizeram todas as provas, que fizeram no estado de São Paulo e escolhemos as seguintes colunas:\n",
    "- Munícipio de residência.\n",
    "- Idade.\n",
    "- Sexo.\n",
    "- Cor de pele.\n",
    "- Quantos anos fazem desde a conclusão do ensino médio.\n",
    "- Ano que concluiu o ensino médio.\n",
    "- Tipo de escola (pública, privada).\n",
    "- Se o aplicante é treineiro.\n",
    "- Dependência administrativa da escola (municipal, estadual, federal).\n",
    "- Nota na prova de ciências da natureza.\n",
    "- Nota na prova de ciências de humanas.\n",
    "- Nota da pova de ciências exatas.\n",
    "- Nota da prova de linguagem e códigos.\n",
    "- Nota da prova de redação.\n",
    "- Faixa de renda do aluno.\n",
    "- o que é a qu027? não lembro"
   ]
  },
  {
   "cell_type": "markdown",
   "metadata": {},
   "source": [
    "Como os dados são oficiais e obrigatórios para a realização do exame, "
   ]
  },
  {
   "cell_type": "code",
   "execution_count": null,
   "metadata": {},
   "outputs": [],
   "source": []
  }
 ],
 "metadata": {
  "kernelspec": {
   "display_name": "Python 3",
   "language": "python",
   "name": "python3"
  },
  "language_info": {
   "codemirror_mode": {
    "name": "ipython",
    "version": 3
   },
   "file_extension": ".py",
   "mimetype": "text/x-python",
   "name": "python",
   "nbconvert_exporter": "python",
   "pygments_lexer": "ipython3",
   "version": "3.7.3"
  }
 },
 "nbformat": 4,
 "nbformat_minor": 2
}
