{
 "cells": [
  {
   "cell_type": "markdown",
   "metadata": {},
   "source": [
    "# Iniciação Científica - 2019.2 - Data Science"
   ]
  },
  {
   "cell_type": "markdown",
   "metadata": {},
   "source": [
    "O projeto pode ser dividido em duas etapas principais, cada uma sendo definida pelo banco de dados em que se é utilizado, na primeira utilizados os micro dados do ENEM fornecidos pelo INPE, na segunda etapa utilizaremos uma segunda fonte de dados que contem informações sobre as instituições de ensino."
   ]
  },
  {
   "cell_type": "markdown",
   "metadata": {},
   "source": [
    "## Micro dados do ENEM"
   ]
  },
  {
   "cell_type": "markdown",
   "metadata": {},
   "source": [
    "Os [dados](http://inep.gov.br/microdados) fornecidos pelo INEP são informações de todos os alunos que realizaram o ENEM (Exame Nacional do Ensino Médio) ano a ano, contendo as informações de cadastro do aluno (endereço, necessidade de atendimento especial, questões socioeconômicas) e as notas obtidas nos 5 diferentes testes.\n",
    "\n",
    "Como a quantidade de dados é gigantesca, são cerca de 6 milhões de participantes por ano, para a realização do projeto foi decidido utilizar apenas os dados dos alunos do estado de São Paulo que realizaram a prova em 2017. Iniciando com a seleção e tratamento dos dados para a seguinte utilização de modelos."
   ]
  },
  {
   "cell_type": "markdown",
   "metadata": {},
   "source": [
    "### Limpeza dos dados"
   ]
  },
  {
   "cell_type": "markdown",
   "metadata": {},
   "source": [
    "Utilizando os micro dados do ano de 2017, obtivemos 6,731 milhões de linhas, cada um sendo um aluno que realizou a prova e com 137 colunas, cada uma sendo uma informação sobre o aluno. Além dos dados, o INEP oferece um dicionário onde cada coluna possui sua descrição. Para diminuir a quantidade de dados, selecionamos os alunos que fizeram todas as provas, que fizeram no estado de São Paulo e escolhemos as seguintes colunas:\n",
    "- Munícipio de residência.\n",
    "- Idade.\n",
    "- Sexo.\n",
    "- Cor de pele.\n",
    "- Quantos anos fazem desde a conclusão do ensino médio.\n",
    "- Ano que concluiu o ensino médio.\n",
    "- Tipo de escola (pública, privada).\n",
    "- Se o aplicante é treineiro.\n",
    "- Dependência administrativa da escola (municipal, estadual, federal).\n",
    "- Nota na prova de ciências da natureza.\n",
    "- Nota na prova de ciências de humanas.\n",
    "- Nota da pova de ciências exatas.\n",
    "- Nota da prova de linguagem e códigos.\n",
    "- Nota da prova de redação.\n",
    "- Faixa de renda do aluno.\n",
    "- o que é a qu027? não lembro"
   ]
  },
  {
   "cell_type": "markdown",
   "metadata": {},
   "source": [
    "Como os dados são oficiais e obrigatórios para a realização do exame, nesse conjunto de dados não possuimos valores nulos ou não preenchidos."
   ]
  },
  {
   "cell_type": "markdown",
   "metadata": {},
   "source": [
    "### Análise exploratória dos dados"
   ]
  },
  {
   "cell_type": "markdown",
   "metadata": {},
   "source": [
    "Como nosso objetivo é avaliar quais fatores do aluno são mais importantes e possuem mais influênncia na nota final do aluno (média aritmética da nota dos 5 exames), criamos hipóteses e geramos gráficos para a visualização se de fato existem correlações ou não. Por limitações da biblioteca Altair, cada um dos gráficos utilizou uma amostra aleatória de 2500 linhas de todo o conjunto de dados (cerca de 600 mil linhas).\n",
    "\n",
    "A primeira análise que faremos é análisar se de fato existe aluma relação entre as notas de redação e de matemática, além disso os círculos azuis representam os dados obtidos por participantes do sexo feminino e os quadrados vermelhores representam do sexo masculino."
   ]
  },
  {
   "cell_type": "code",
   "execution_count": 5,
   "metadata": {},
   "outputs": [
    {
     "data": {
      "text/html": [
       "<img src = \"mt_redacao.svg\"></img>\n"
      ],
      "text/plain": [
       "<IPython.core.display.HTML object>"
      ]
     },
     "metadata": {},
     "output_type": "display_data"
    }
   ],
   "source": [
    "%%html\n",
    "<img src = \"mt_redacao.svg\"></img>"
   ]
  },
  {
   "cell_type": "markdown",
   "metadata": {},
   "source": [
    "Vemos que apesar de certo ruído, os dados apresentam forte relação direta, alunos que tiraram notas altas em matemática também tiraram nota em redação, e vice-versa.\n",
    "\n",
    "O segundo gráfico que faremos é uma histograma da distribuição dos alunos com base na renda, como os dados já são fornecidos com base em faixas de valor, podemos criar o histograma facilmente."
   ]
  },
  {
   "cell_type": "code",
   "execution_count": 7,
   "metadata": {},
   "outputs": [
    {
     "data": {
      "text/html": [
       "<img src = \"renda_histo.svg\"></img>\n"
      ],
      "text/plain": [
       "<IPython.core.display.HTML object>"
      ]
     },
     "metadata": {},
     "output_type": "display_data"
    }
   ],
   "source": [
    "%%html\n",
    "<img src = \"renda_histo.svg\"></img>"
   ]
  },
  {
   "cell_type": "markdown",
   "metadata": {},
   "source": [
    "Vemos que os dados possuem uma maior concentração nas rendas em torno de R$2000,00 mensais, o que já era esperado visto a distribuição de renda no Brasil. Para uma terceira visualização, iremos combinar o primeiro grafico com o segundo em um gráfico interativo. Abaixo está uma imagem do gráfico obtido, no entanto, a sua versão interativa está diposnível no seguinte [link](https://vega.github.io/editor/#/url/vega-lite/N4KABGBEDGD2B2AzAlgc0gLjMSA3ZApgO6baRHIAmALgBakAsADEwDRS0Fq3WkDMLAL7tIAWwCGAJwDWpHNViwANtWQAHUvACuSpYOHgOceNHG8sAbUMRQEO1Aky5kagE81BUjGSToSzyKwauLQyG6kTAB0fAb2EJAEJrCUyPDoWLZx8XBKsJJy1llQbh5e8LCiqeJKkKyFWZAoBEqUXgAqAAoA+gDKAKIAGgDytfVxkP6oia0ZkHmE8OZQ-oi8IqrU-l49BAAeYABGrmA5eZCCYxCxRZC7BUV2Lu6eWJAAjlrii2FmyLgBl0eTRaXgAcgBVLqgoZtACCXQAsm1Rg94hstq9QbBqOIwJQCGAJNQCKIAIeqUyQQHXBque6op6lV4fL4bX7-FEM4EzKAQqEw+EAJT6ABFYQBhWEjOqo4phDG87G4-FgSQESjiADnAGPYFSHhcsjTHgBnZoEaCqBDOM3+S15FgAdmcJReUFSxMkuGq50NdmNmXsYikslmrq8ByktSgfnUpGoki0BGN8UScBSaXpDVO+Vm3qUSYjBc8KcedzDzy8LO+ONUHJE3K8AEUWAA2aMueVuyCC6bic4ym50jKAtGV5mfGvsgGyyDiVCoNWoMzduBaRach6QE2mBU4SgVcSpUgWNhgABMLAAun6jWNSy5JF8TYg8qITzgUCoCLmyLaLVa8BeP+9qSE6vpXoUfpXoOkAajiWZQFokg1K8PDUGoJoYAA9NhT5EJEqBhLQWgHFoZq+AgxKLJEcCiNhADiyCwN68DIAAatUlCSNwyDYSKZjiD0oRpgQXQAJLithEgmp62HwUJ3QKF0ai5NQtEmrg+pgNckAACQ7pwEheOhmE4dh-zLoRxGkZEzHYYZJLiBZBDLgAtEoYQEBZfCRAwkRRAAVia1ogIIQA/view)."
   ]
  },
  {
   "cell_type": "code",
   "execution_count": 2,
   "metadata": {},
   "outputs": [
    {
     "data": {
      "text/html": [
       "<img src = \"renda_mat_red.svg\"></img>\n"
      ],
      "text/plain": [
       "<IPython.core.display.HTML object>"
      ]
     },
     "metadata": {},
     "output_type": "display_data"
    }
   ],
   "source": [
    "%%html\n",
    "<img src = \"renda_mat_red.svg\"></img>"
   ]
  },
  {
   "cell_type": "markdown",
   "metadata": {},
   "source": [
    "Podemos perceber que apesar das maiores rendas não estarem tão concentradas nas notas mais altas, as notas mais baixas estão fortemente concentradas nas rendas mais baixas. Ao deslizar o gráfico interativo diagonalmente, podemos ver que conforme subimos para as notas mais altas, a renda se torna menos concentrada nos valores mais baixos. Continuando nesta mesma situação, foi construído uma terceira visualização para estes dados, que pode ser encontrada na versão interativa neste [link](https://vega.github.io/editor/#/url/vega-lite/N4KABGBEDGD2B2AzAlgc0gLjMSA3ZApgO6baRHIAmALgBakAsADEwDRS0Fq3WkDMLAL7tIAWwCGAJwDWpHNViwANtWQAHUvACuSpYOHgokgmoLjeWHHCVbR8UgG1IAOQCqAfWcB5ACoBBdwAlAFEAET8AYT8vSBE3T18AgFkfWKgARRYANkgAXQMISABnU2g5Q0KlcQBPAklHCohsRqaoCRlSSAAjKViWpsgCeDhKZHh0S37WyAAPctaFgepq006ARy1xeFVqc2RcAj7Fxe6xuTFxGa6xotIAJiYC4+mUAiVKc+NTc07rW3tBFMmk9npBqudlqssJANlsdnsDmlIOJUKhjKhzIdoXAtNtIIDniCFpBONwLGAAIwCVhA4pvAjQVQIc5FemM2CSJgUikQlZYqBjah1XDiJRIoYjMaoW5YJxzfJE6YUGj0LAUgAcTH6iuaoPasmhPXqNNBEtgo3G82eUGsHPOIps-Mgxg+Oumc0m1qWfPWm22yF2qkRJq9UGu9ksFyuN3ujxDXsgr3enxMZnJMGU-3xQIgboG4MjkKdsP9gf2hxEKLRBAxQt+sFxvAJxzzJK4qB4pCpbFp1EkWyKiA5okcOBQKjqLLZTIjUFZSgZCk53Pxgly8eJyroXc12sa68akEo5nEVumWkkYuhPGoaiKGAA9A-+0QAHSoAO0LRdLSsyRwbYhmoV84FEB8AHFkFgEV4GQAA1UVKEkbhkAfUITwAZWgQhhgIdwAEkIgfCQiiFSQH2PXYMIABXcBR3DUJRYGA6AilwSBGmbJ5IAAEiKaBOAkTobzvR8HwODF30-b9Xygh9+ME8RxJrcQAFolADAhxL4V8GFfJhXwAKyKZkQEEIA/view), ou logo abaixo."
   ]
  },
  {
   "cell_type": "code",
   "execution_count": 4,
   "metadata": {},
   "outputs": [
    {
     "data": {
      "text/html": [
       "<img src=\"renda_mat_red3.svg\"></img>\n"
      ],
      "text/plain": [
       "<IPython.core.display.HTML object>"
      ]
     },
     "metadata": {},
     "output_type": "display_data"
    }
   ],
   "source": [
    "%%html\n",
    "<img src=\"renda_mat_red3.svg\"></img>"
   ]
  },
  {
   "cell_type": "markdown",
   "metadata": {},
   "source": [
    "Por fim, o próximo objetivo era criar um gráfico do mapa de São Paulo interativo com o gráfico de distribuição de notas (o gráfico que compara notas de matemática e redação), no entanto, após muitas dificuldades para encontrar uma arquivo JSON do mapa de São Paulo que fosse compatível com os nossos dados do ENEM, foi alcançado o seguinte geográfico:\n",
    "(A versão interativa dele está presente no seguinte [link](https://vega.github.io/editor/#/url/vega-lite/N4KABGBEDGD2B2AzAlgc0gLjMSA3ZApgO6baRHIAmALgBakAsADEwDRS0Fq3WkDMLAL7tIAWwCGAJwDWpHNViwANtWQAHUvACuSpYOHgolcdXFzDESFslLSkHtTUBnDAHpXk8UQB0qZHS0AIy0nAkk4eGoCSO84UVcAcWRYXHF4ZAA1cSVKSW5kVwARE3EAZWhCeGgCAH0ASQBhVwknKMlXBTVYACsnBABaJzUAJm9ehEhWCyhEWEkJXiwcRAITawI7VAIep36+AFZ+0S14SahqAE81DaxITp2JwUMDSwkZTe2nWnFrycNIaJwSjIeDoJbTGDKObmCCw85XG5QACOWjSqlMqlwGymcMsKAIOTsADkAKo1IkAeQAKgBBGoAWQAooU-rjzv4lIjIETYKYwKIAJfAszTF6wu6KFTqUgAbWmEHkCLs8FgohB2TOkHxhNuakksGuklUBCc3ng4lE2PZ1E5dgaVHElA2Yrhit+txVavNthE2soxLJlNpDOZmvRttuPL5guFkCecIAus8cedPPAnLN5rLpqA2ZAlIppFoNLr9YbjabzZbWbitfrRDC2UYSo2m1BrLZbg5nG4PF5fP5aEEQmEIlEYnFEslUuksjk8qhaAViqZypVqvUmi02q5jJRYE4agoags1AXqLEnLhIPLYS7a9ICBdiRSGSSiY06gAFOqvgBKjKlHUhSMkSDR1DSNZ5n6TiytygbUnSTIskmbLxnehgJimkAACRONAnASHY3YuO4WKoOIA4BIE3jJK4+GEeIrjkeI-RKP4BDMXw3gMN4TBjH0pwgIIQA/view), no entanto, ela só contem o nome e a média da cidade como informações extras)."
   ]
  },
  {
   "cell_type": "code",
   "execution_count": 6,
   "metadata": {},
   "outputs": [
    {
     "data": {
      "text/html": [
       "<img src = \"mat_plot.svg\"></img>\n"
      ],
      "text/plain": [
       "<IPython.core.display.HTML object>"
      ]
     },
     "metadata": {},
     "output_type": "display_data"
    }
   ],
   "source": [
    "%%html\n",
    "<img src = \"mat_plot.svg\"></img>"
   ]
  },
  {
   "cell_type": "code",
   "execution_count": null,
   "metadata": {},
   "outputs": [],
   "source": []
  }
 ],
 "metadata": {
  "kernelspec": {
   "display_name": "Python 3",
   "language": "python",
   "name": "python3"
  },
  "language_info": {
   "codemirror_mode": {
    "name": "ipython",
    "version": 3
   },
   "file_extension": ".py",
   "mimetype": "text/x-python",
   "name": "python",
   "nbconvert_exporter": "python",
   "pygments_lexer": "ipython3",
   "version": "3.7.3"
  }
 },
 "nbformat": 4,
 "nbformat_minor": 4
}
