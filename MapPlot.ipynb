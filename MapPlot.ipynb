{
 "cells": [
  {
   "cell_type": "code",
   "execution_count": 1,
   "metadata": {},
   "outputs": [],
   "source": [
    "import altair as alt\n",
    "import pandas as pd"
   ]
  },
  {
   "cell_type": "code",
   "execution_count": 2,
   "metadata": {},
   "outputs": [
    {
     "data": {
      "text/html": [
       "<div>\n",
       "<style scoped>\n",
       "    .dataframe tbody tr th:only-of-type {\n",
       "        vertical-align: middle;\n",
       "    }\n",
       "\n",
       "    .dataframe tbody tr th {\n",
       "        vertical-align: top;\n",
       "    }\n",
       "\n",
       "    .dataframe thead th {\n",
       "        text-align: right;\n",
       "    }\n",
       "</style>\n",
       "<table border=\"1\" class=\"dataframe\">\n",
       "  <thead>\n",
       "    <tr style=\"text-align: right;\">\n",
       "      <th></th>\n",
       "      <th>Unnamed: 0</th>\n",
       "      <th>NO_MUNICIPIO_RESIDENCIA</th>\n",
       "      <th>NU_IDADE</th>\n",
       "      <th>TP_SEXO</th>\n",
       "      <th>TP_COR_RACA</th>\n",
       "      <th>TP_ST_CONCLUSAO</th>\n",
       "      <th>TP_ANO_CONCLUIU</th>\n",
       "      <th>TP_ESCOLA</th>\n",
       "      <th>IN_TREINEIRO</th>\n",
       "      <th>TP_DEPENDENCIA_ADM_ESC</th>\n",
       "      <th>NU_NOTA_CN</th>\n",
       "      <th>NU_NOTA_CH</th>\n",
       "      <th>NU_NOTA_LC</th>\n",
       "      <th>NU_NOTA_MT</th>\n",
       "      <th>NU_NOTA_REDACAO</th>\n",
       "      <th>Q006</th>\n",
       "      <th>Q027</th>\n",
       "    </tr>\n",
       "  </thead>\n",
       "  <tbody>\n",
       "    <tr>\n",
       "      <th>0</th>\n",
       "      <td>0</td>\n",
       "      <td>Araraquara</td>\n",
       "      <td>29.0</td>\n",
       "      <td>F</td>\n",
       "      <td>1</td>\n",
       "      <td>1</td>\n",
       "      <td>11</td>\n",
       "      <td>1</td>\n",
       "      <td>0</td>\n",
       "      <td>NaN</td>\n",
       "      <td>445.4</td>\n",
       "      <td>589.0</td>\n",
       "      <td>621.5</td>\n",
       "      <td>465.5</td>\n",
       "      <td>560.0</td>\n",
       "      <td>D</td>\n",
       "      <td>A</td>\n",
       "    </tr>\n",
       "    <tr>\n",
       "      <th>1</th>\n",
       "      <td>21</td>\n",
       "      <td>Diadema</td>\n",
       "      <td>19.0</td>\n",
       "      <td>F</td>\n",
       "      <td>1</td>\n",
       "      <td>1</td>\n",
       "      <td>2</td>\n",
       "      <td>1</td>\n",
       "      <td>0</td>\n",
       "      <td>NaN</td>\n",
       "      <td>402.9</td>\n",
       "      <td>447.6</td>\n",
       "      <td>537.3</td>\n",
       "      <td>425.5</td>\n",
       "      <td>640.0</td>\n",
       "      <td>B</td>\n",
       "      <td>A</td>\n",
       "    </tr>\n",
       "    <tr>\n",
       "      <th>2</th>\n",
       "      <td>25</td>\n",
       "      <td>Santa Fé do Sul</td>\n",
       "      <td>24.0</td>\n",
       "      <td>M</td>\n",
       "      <td>1</td>\n",
       "      <td>1</td>\n",
       "      <td>7</td>\n",
       "      <td>1</td>\n",
       "      <td>0</td>\n",
       "      <td>NaN</td>\n",
       "      <td>706.5</td>\n",
       "      <td>709.9</td>\n",
       "      <td>625.1</td>\n",
       "      <td>769.1</td>\n",
       "      <td>620.0</td>\n",
       "      <td>I</td>\n",
       "      <td>D</td>\n",
       "    </tr>\n",
       "    <tr>\n",
       "      <th>3</th>\n",
       "      <td>32</td>\n",
       "      <td>São Paulo</td>\n",
       "      <td>28.0</td>\n",
       "      <td>F</td>\n",
       "      <td>2</td>\n",
       "      <td>1</td>\n",
       "      <td>11</td>\n",
       "      <td>1</td>\n",
       "      <td>0</td>\n",
       "      <td>NaN</td>\n",
       "      <td>631.1</td>\n",
       "      <td>609.7</td>\n",
       "      <td>596.1</td>\n",
       "      <td>535.5</td>\n",
       "      <td>720.0</td>\n",
       "      <td>J</td>\n",
       "      <td>A</td>\n",
       "    </tr>\n",
       "    <tr>\n",
       "      <th>4</th>\n",
       "      <td>45</td>\n",
       "      <td>São Paulo</td>\n",
       "      <td>18.0</td>\n",
       "      <td>F</td>\n",
       "      <td>1</td>\n",
       "      <td>1</td>\n",
       "      <td>1</td>\n",
       "      <td>1</td>\n",
       "      <td>0</td>\n",
       "      <td>NaN</td>\n",
       "      <td>685.2</td>\n",
       "      <td>719.2</td>\n",
       "      <td>619.4</td>\n",
       "      <td>799.6</td>\n",
       "      <td>800.0</td>\n",
       "      <td>H</td>\n",
       "      <td>D</td>\n",
       "    </tr>\n",
       "  </tbody>\n",
       "</table>\n",
       "</div>"
      ],
      "text/plain": [
       "   Unnamed: 0 NO_MUNICIPIO_RESIDENCIA  NU_IDADE TP_SEXO  TP_COR_RACA  \\\n",
       "0           0              Araraquara      29.0       F            1   \n",
       "1          21                 Diadema      19.0       F            1   \n",
       "2          25         Santa Fé do Sul      24.0       M            1   \n",
       "3          32               São Paulo      28.0       F            2   \n",
       "4          45               São Paulo      18.0       F            1   \n",
       "\n",
       "   TP_ST_CONCLUSAO  TP_ANO_CONCLUIU  TP_ESCOLA  IN_TREINEIRO  \\\n",
       "0                1               11          1             0   \n",
       "1                1                2          1             0   \n",
       "2                1                7          1             0   \n",
       "3                1               11          1             0   \n",
       "4                1                1          1             0   \n",
       "\n",
       "   TP_DEPENDENCIA_ADM_ESC  NU_NOTA_CN  NU_NOTA_CH  NU_NOTA_LC  NU_NOTA_MT  \\\n",
       "0                     NaN       445.4       589.0       621.5       465.5   \n",
       "1                     NaN       402.9       447.6       537.3       425.5   \n",
       "2                     NaN       706.5       709.9       625.1       769.1   \n",
       "3                     NaN       631.1       609.7       596.1       535.5   \n",
       "4                     NaN       685.2       719.2       619.4       799.6   \n",
       "\n",
       "   NU_NOTA_REDACAO Q006 Q027  \n",
       "0            560.0    D    A  \n",
       "1            640.0    B    A  \n",
       "2            620.0    I    D  \n",
       "3            720.0    J    A  \n",
       "4            800.0    H    D  "
      ]
     },
     "execution_count": 2,
     "metadata": {},
     "output_type": "execute_result"
    }
   ],
   "source": [
    "dados = pd.read_csv('dadosSP1.csv', sep = ',')\n",
    "dados.head()"
   ]
  },
  {
   "cell_type": "code",
   "execution_count": 3,
   "metadata": {},
   "outputs": [],
   "source": [
    "dados.drop('Unnamed: 0', axis =1, inplace = True)"
   ]
  },
  {
   "cell_type": "code",
   "execution_count": 21,
   "metadata": {},
   "outputs": [],
   "source": [
    "dados1 = dados.sample(5000)"
   ]
  },
  {
   "cell_type": "code",
   "execution_count": 28,
   "metadata": {},
   "outputs": [],
   "source": [
    "dados1 = dados.groupby(by = 'NO_MUNICIPIO_RESIDENCIA').mean()"
   ]
  },
  {
   "cell_type": "code",
   "execution_count": 29,
   "metadata": {},
   "outputs": [],
   "source": [
    "dados1['NU_NOTA_MED'] = (dados1.NU_NOTA_CH + dados1.NU_NOTA_CN + dados1.NU_NOTA_LC + dados1.NU_NOTA_MT + dados1.NU_NOTA_REDACAO)/5"
   ]
  },
  {
   "cell_type": "code",
   "execution_count": 32,
   "metadata": {},
   "outputs": [],
   "source": [
    "dados1 = dados1.reset_index()"
   ]
  },
  {
   "cell_type": "code",
   "execution_count": 54,
   "metadata": {},
   "outputs": [
    {
     "data": {
      "application/vnd.vegalite.v2+json": {
       "$schema": "https://vega.github.io/schema/vega-lite/v2.6.0.json",
       "config": {
        "view": {
         "height": 300,
         "width": 400
        }
       },
       "data": {
        "format": {
         "feature": "geojs-35-mun",
         "type": "topojson"
        },
        "url": "topojson-sp2.json"
       },
       "datasets": {
        "data-5c088daf99b91c1cd1bc361af3ecdbe2": [
         {
          "NO_MUNICIPIO_RESIDENCIA": "Adamantina",
          "NU_NOTA_MED": 552.6089208633093
         },
         {
          "NO_MUNICIPIO_RESIDENCIA": "Adolfo",
          "NU_NOTA_MED": 503.40878048780485
         },
         {
          "NO_MUNICIPIO_RESIDENCIA": "Aguaí",
          "NU_NOTA_MED": 545.7112883435584
         },
         {
          "NO_MUNICIPIO_RESIDENCIA": "Agudos",
          "NU_NOTA_MED": 544.2100200400803
         },
         {
          "NO_MUNICIPIO_RESIDENCIA": "Alambari",
          "NU_NOTA_MED": 506.1576271186441
         },
         {
          "NO_MUNICIPIO_RESIDENCIA": "Alfredo Marcondes",
          "NU_NOTA_MED": 520.5919540229885
         },
         {
          "NO_MUNICIPIO_RESIDENCIA": "Altair",
          "NU_NOTA_MED": 491.4538461538462
         },
         {
          "NO_MUNICIPIO_RESIDENCIA": "Altinópolis",
          "NU_NOTA_MED": 533.4159999999999
         },
         {
          "NO_MUNICIPIO_RESIDENCIA": "Alto Alegre",
          "NU_NOTA_MED": 514.5190697674419
         },
         {
          "NO_MUNICIPIO_RESIDENCIA": "Alumínio",
          "NU_NOTA_MED": 529.469855072464
         },
         {
          "NO_MUNICIPIO_RESIDENCIA": "Alvinlândia",
          "NU_NOTA_MED": 520.6141176470588
         },
         {
          "NO_MUNICIPIO_RESIDENCIA": "Americana",
          "NU_NOTA_MED": 561.5346055045868
         },
         {
          "NO_MUNICIPIO_RESIDENCIA": "Amparo",
          "NU_NOTA_MED": 558.1309803921566
         },
         {
          "NO_MUNICIPIO_RESIDENCIA": "Américo Brasiliense",
          "NU_NOTA_MED": 535.5449063670411
         },
         {
          "NO_MUNICIPIO_RESIDENCIA": "Américo de Campos",
          "NU_NOTA_MED": 547.3009756097562
         },
         {
          "NO_MUNICIPIO_RESIDENCIA": "Analândia",
          "NU_NOTA_MED": 523.3603174603174
         },
         {
          "NO_MUNICIPIO_RESIDENCIA": "Andradina",
          "NU_NOTA_MED": 538.1361253561256
         },
         {
          "NO_MUNICIPIO_RESIDENCIA": "Angatuba",
          "NU_NOTA_MED": 536.7787989556136
         },
         {
          "NO_MUNICIPIO_RESIDENCIA": "Anhembi",
          "NU_NOTA_MED": 504.81151515151515
         },
         {
          "NO_MUNICIPIO_RESIDENCIA": "Anhumas",
          "NU_NOTA_MED": 510.11813953488365
         },
         {
          "NO_MUNICIPIO_RESIDENCIA": "Aparecida",
          "NU_NOTA_MED": 545.7148605577688
         },
         {
          "NO_MUNICIPIO_RESIDENCIA": "Aparecida d'Oeste",
          "NU_NOTA_MED": 545.8577358490566
         },
         {
          "NO_MUNICIPIO_RESIDENCIA": "Apiaí",
          "NU_NOTA_MED": 531.5376162790698
         },
         {
          "NO_MUNICIPIO_RESIDENCIA": "Aramina",
          "NU_NOTA_MED": 537.9636363636363
         },
         {
          "NO_MUNICIPIO_RESIDENCIA": "Arandu",
          "NU_NOTA_MED": 531.2465573770492
         },
         {
          "NO_MUNICIPIO_RESIDENCIA": "Arapeí",
          "NU_NOTA_MED": 514.1333333333333
         },
         {
          "NO_MUNICIPIO_RESIDENCIA": "Araraquara",
          "NU_NOTA_MED": 561.8796018376722
         },
         {
          "NO_MUNICIPIO_RESIDENCIA": "Araras",
          "NU_NOTA_MED": 556.3944046364597
         },
         {
          "NO_MUNICIPIO_RESIDENCIA": "Araçariguama",
          "NU_NOTA_MED": 523.2145299145299
         },
         {
          "NO_MUNICIPIO_RESIDENCIA": "Araçatuba",
          "NU_NOTA_MED": 553.1697198981449
         },
         {
          "NO_MUNICIPIO_RESIDENCIA": "Araçoiaba da Serra",
          "NU_NOTA_MED": 539.7717938144331
         },
         {
          "NO_MUNICIPIO_RESIDENCIA": "Arco-Íris",
          "NU_NOTA_MED": 540.3482352941177
         },
         {
          "NO_MUNICIPIO_RESIDENCIA": "Arealva",
          "NU_NOTA_MED": 536.4165573770491
         },
         {
          "NO_MUNICIPIO_RESIDENCIA": "Areias",
          "NU_NOTA_MED": 502.2361904761904
         },
         {
          "NO_MUNICIPIO_RESIDENCIA": "Areiópolis",
          "NU_NOTA_MED": 527.52
         },
         {
          "NO_MUNICIPIO_RESIDENCIA": "Ariranha",
          "NU_NOTA_MED": 560.5746938775511
         },
         {
          "NO_MUNICIPIO_RESIDENCIA": "Artur Nogueira",
          "NU_NOTA_MED": 533.6693734335839
         },
         {
          "NO_MUNICIPIO_RESIDENCIA": "Arujá",
          "NU_NOTA_MED": 527.1670357941833
         },
         {
          "NO_MUNICIPIO_RESIDENCIA": "Aspásia",
          "NU_NOTA_MED": 529.44375
         },
         {
          "NO_MUNICIPIO_RESIDENCIA": "Assis",
          "NU_NOTA_MED": 548.7942774566473
         },
         {
          "NO_MUNICIPIO_RESIDENCIA": "Atibaia",
          "NU_NOTA_MED": 552.9148378254912
         },
         {
          "NO_MUNICIPIO_RESIDENCIA": "Auriflama",
          "NU_NOTA_MED": 533.4860829493089
         },
         {
          "NO_MUNICIPIO_RESIDENCIA": "Avanhandava",
          "NU_NOTA_MED": 535.2807142857142
         },
         {
          "NO_MUNICIPIO_RESIDENCIA": "Avaré",
          "NU_NOTA_MED": 552.5431604538084
         },
         {
          "NO_MUNICIPIO_RESIDENCIA": "Avaí",
          "NU_NOTA_MED": 492.1091228070174
         },
         {
          "NO_MUNICIPIO_RESIDENCIA": "Bady Bassitt",
          "NU_NOTA_MED": 545.2570135746604
         },
         {
          "NO_MUNICIPIO_RESIDENCIA": "Balbinos",
          "NU_NOTA_MED": 491.27200000000005
         },
         {
          "NO_MUNICIPIO_RESIDENCIA": "Bananal",
          "NU_NOTA_MED": 530.7642857142857
         },
         {
          "NO_MUNICIPIO_RESIDENCIA": "Barbosa",
          "NU_NOTA_MED": 507.44928571428574
         },
         {
          "NO_MUNICIPIO_RESIDENCIA": "Bariri",
          "NU_NOTA_MED": 560.9638979963568
         },
         {
          "NO_MUNICIPIO_RESIDENCIA": "Barra Bonita",
          "NU_NOTA_MED": 552.6099305555556
         },
         {
          "NO_MUNICIPIO_RESIDENCIA": "Barra do Chapéu",
          "NU_NOTA_MED": 508.1373333333334
         },
         {
          "NO_MUNICIPIO_RESIDENCIA": "Barra do Turvo",
          "NU_NOTA_MED": 492.9966315789473
         },
         {
          "NO_MUNICIPIO_RESIDENCIA": "Barretos",
          "NU_NOTA_MED": 535.9940130151844
         },
         {
          "NO_MUNICIPIO_RESIDENCIA": "Barrinha",
          "NU_NOTA_MED": 512.0569852941173
         },
         {
          "NO_MUNICIPIO_RESIDENCIA": "Barueri",
          "NU_NOTA_MED": 535.9641042099304
         },
         {
          "NO_MUNICIPIO_RESIDENCIA": "Barão de Antonina",
          "NU_NOTA_MED": 513.892
         },
         {
          "NO_MUNICIPIO_RESIDENCIA": "Bastos",
          "NU_NOTA_MED": 534.3204312668461
         },
         {
          "NO_MUNICIPIO_RESIDENCIA": "Batatais",
          "NU_NOTA_MED": 549.2223651844841
         },
         {
          "NO_MUNICIPIO_RESIDENCIA": "Bauru",
          "NU_NOTA_MED": 552.6131756141942
         },
         {
          "NO_MUNICIPIO_RESIDENCIA": "Bebedouro",
          "NU_NOTA_MED": 558.9442082429499
         },
         {
          "NO_MUNICIPIO_RESIDENCIA": "Bento de Abreu",
          "NU_NOTA_MED": 498.64071428571424
         },
         {
          "NO_MUNICIPIO_RESIDENCIA": "Bernardino de Campos",
          "NU_NOTA_MED": 527.7497345132743
         },
         {
          "NO_MUNICIPIO_RESIDENCIA": "Bertioga",
          "NU_NOTA_MED": 514.7879572446553
         },
         {
          "NO_MUNICIPIO_RESIDENCIA": "Bilac",
          "NU_NOTA_MED": 540.8764485981308
         },
         {
          "NO_MUNICIPIO_RESIDENCIA": "Birigui",
          "NU_NOTA_MED": 541.012812333865
         },
         {
          "NO_MUNICIPIO_RESIDENCIA": "Biritiba-Mirim",
          "NU_NOTA_MED": 521.4361818181818
         },
         {
          "NO_MUNICIPIO_RESIDENCIA": "Boa Esperança do Sul",
          "NU_NOTA_MED": 518.5439130434781
         },
         {
          "NO_MUNICIPIO_RESIDENCIA": "Bocaina",
          "NU_NOTA_MED": 538.6861224489796
         },
         {
          "NO_MUNICIPIO_RESIDENCIA": "Bofete",
          "NU_NOTA_MED": 527.7598058252427
         },
         {
          "NO_MUNICIPIO_RESIDENCIA": "Boituva",
          "NU_NOTA_MED": 540.0102479338841
         },
         {
          "NO_MUNICIPIO_RESIDENCIA": "Bom Jesus dos Perdões",
          "NU_NOTA_MED": 533.2432302405498
         },
         {
          "NO_MUNICIPIO_RESIDENCIA": "Bom Sucesso de Itararé",
          "NU_NOTA_MED": 511.00114942528734
         },
         {
          "NO_MUNICIPIO_RESIDENCIA": "Boracéia",
          "NU_NOTA_MED": 527.05
         },
         {
          "NO_MUNICIPIO_RESIDENCIA": "Borborema",
          "NU_NOTA_MED": 528.3308108108109
         },
         {
          "NO_MUNICIPIO_RESIDENCIA": "Borebi",
          "NU_NOTA_MED": 528.8771428571429
         },
         {
          "NO_MUNICIPIO_RESIDENCIA": "Borá",
          "NU_NOTA_MED": 501.77555555555557
         },
         {
          "NO_MUNICIPIO_RESIDENCIA": "Botucatu",
          "NU_NOTA_MED": 567.782076451156
         },
         {
          "NO_MUNICIPIO_RESIDENCIA": "Bragança Paulista",
          "NU_NOTA_MED": 545.0190742101402
         },
         {
          "NO_MUNICIPIO_RESIDENCIA": "Braúna",
          "NU_NOTA_MED": 525.6137931034483
         },
         {
          "NO_MUNICIPIO_RESIDENCIA": "Brejo Alegre",
          "NU_NOTA_MED": 535.85
         },
         {
          "NO_MUNICIPIO_RESIDENCIA": "Brodowski",
          "NU_NOTA_MED": 541.4631372549019
         },
         {
          "NO_MUNICIPIO_RESIDENCIA": "Brotas",
          "NU_NOTA_MED": 554.6997142857142
         },
         {
          "NO_MUNICIPIO_RESIDENCIA": "Buri",
          "NU_NOTA_MED": 513.4150194552528
         },
         {
          "NO_MUNICIPIO_RESIDENCIA": "Buritama",
          "NU_NOTA_MED": 526.218222222222
         },
         {
          "NO_MUNICIPIO_RESIDENCIA": "Buritizal",
          "NU_NOTA_MED": 546.4585185185185
         },
         {
          "NO_MUNICIPIO_RESIDENCIA": "Bálsamo",
          "NU_NOTA_MED": 550.3046
         },
         {
          "NO_MUNICIPIO_RESIDENCIA": "Cabreúva",
          "NU_NOTA_MED": 516.50506512301
         },
         {
          "NO_MUNICIPIO_RESIDENCIA": "Cabrália Paulista",
          "NU_NOTA_MED": 512.0495384615385
         },
         {
          "NO_MUNICIPIO_RESIDENCIA": "Cachoeira Paulista",
          "NU_NOTA_MED": 552.1886666666667
         },
         {
          "NO_MUNICIPIO_RESIDENCIA": "Caconde",
          "NU_NOTA_MED": 537.1440123456791
         },
         {
          "NO_MUNICIPIO_RESIDENCIA": "Cafelândia",
          "NU_NOTA_MED": 515.4789333333332
         },
         {
          "NO_MUNICIPIO_RESIDENCIA": "Caiabu",
          "NU_NOTA_MED": 511.97205882352944
         },
         {
          "NO_MUNICIPIO_RESIDENCIA": "Caieiras",
          "NU_NOTA_MED": 529.1985028571431
         },
         {
          "NO_MUNICIPIO_RESIDENCIA": "Caiuá",
          "NU_NOTA_MED": 497.9348571428571
         },
         {
          "NO_MUNICIPIO_RESIDENCIA": "Cajamar",
          "NU_NOTA_MED": 525.2327285037236
         },
         {
          "NO_MUNICIPIO_RESIDENCIA": "Cajati",
          "NU_NOTA_MED": 518.4394832041343
         },
         {
          "NO_MUNICIPIO_RESIDENCIA": "Cajobi",
          "NU_NOTA_MED": 545.7382258064516
         },
         {
          "NO_MUNICIPIO_RESIDENCIA": "Cajuru",
          "NU_NOTA_MED": 527.9528459530027
         },
         {
          "NO_MUNICIPIO_RESIDENCIA": "Campina do Monte Alegre",
          "NU_NOTA_MED": 500.7649541284404
         },
         {
          "NO_MUNICIPIO_RESIDENCIA": "Campinas",
          "NU_NOTA_MED": 556.2297645818683
         },
         {
          "NO_MUNICIPIO_RESIDENCIA": "Campo Limpo Paulista",
          "NU_NOTA_MED": 529.2360531309299
         },
         {
          "NO_MUNICIPIO_RESIDENCIA": "Campos Novos Paulista",
          "NU_NOTA_MED": 512.5854054054055
         },
         {
          "NO_MUNICIPIO_RESIDENCIA": "Campos do Jordão",
          "NU_NOTA_MED": 541.5685256410259
         },
         {
          "NO_MUNICIPIO_RESIDENCIA": "Cananéia",
          "NU_NOTA_MED": 515.5747058823529
         },
         {
          "NO_MUNICIPIO_RESIDENCIA": "Canas",
          "NU_NOTA_MED": 514.823043478261
         },
         {
          "NO_MUNICIPIO_RESIDENCIA": "Canitar",
          "NU_NOTA_MED": 505.82619047619045
         },
         {
          "NO_MUNICIPIO_RESIDENCIA": "Capela do Alto",
          "NU_NOTA_MED": 528.1657004830918
         },
         {
          "NO_MUNICIPIO_RESIDENCIA": "Capivari",
          "NU_NOTA_MED": 542.9117496807154
         },
         {
          "NO_MUNICIPIO_RESIDENCIA": "Capão Bonito",
          "NU_NOTA_MED": 532.1338795986621
         },
         {
          "NO_MUNICIPIO_RESIDENCIA": "Caraguatatuba",
          "NU_NOTA_MED": 531.1201905770246
         },
         {
          "NO_MUNICIPIO_RESIDENCIA": "Carapicuíba",
          "NU_NOTA_MED": 516.8214148371366
         },
         {
          "NO_MUNICIPIO_RESIDENCIA": "Cardoso",
          "NU_NOTA_MED": 539.0842857142858
         },
         {
          "NO_MUNICIPIO_RESIDENCIA": "Casa Branca",
          "NU_NOTA_MED": 541.2459060402687
         },
         {
          "NO_MUNICIPIO_RESIDENCIA": "Castilho",
          "NU_NOTA_MED": 522.558187919463
         },
         {
          "NO_MUNICIPIO_RESIDENCIA": "Catanduva",
          "NU_NOTA_MED": 562.9178103207814
         },
         {
          "NO_MUNICIPIO_RESIDENCIA": "Catiguá",
          "NU_NOTA_MED": 528.0276595744681
         },
         {
          "NO_MUNICIPIO_RESIDENCIA": "Caçapava",
          "NU_NOTA_MED": 541.8580221402215
         },
         {
          "NO_MUNICIPIO_RESIDENCIA": "Cedral",
          "NU_NOTA_MED": 539.878115942029
         },
         {
          "NO_MUNICIPIO_RESIDENCIA": "Cerqueira César",
          "NU_NOTA_MED": 538.1633992094862
         },
         {
          "NO_MUNICIPIO_RESIDENCIA": "Cerquilho",
          "NU_NOTA_MED": 547.0167777777781
         },
         {
          "NO_MUNICIPIO_RESIDENCIA": "Cesário Lange",
          "NU_NOTA_MED": 527.3556643356643
         },
         {
          "NO_MUNICIPIO_RESIDENCIA": "Charqueada",
          "NU_NOTA_MED": 536.7232061068702
         },
         {
          "NO_MUNICIPIO_RESIDENCIA": "Chavantes",
          "NU_NOTA_MED": 517.9943661971831
         },
         {
          "NO_MUNICIPIO_RESIDENCIA": "Clementina",
          "NU_NOTA_MED": 522.5905405405405
         },
         {
          "NO_MUNICIPIO_RESIDENCIA": "Colina",
          "NU_NOTA_MED": 539.204497991968
         },
         {
          "NO_MUNICIPIO_RESIDENCIA": "Colômbia",
          "NU_NOTA_MED": 531.1746511627906
         },
         {
          "NO_MUNICIPIO_RESIDENCIA": "Conchal",
          "NU_NOTA_MED": 532.2047204968943
         },
         {
          "NO_MUNICIPIO_RESIDENCIA": "Conchas",
          "NU_NOTA_MED": 536.1816042780749
         },
         {
          "NO_MUNICIPIO_RESIDENCIA": "Cordeirópolis",
          "NU_NOTA_MED": 550.1657638888888
         },
         {
          "NO_MUNICIPIO_RESIDENCIA": "Coroados",
          "NU_NOTA_MED": 529.291111111111
         },
         {
          "NO_MUNICIPIO_RESIDENCIA": "Coronel Macedo",
          "NU_NOTA_MED": 507.0481081081081
         },
         {
          "NO_MUNICIPIO_RESIDENCIA": "Corumbataí",
          "NU_NOTA_MED": 510.8186666666667
         },
         {
          "NO_MUNICIPIO_RESIDENCIA": "Cosmorama",
          "NU_NOTA_MED": 533.1177464788732
         },
         {
          "NO_MUNICIPIO_RESIDENCIA": "Cosmópolis",
          "NU_NOTA_MED": 533.7619723502302
         },
         {
          "NO_MUNICIPIO_RESIDENCIA": "Cotia",
          "NU_NOTA_MED": 535.5549295774648
         },
         {
          "NO_MUNICIPIO_RESIDENCIA": "Cravinhos",
          "NU_NOTA_MED": 543.3402309468821
         },
         {
          "NO_MUNICIPIO_RESIDENCIA": "Cristais Paulista",
          "NU_NOTA_MED": 530.8617187500001
         },
         {
          "NO_MUNICIPIO_RESIDENCIA": "Cruzeiro",
          "NU_NOTA_MED": 556.5138461538461
         },
         {
          "NO_MUNICIPIO_RESIDENCIA": "Cruzália",
          "NU_NOTA_MED": 512.7242105263158
         },
         {
          "NO_MUNICIPIO_RESIDENCIA": "Cubatão",
          "NU_NOTA_MED": 527.2851078775716
         },
         {
          "NO_MUNICIPIO_RESIDENCIA": "Cunha",
          "NU_NOTA_MED": 536.7147863247864
         },
         {
          "NO_MUNICIPIO_RESIDENCIA": "Cássia dos Coqueiros",
          "NU_NOTA_MED": 538.922142857143
         },
         {
          "NO_MUNICIPIO_RESIDENCIA": "Cândido Mota",
          "NU_NOTA_MED": 537.9219002375297
         },
         {
          "NO_MUNICIPIO_RESIDENCIA": "Cândido Rodrigues",
          "NU_NOTA_MED": 560.0485714285714
         },
         {
          "NO_MUNICIPIO_RESIDENCIA": "Descalvado",
          "NU_NOTA_MED": 560.0875630252101
         },
         {
          "NO_MUNICIPIO_RESIDENCIA": "Diadema",
          "NU_NOTA_MED": 524.8765847031652
         },
         {
          "NO_MUNICIPIO_RESIDENCIA": "Dirce Reis",
          "NU_NOTA_MED": 555.59
         },
         {
          "NO_MUNICIPIO_RESIDENCIA": "Divinolândia",
          "NU_NOTA_MED": 547.2900000000001
         },
         {
          "NO_MUNICIPIO_RESIDENCIA": "Dobrada",
          "NU_NOTA_MED": 515.4559595959597
         },
         {
          "NO_MUNICIPIO_RESIDENCIA": "Dois Córregos",
          "NU_NOTA_MED": 545.4690207715132
         },
         {
          "NO_MUNICIPIO_RESIDENCIA": "Dolcinópolis",
          "NU_NOTA_MED": 550.5575
         },
         {
          "NO_MUNICIPIO_RESIDENCIA": "Dourado",
          "NU_NOTA_MED": 533.1452272727272
         },
         {
          "NO_MUNICIPIO_RESIDENCIA": "Dracena",
          "NU_NOTA_MED": 550.0563939899829
         },
         {
          "NO_MUNICIPIO_RESIDENCIA": "Duartina",
          "NU_NOTA_MED": 533.3236893203884
         },
         {
          "NO_MUNICIPIO_RESIDENCIA": "Dumont",
          "NU_NOTA_MED": 535.8560479041914
         },
         {
          "NO_MUNICIPIO_RESIDENCIA": "Echaporã",
          "NU_NOTA_MED": 537.0434285714285
         },
         {
          "NO_MUNICIPIO_RESIDENCIA": "Eldorado",
          "NU_NOTA_MED": 503.42636363636376
         },
         {
          "NO_MUNICIPIO_RESIDENCIA": "Elias Fausto",
          "NU_NOTA_MED": 521.7292024539878
         },
         {
          "NO_MUNICIPIO_RESIDENCIA": "Elisiário",
          "NU_NOTA_MED": 520.7427777777777
         },
         {
          "NO_MUNICIPIO_RESIDENCIA": "Embaúba",
          "NU_NOTA_MED": 573.0341176470587
         },
         {
          "NO_MUNICIPIO_RESIDENCIA": "Embu das Artes",
          "NU_NOTA_MED": 516.7230391264775
         },
         {
          "NO_MUNICIPIO_RESIDENCIA": "Embu-Guaçu",
          "NU_NOTA_MED": 516.9186457590876
         },
         {
          "NO_MUNICIPIO_RESIDENCIA": "Emilianópolis",
          "NU_NOTA_MED": 508.83620689655163
         },
         {
          "NO_MUNICIPIO_RESIDENCIA": "Engenheiro Coelho",
          "NU_NOTA_MED": 531.9681904761906
         },
         {
          "NO_MUNICIPIO_RESIDENCIA": "Espírito Santo do Pinhal",
          "NU_NOTA_MED": 557.4561940298508
         },
         {
          "NO_MUNICIPIO_RESIDENCIA": "Espírito Santo do Turvo",
          "NU_NOTA_MED": 525.1259649122807
         },
         {
          "NO_MUNICIPIO_RESIDENCIA": "Estiva Gerbi",
          "NU_NOTA_MED": 541.3582222222221
         },
         {
          "NO_MUNICIPIO_RESIDENCIA": "Estrela d'Oeste",
          "NU_NOTA_MED": 548.7586046511628
         },
         {
          "NO_MUNICIPIO_RESIDENCIA": "Estrela do Norte",
          "NU_NOTA_MED": 500.0466666666666
         },
         {
          "NO_MUNICIPIO_RESIDENCIA": "Euclides da Cunha Paulista",
          "NU_NOTA_MED": 483.59752293577986
         },
         {
          "NO_MUNICIPIO_RESIDENCIA": "Fartura",
          "NU_NOTA_MED": 543.304383561644
         },
         {
          "NO_MUNICIPIO_RESIDENCIA": "Fernando Prestes",
          "NU_NOTA_MED": 547.1926153846155
         },
         {
          "NO_MUNICIPIO_RESIDENCIA": "Fernandópolis",
          "NU_NOTA_MED": 552.6611159737416
         },
         {
          "NO_MUNICIPIO_RESIDENCIA": "Fernão",
          "NU_NOTA_MED": 513.8036363636363
         },
         {
          "NO_MUNICIPIO_RESIDENCIA": "Ferraz de Vasconcelos",
          "NU_NOTA_MED": 515.1421278042146
         },
         {
          "NO_MUNICIPIO_RESIDENCIA": "Flora Rica",
          "NU_NOTA_MED": 516.2
         },
         {
          "NO_MUNICIPIO_RESIDENCIA": "Floreal",
          "NU_NOTA_MED": 560.6004347826087
         },
         {
          "NO_MUNICIPIO_RESIDENCIA": "Florínia",
          "NU_NOTA_MED": 513.8657142857144
         },
         {
          "NO_MUNICIPIO_RESIDENCIA": "Flórida Paulista",
          "NU_NOTA_MED": 532.2613636363636
         },
         {
          "NO_MUNICIPIO_RESIDENCIA": "Franca",
          "NU_NOTA_MED": 547.3102618268376
         },
         {
          "NO_MUNICIPIO_RESIDENCIA": "Francisco Morato",
          "NU_NOTA_MED": 507.3206518723997
         },
         {
          "NO_MUNICIPIO_RESIDENCIA": "Franco da Rocha",
          "NU_NOTA_MED": 514.6287106511429
         },
         {
          "NO_MUNICIPIO_RESIDENCIA": "Gabriel Monteiro",
          "NU_NOTA_MED": 517.3979999999999
         },
         {
          "NO_MUNICIPIO_RESIDENCIA": "Garça",
          "NU_NOTA_MED": 539.2835311572694
         },
         {
          "NO_MUNICIPIO_RESIDENCIA": "Gastão Vidigal",
          "NU_NOTA_MED": 534.4583783783784
         },
         {
          "NO_MUNICIPIO_RESIDENCIA": "Gavião Peixoto",
          "NU_NOTA_MED": 531.0984615384615
         },
         {
          "NO_MUNICIPIO_RESIDENCIA": "General Salgado",
          "NU_NOTA_MED": 540.2751086956522
         },
         {
          "NO_MUNICIPIO_RESIDENCIA": "Getulina",
          "NU_NOTA_MED": 531.3074698795183
         },
         {
          "NO_MUNICIPIO_RESIDENCIA": "Glicério",
          "NU_NOTA_MED": 524.004090909091
         },
         {
          "NO_MUNICIPIO_RESIDENCIA": "Guaimbê",
          "NU_NOTA_MED": 510.01826086956515
         },
         {
          "NO_MUNICIPIO_RESIDENCIA": "Guaiçara",
          "NU_NOTA_MED": 518.7358762886598
         },
         {
          "NO_MUNICIPIO_RESIDENCIA": "Guapiara",
          "NU_NOTA_MED": 503.26416289592754
         },
         {
          "NO_MUNICIPIO_RESIDENCIA": "Guapiaçu",
          "NU_NOTA_MED": 547.5341520467834
         },
         {
          "NO_MUNICIPIO_RESIDENCIA": "Guaraci",
          "NU_NOTA_MED": 518.2484033613446
         },
         {
          "NO_MUNICIPIO_RESIDENCIA": "Guarani d'Oeste",
          "NU_NOTA_MED": 539.1646153846152
         },
         {
          "NO_MUNICIPIO_RESIDENCIA": "Guarantã",
          "NU_NOTA_MED": 517.9
         },
         {
          "NO_MUNICIPIO_RESIDENCIA": "Guararapes",
          "NU_NOTA_MED": 547.6106457925636
         },
         {
          "NO_MUNICIPIO_RESIDENCIA": "Guararema",
          "NU_NOTA_MED": 528.3823754789271
         },
         {
          "NO_MUNICIPIO_RESIDENCIA": "Guaratinguetá",
          "NU_NOTA_MED": 563.7176000000002
         },
         {
          "NO_MUNICIPIO_RESIDENCIA": "Guaraçaí",
          "NU_NOTA_MED": 540.5227906976744
         },
         {
          "NO_MUNICIPIO_RESIDENCIA": "Guareí",
          "NU_NOTA_MED": 525.7040425531916
         },
         {
          "NO_MUNICIPIO_RESIDENCIA": "Guariba",
          "NU_NOTA_MED": 521.7180215827339
         },
         {
          "NO_MUNICIPIO_RESIDENCIA": "Guarujá",
          "NU_NOTA_MED": 518.6259224441833
         },
         {
          "NO_MUNICIPIO_RESIDENCIA": "Guarulhos",
          "NU_NOTA_MED": 531.2792388074012
         },
         {
          "NO_MUNICIPIO_RESIDENCIA": "Guará",
          "NU_NOTA_MED": 533.7282352941176
         },
         {
          "NO_MUNICIPIO_RESIDENCIA": "Guatapará",
          "NU_NOTA_MED": 525.3007407407406
         },
         {
          "NO_MUNICIPIO_RESIDENCIA": "Guaíra",
          "NU_NOTA_MED": 549.5536016949152
         },
         {
          "NO_MUNICIPIO_RESIDENCIA": "Guzolândia",
          "NU_NOTA_MED": 537.2101639344262
         },
         {
          "NO_MUNICIPIO_RESIDENCIA": "Gália",
          "NU_NOTA_MED": 529.0301639344261
         },
         {
          "NO_MUNICIPIO_RESIDENCIA": "Herculândia",
          "NU_NOTA_MED": 526.2667924528301
         },
         {
          "NO_MUNICIPIO_RESIDENCIA": "Holambra",
          "NU_NOTA_MED": 563.8591452991452
         },
         {
          "NO_MUNICIPIO_RESIDENCIA": "Hortolândia",
          "NU_NOTA_MED": 528.0102253521121
         },
         {
          "NO_MUNICIPIO_RESIDENCIA": "Iacanga",
          "NU_NOTA_MED": 528.232049689441
         },
         {
          "NO_MUNICIPIO_RESIDENCIA": "Iacri",
          "NU_NOTA_MED": 544.2283582089552
         },
         {
          "NO_MUNICIPIO_RESIDENCIA": "Iaras",
          "NU_NOTA_MED": 506.7533333333334
         },
         {
          "NO_MUNICIPIO_RESIDENCIA": "Ibaté",
          "NU_NOTA_MED": 525.5058169934642
         },
         {
          "NO_MUNICIPIO_RESIDENCIA": "Ibirarema",
          "NU_NOTA_MED": 516.6840404040404
         },
         {
          "NO_MUNICIPIO_RESIDENCIA": "Ibirá",
          "NU_NOTA_MED": 538.2798496240601
         },
         {
          "NO_MUNICIPIO_RESIDENCIA": "Ibitinga",
          "NU_NOTA_MED": 545.5863881401617
         },
         {
          "NO_MUNICIPIO_RESIDENCIA": "Ibiúna",
          "NU_NOTA_MED": 526.1281053525917
         },
         {
          "NO_MUNICIPIO_RESIDENCIA": "Icém",
          "NU_NOTA_MED": 525.2759183673469
         },
         {
          "NO_MUNICIPIO_RESIDENCIA": "Iepê",
          "NU_NOTA_MED": 523.6844736842105
         },
         {
          "NO_MUNICIPIO_RESIDENCIA": "Igarapava",
          "NU_NOTA_MED": 539.3428415300547
         },
         {
          "NO_MUNICIPIO_RESIDENCIA": "Igaratá",
          "NU_NOTA_MED": 518.4207766990291
         },
         {
          "NO_MUNICIPIO_RESIDENCIA": "Igaraçu do Tietê",
          "NU_NOTA_MED": 531.1108960573478
         },
         {
          "NO_MUNICIPIO_RESIDENCIA": "Iguape",
          "NU_NOTA_MED": 522.6063876651983
         },
         {
          "NO_MUNICIPIO_RESIDENCIA": "Ilha Comprida",
          "NU_NOTA_MED": 537.3986861313872
         },
         {
          "NO_MUNICIPIO_RESIDENCIA": "Ilha Solteira",
          "NU_NOTA_MED": 557.3462669245648
         },
         {
          "NO_MUNICIPIO_RESIDENCIA": "Ilhabela",
          "NU_NOTA_MED": 523.5591556728232
         },
         {
          "NO_MUNICIPIO_RESIDENCIA": "Indaiatuba",
          "NU_NOTA_MED": 553.4338316722042
         },
         {
          "NO_MUNICIPIO_RESIDENCIA": "Indiana",
          "NU_NOTA_MED": 509.51824175824186
         },
         {
          "NO_MUNICIPIO_RESIDENCIA": "Indiaporã",
          "NU_NOTA_MED": 533.6966666666667
         },
         {
          "NO_MUNICIPIO_RESIDENCIA": "Inúbia Paulista",
          "NU_NOTA_MED": 520.4962790697675
         },
         {
          "NO_MUNICIPIO_RESIDENCIA": "Ipaussu",
          "NU_NOTA_MED": 513.5343243243244
         },
         {
          "NO_MUNICIPIO_RESIDENCIA": "Iperó",
          "NU_NOTA_MED": 515.0014110429447
         },
         {
          "NO_MUNICIPIO_RESIDENCIA": "Ipeúna",
          "NU_NOTA_MED": 522.7535849056604
         },
         {
          "NO_MUNICIPIO_RESIDENCIA": "Ipiguá",
          "NU_NOTA_MED": 527.72
         },
         {
          "NO_MUNICIPIO_RESIDENCIA": "Iporanga",
          "NU_NOTA_MED": 494.5988888888889
         },
         {
          "NO_MUNICIPIO_RESIDENCIA": "Ipuã",
          "NU_NOTA_MED": 526.3289908256878
         },
         {
          "NO_MUNICIPIO_RESIDENCIA": "Iracemápolis",
          "NU_NOTA_MED": 548.2983766233767
         },
         {
          "NO_MUNICIPIO_RESIDENCIA": "Irapuru",
          "NU_NOTA_MED": 540.2932432432433
         },
         {
          "NO_MUNICIPIO_RESIDENCIA": "Irapuã",
          "NU_NOTA_MED": 513.1015094339622
         },
         {
          "NO_MUNICIPIO_RESIDENCIA": "Itaberá",
          "NU_NOTA_MED": 511.42204081632633
         },
         {
          "NO_MUNICIPIO_RESIDENCIA": "Itajobi",
          "NU_NOTA_MED": 553.3194482758622
         },
         {
          "NO_MUNICIPIO_RESIDENCIA": "Itaju",
          "NU_NOTA_MED": 523.2509090909091
         },
         {
          "NO_MUNICIPIO_RESIDENCIA": "Itanhaém",
          "NU_NOTA_MED": 520.8503909952603
         },
         {
          "NO_MUNICIPIO_RESIDENCIA": "Itapecerica da Serra",
          "NU_NOTA_MED": 522.4120055134391
         },
         {
          "NO_MUNICIPIO_RESIDENCIA": "Itapetininga",
          "NU_NOTA_MED": 540.7452093879427
         },
         {
          "NO_MUNICIPIO_RESIDENCIA": "Itapeva",
          "NU_NOTA_MED": 525.0408503937008
         },
         {
          "NO_MUNICIPIO_RESIDENCIA": "Itapevi",
          "NU_NOTA_MED": 510.20679574584165
         },
         {
          "NO_MUNICIPIO_RESIDENCIA": "Itapira",
          "NU_NOTA_MED": 553.7974107142858
         },
         {
          "NO_MUNICIPIO_RESIDENCIA": "Itapirapuã Paulista",
          "NU_NOTA_MED": 504.73279999999994
         },
         {
          "NO_MUNICIPIO_RESIDENCIA": "Itaporanga",
          "NU_NOTA_MED": 524.687250996016
         },
         {
          "NO_MUNICIPIO_RESIDENCIA": "Itapura",
          "NU_NOTA_MED": 510.7222222222222
         },
         {
          "NO_MUNICIPIO_RESIDENCIA": "Itapuí",
          "NU_NOTA_MED": 544.6475728155339
         },
         {
          "NO_MUNICIPIO_RESIDENCIA": "Itaquaquecetuba",
          "NU_NOTA_MED": 509.33592476489014
         },
         {
          "NO_MUNICIPIO_RESIDENCIA": "Itararé",
          "NU_NOTA_MED": 525.3466578947365
         },
         {
          "NO_MUNICIPIO_RESIDENCIA": "Itariri",
          "NU_NOTA_MED": 520.3030188679246
         },
         {
          "NO_MUNICIPIO_RESIDENCIA": "Itatiba",
          "NU_NOTA_MED": 544.772442105263
         },
         {
          "NO_MUNICIPIO_RESIDENCIA": "Itatinga",
          "NU_NOTA_MED": 544.7267724867723
         },
         {
          "NO_MUNICIPIO_RESIDENCIA": "Itaí",
          "NU_NOTA_MED": 531.9200000000001
         },
         {
          "NO_MUNICIPIO_RESIDENCIA": "Itaóca",
          "NU_NOTA_MED": 517.0829411764705
         },
         {
          "NO_MUNICIPIO_RESIDENCIA": "Itirapina",
          "NU_NOTA_MED": 544.9287425149699
         },
         {
          "NO_MUNICIPIO_RESIDENCIA": "Itirapuã",
          "NU_NOTA_MED": 525.888
         },
         {
          "NO_MUNICIPIO_RESIDENCIA": "Itobi",
          "NU_NOTA_MED": 524.8141772151897
         },
         {
          "NO_MUNICIPIO_RESIDENCIA": "Itu",
          "NU_NOTA_MED": 546.1431051024856
         },
         {
          "NO_MUNICIPIO_RESIDENCIA": "Itupeva",
          "NU_NOTA_MED": 536.5539425587469
         },
         {
          "NO_MUNICIPIO_RESIDENCIA": "Ituverava",
          "NU_NOTA_MED": 550.2736363636362
         },
         {
          "NO_MUNICIPIO_RESIDENCIA": "Itápolis",
          "NU_NOTA_MED": 548.882433862434
         },
         {
          "NO_MUNICIPIO_RESIDENCIA": "Jaborandi",
          "NU_NOTA_MED": 530.0194495412844
         },
         {
          "NO_MUNICIPIO_RESIDENCIA": "Jaboticabal",
          "NU_NOTA_MED": 551.2231357839458
         },
         {
          "NO_MUNICIPIO_RESIDENCIA": "Jacareí",
          "NU_NOTA_MED": 542.6497559760959
         },
         {
          "NO_MUNICIPIO_RESIDENCIA": "Jaci",
          "NU_NOTA_MED": 506.1700000000002
         },
         {
          "NO_MUNICIPIO_RESIDENCIA": "Jacupiranga",
          "NU_NOTA_MED": 532.8672316384184
         },
         {
          "NO_MUNICIPIO_RESIDENCIA": "Jaguariúna",
          "NU_NOTA_MED": 541.915894179894
         },
         {
          "NO_MUNICIPIO_RESIDENCIA": "Jales",
          "NU_NOTA_MED": 555.0690148448042
         },
         {
          "NO_MUNICIPIO_RESIDENCIA": "Jambeiro",
          "NU_NOTA_MED": 520.8549999999999
         },
         {
          "NO_MUNICIPIO_RESIDENCIA": "Jandira",
          "NU_NOTA_MED": 523.3133237271853
         },
         {
          "NO_MUNICIPIO_RESIDENCIA": "Jardinópolis",
          "NU_NOTA_MED": 537.9009811320753
         },
         {
          "NO_MUNICIPIO_RESIDENCIA": "Jarinu",
          "NU_NOTA_MED": 522.9279883381924
         },
         {
          "NO_MUNICIPIO_RESIDENCIA": "Jaú",
          "NU_NOTA_MED": 556.189309051955
         },
         {
          "NO_MUNICIPIO_RESIDENCIA": "Jeriquara",
          "NU_NOTA_MED": 513.9957894736842
         },
         {
          "NO_MUNICIPIO_RESIDENCIA": "Joanópolis",
          "NU_NOTA_MED": 538.7124324324323
         },
         {
          "NO_MUNICIPIO_RESIDENCIA": "José Bonifácio",
          "NU_NOTA_MED": 544.6036850921273
         },
         {
          "NO_MUNICIPIO_RESIDENCIA": "João Ramalho",
          "NU_NOTA_MED": 513.9672916666667
         },
         {
          "NO_MUNICIPIO_RESIDENCIA": "Jumirim",
          "NU_NOTA_MED": 524.157435897436
         },
         {
          "NO_MUNICIPIO_RESIDENCIA": "Jundiaí",
          "NU_NOTA_MED": 560.7249720764945
         },
         {
          "NO_MUNICIPIO_RESIDENCIA": "Junqueirópolis",
          "NU_NOTA_MED": 549.8076847290639
         },
         {
          "NO_MUNICIPIO_RESIDENCIA": "Juquitiba",
          "NU_NOTA_MED": 514.8357720588235
         },
         {
          "NO_MUNICIPIO_RESIDENCIA": "Juquiá",
          "NU_NOTA_MED": 518.8806923076921
         },
         {
          "NO_MUNICIPIO_RESIDENCIA": "Júlio Mesquita",
          "NU_NOTA_MED": 496.34035087719303
         },
         {
          "NO_MUNICIPIO_RESIDENCIA": "Lagoinha",
          "NU_NOTA_MED": 515.3776470588235
         },
         {
          "NO_MUNICIPIO_RESIDENCIA": "Laranjal Paulista",
          "NU_NOTA_MED": 535.1790624999998
         },
         {
          "NO_MUNICIPIO_RESIDENCIA": "Lavrinhas",
          "NU_NOTA_MED": 538.6581250000002
         },
         {
          "NO_MUNICIPIO_RESIDENCIA": "Lavínia",
          "NU_NOTA_MED": 551.8164556962026
         },
         {
          "NO_MUNICIPIO_RESIDENCIA": "Leme",
          "NU_NOTA_MED": 542.2577416440829
         },
         {
          "NO_MUNICIPIO_RESIDENCIA": "Lençóis Paulista",
          "NU_NOTA_MED": 549.1770914127422
         },
         {
          "NO_MUNICIPIO_RESIDENCIA": "Limeira",
          "NU_NOTA_MED": 553.6831900980853
         },
         {
          "NO_MUNICIPIO_RESIDENCIA": "Lindóia",
          "NU_NOTA_MED": 544.9219565217392
         },
         {
          "NO_MUNICIPIO_RESIDENCIA": "Lins",
          "NU_NOTA_MED": 541.9714508928573
         },
         {
          "NO_MUNICIPIO_RESIDENCIA": "Lorena",
          "NU_NOTA_MED": 555.2785944115151
         },
         {
          "NO_MUNICIPIO_RESIDENCIA": "Lourdes",
          "NU_NOTA_MED": 525.6469565217392
         },
         {
          "NO_MUNICIPIO_RESIDENCIA": "Louveira",
          "NU_NOTA_MED": 543.371559055118
         },
         {
          "NO_MUNICIPIO_RESIDENCIA": "Lucianópolis",
          "NU_NOTA_MED": 525.881568627451
         },
         {
          "NO_MUNICIPIO_RESIDENCIA": "Lucélia",
          "NU_NOTA_MED": 542.3208547008547
         },
         {
          "NO_MUNICIPIO_RESIDENCIA": "Luiziânia",
          "NU_NOTA_MED": 524.47
         },
         {
          "NO_MUNICIPIO_RESIDENCIA": "Lupércio",
          "NU_NOTA_MED": 510.9566666666666
         },
         {
          "NO_MUNICIPIO_RESIDENCIA": "Lutécia",
          "NU_NOTA_MED": 524.4368000000001
         },
         {
          "NO_MUNICIPIO_RESIDENCIA": "Luís Antônio",
          "NU_NOTA_MED": 527.9109178743962
         },
         {
          "NO_MUNICIPIO_RESIDENCIA": "MOGI MIRIM",
          "NU_NOTA_MED": 553.745160744501
         },
         {
          "NO_MUNICIPIO_RESIDENCIA": "Macatuba",
          "NU_NOTA_MED": 529.682418604651
         },
         {
          "NO_MUNICIPIO_RESIDENCIA": "Macaubal",
          "NU_NOTA_MED": 530.3962637362637
         },
         {
          "NO_MUNICIPIO_RESIDENCIA": "Macedônia",
          "NU_NOTA_MED": 561.1781818181819
         },
         {
          "NO_MUNICIPIO_RESIDENCIA": "Magda",
          "NU_NOTA_MED": 526.0529230769232
         },
         {
          "NO_MUNICIPIO_RESIDENCIA": "Mairinque",
          "NU_NOTA_MED": 537.9921375921374
         },
         {
          "NO_MUNICIPIO_RESIDENCIA": "Mairiporã",
          "NU_NOTA_MED": 532.4951638747268
         },
         {
          "NO_MUNICIPIO_RESIDENCIA": "Manduri",
          "NU_NOTA_MED": 539.9677083333333
         },
         {
          "NO_MUNICIPIO_RESIDENCIA": "Marabá Paulista",
          "NU_NOTA_MED": 495.0039436619718
         },
         {
          "NO_MUNICIPIO_RESIDENCIA": "Maracaí",
          "NU_NOTA_MED": 537.7293617021276
         },
         {
          "NO_MUNICIPIO_RESIDENCIA": "Marapoama",
          "NU_NOTA_MED": 542.4684848484848
         },
         {
          "NO_MUNICIPIO_RESIDENCIA": "Marinópolis",
          "NU_NOTA_MED": 530.8085714285714
         },
         {
          "NO_MUNICIPIO_RESIDENCIA": "Mariápolis",
          "NU_NOTA_MED": 517.7811764705882
         },
         {
          "NO_MUNICIPIO_RESIDENCIA": "Martinópolis",
          "NU_NOTA_MED": 519.5158169934641
         },
         {
          "NO_MUNICIPIO_RESIDENCIA": "Marília",
          "NU_NOTA_MED": 557.0676766239926
         },
         {
          "NO_MUNICIPIO_RESIDENCIA": "Matão",
          "NU_NOTA_MED": 553.6339695945946
         },
         {
          "NO_MUNICIPIO_RESIDENCIA": "Mauá",
          "NU_NOTA_MED": 527.8174529280948
         },
         {
          "NO_MUNICIPIO_RESIDENCIA": "Mendonça",
          "NU_NOTA_MED": 536.9713793103447
         },
         {
          "NO_MUNICIPIO_RESIDENCIA": "Meridiano",
          "NU_NOTA_MED": 523.5904347826088
         },
         {
          "NO_MUNICIPIO_RESIDENCIA": "Mesópolis",
          "NU_NOTA_MED": 529.7749999999999
         },
         {
          "NO_MUNICIPIO_RESIDENCIA": "Miguelópolis",
          "NU_NOTA_MED": 514.8575121951221
         },
         {
          "NO_MUNICIPIO_RESIDENCIA": "Mineiros do Tietê",
          "NU_NOTA_MED": 526.157011494253
         },
         {
          "NO_MUNICIPIO_RESIDENCIA": "Mira Estrela",
          "NU_NOTA_MED": 514.0304761904762
         },
         {
          "NO_MUNICIPIO_RESIDENCIA": "Miracatu",
          "NU_NOTA_MED": 505.7696727272727
         },
         {
          "NO_MUNICIPIO_RESIDENCIA": "Mirandópolis",
          "NU_NOTA_MED": 543.9863461538464
         },
         {
          "NO_MUNICIPIO_RESIDENCIA": "Mirante do Paranapanema",
          "NU_NOTA_MED": 502.7737466307276
         },
         {
          "NO_MUNICIPIO_RESIDENCIA": "Mirassol",
          "NU_NOTA_MED": 558.7340302267004
         },
         {
          "NO_MUNICIPIO_RESIDENCIA": "Mirassolândia",
          "NU_NOTA_MED": 526.08
         },
         {
          "NO_MUNICIPIO_RESIDENCIA": "Mococa",
          "NU_NOTA_MED": 555.9865656565656
         },
         {
          "NO_MUNICIPIO_RESIDENCIA": "Mogi Guaçu",
          "NU_NOTA_MED": 555.533835125448
         },
         {
          "NO_MUNICIPIO_RESIDENCIA": "Mogi das Cruzes",
          "NU_NOTA_MED": 537.8712546172468
         },
         {
          "NO_MUNICIPIO_RESIDENCIA": "Mombuca",
          "NU_NOTA_MED": 535.3763636363636
         },
         {
          "NO_MUNICIPIO_RESIDENCIA": "Mongaguá",
          "NU_NOTA_MED": 522.6935006605023
         },
         {
          "NO_MUNICIPIO_RESIDENCIA": "Monte Alegre do Sul",
          "NU_NOTA_MED": 542.5918095238094
         },
         {
          "NO_MUNICIPIO_RESIDENCIA": "Monte Alto",
          "NU_NOTA_MED": 556.3943100995737
         },
         {
          "NO_MUNICIPIO_RESIDENCIA": "Monte Aprazível",
          "NU_NOTA_MED": 545.550193050193
         },
         {
          "NO_MUNICIPIO_RESIDENCIA": "Monte Azul Paulista",
          "NU_NOTA_MED": 539.9525233644861
         },
         {
          "NO_MUNICIPIO_RESIDENCIA": "Monte Castelo",
          "NU_NOTA_MED": 536.8794285714287
         },
         {
          "NO_MUNICIPIO_RESIDENCIA": "Monte Mor",
          "NU_NOTA_MED": 523.1584862385323
         },
         {
          "NO_MUNICIPIO_RESIDENCIA": "Monteiro Lobato",
          "NU_NOTA_MED": 527.6916666666667
         },
         {
          "NO_MUNICIPIO_RESIDENCIA": "Monções",
          "NU_NOTA_MED": 483.15666666666664
         },
         {
          "NO_MUNICIPIO_RESIDENCIA": "Morro Agudo",
          "NU_NOTA_MED": 531.0153846153846
         },
         {
          "NO_MUNICIPIO_RESIDENCIA": "Morungaba",
          "NU_NOTA_MED": 533.8074193548385
         },
         {
          "NO_MUNICIPIO_RESIDENCIA": "Motuca",
          "NU_NOTA_MED": 522.0218181818182
         },
         {
          "NO_MUNICIPIO_RESIDENCIA": "Murutinga do Sul",
          "NU_NOTA_MED": 522.0532394366197
         },
         {
          "NO_MUNICIPIO_RESIDENCIA": "Nantes",
          "NU_NOTA_MED": 506.2113636363636
         },
         {
          "NO_MUNICIPIO_RESIDENCIA": "Narandiba",
          "NU_NOTA_MED": 495.88709090909094
         },
         {
          "NO_MUNICIPIO_RESIDENCIA": "Natividade da Serra",
          "NU_NOTA_MED": 539.6930612244897
         },
         {
          "NO_MUNICIPIO_RESIDENCIA": "Nazaré Paulista",
          "NU_NOTA_MED": 518.3394845360824
         },
         {
          "NO_MUNICIPIO_RESIDENCIA": "Neves Paulista",
          "NU_NOTA_MED": 549.5846315789474
         },
         {
          "NO_MUNICIPIO_RESIDENCIA": "Nhandeara",
          "NU_NOTA_MED": 554.2628571428572
         },
         {
          "NO_MUNICIPIO_RESIDENCIA": "Nipoã",
          "NU_NOTA_MED": 497.5547368421053
         },
         {
          "NO_MUNICIPIO_RESIDENCIA": "Nova Aliança",
          "NU_NOTA_MED": 548.6835555555556
         },
         {
          "NO_MUNICIPIO_RESIDENCIA": "Nova Campina",
          "NU_NOTA_MED": 499.82313725490195
         },
         {
          "NO_MUNICIPIO_RESIDENCIA": "Nova Canaã Paulista",
          "NU_NOTA_MED": 542.424
         },
         {
          "NO_MUNICIPIO_RESIDENCIA": "Nova Castilho",
          "NU_NOTA_MED": 546.24
         },
         {
          "NO_MUNICIPIO_RESIDENCIA": "Nova Europa",
          "NU_NOTA_MED": 517.1706766917293
         },
         {
          "NO_MUNICIPIO_RESIDENCIA": "Nova Granada",
          "NU_NOTA_MED": 533.8284518828451
         },
         {
          "NO_MUNICIPIO_RESIDENCIA": "Nova Guataporanga",
          "NU_NOTA_MED": 523.8114285714285
         },
         {
          "NO_MUNICIPIO_RESIDENCIA": "Nova Independência",
          "NU_NOTA_MED": 516.6709090909092
         },
         {
          "NO_MUNICIPIO_RESIDENCIA": "Nova Luzitânia",
          "NU_NOTA_MED": 524.1291428571428
         },
         {
          "NO_MUNICIPIO_RESIDENCIA": "Nova Odessa",
          "NU_NOTA_MED": 542.5132034104752
         },
         {
          "NO_MUNICIPIO_RESIDENCIA": "Novais",
          "NU_NOTA_MED": 521.2013636363637
         },
         {
          "NO_MUNICIPIO_RESIDENCIA": "Novo Horizonte",
          "NU_NOTA_MED": 557.0610689655174
         },
         {
          "NO_MUNICIPIO_RESIDENCIA": "Nuporanga",
          "NU_NOTA_MED": 537.3023913043478
         },
         {
          "NO_MUNICIPIO_RESIDENCIA": "Ocauçu",
          "NU_NOTA_MED": 552.4764705882352
         },
         {
          "NO_MUNICIPIO_RESIDENCIA": "Olímpia",
          "NU_NOTA_MED": 545.1428150572832
         },
         {
          "NO_MUNICIPIO_RESIDENCIA": "Onda Verde",
          "NU_NOTA_MED": 529.914716981132
         },
         {
          "NO_MUNICIPIO_RESIDENCIA": "Oriente",
          "NU_NOTA_MED": 541.02575
         },
         {
          "NO_MUNICIPIO_RESIDENCIA": "Orindiúva",
          "NU_NOTA_MED": 515.5707964601768
         },
         {
          "NO_MUNICIPIO_RESIDENCIA": "Orlândia",
          "NU_NOTA_MED": 544.5303988995875
         },
         {
          "NO_MUNICIPIO_RESIDENCIA": "Osasco",
          "NU_NOTA_MED": 532.9311140521598
         },
         {
          "NO_MUNICIPIO_RESIDENCIA": "Oscar Bressane",
          "NU_NOTA_MED": 527.6733333333334
         },
         {
          "NO_MUNICIPIO_RESIDENCIA": "Osvaldo Cruz",
          "NU_NOTA_MED": 539.7368215158923
         },
         {
          "NO_MUNICIPIO_RESIDENCIA": "Ourinhos",
          "NU_NOTA_MED": 543.9095939086295
         },
         {
          "NO_MUNICIPIO_RESIDENCIA": "Ouro Verde",
          "NU_NOTA_MED": 510.4744927536232
         },
         {
          "NO_MUNICIPIO_RESIDENCIA": "Ouroeste",
          "NU_NOTA_MED": 545.1085964912281
         },
         {
          "NO_MUNICIPIO_RESIDENCIA": "Pacaembu",
          "NU_NOTA_MED": 533.9596666666667
         },
         {
          "NO_MUNICIPIO_RESIDENCIA": "Palestina",
          "NU_NOTA_MED": 523.7292727272727
         },
         {
          "NO_MUNICIPIO_RESIDENCIA": "Palmares Paulista",
          "NU_NOTA_MED": 525.9618367346937
         },
         {
          "NO_MUNICIPIO_RESIDENCIA": "Palmeira d'Oeste",
          "NU_NOTA_MED": 537.6146153846155
         },
         {
          "NO_MUNICIPIO_RESIDENCIA": "Palmital",
          "NU_NOTA_MED": 540.0224437299034
         },
         {
          "NO_MUNICIPIO_RESIDENCIA": "Panorama",
          "NU_NOTA_MED": 518.9399999999999
         },
         {
          "NO_MUNICIPIO_RESIDENCIA": "Paraguaçu Paulista",
          "NU_NOTA_MED": 528.5986978297163
         },
         {
          "NO_MUNICIPIO_RESIDENCIA": "Paraibuna",
          "NU_NOTA_MED": 523.8660580912863
         },
         {
          "NO_MUNICIPIO_RESIDENCIA": "Paranapanema",
          "NU_NOTA_MED": 517.4882068965516
         },
         {
          "NO_MUNICIPIO_RESIDENCIA": "Paranapuã",
          "NU_NOTA_MED": 538.2859090909091
         },
         {
          "NO_MUNICIPIO_RESIDENCIA": "Parapuã",
          "NU_NOTA_MED": 541.9547727272728
         },
         {
          "NO_MUNICIPIO_RESIDENCIA": "Paraíso",
          "NU_NOTA_MED": 545.5215873015874
         },
         {
          "NO_MUNICIPIO_RESIDENCIA": "Pardinho",
          "NU_NOTA_MED": 536.8095081967214
         },
         {
          "NO_MUNICIPIO_RESIDENCIA": "Pariquera-Açu",
          "NU_NOTA_MED": 533.4126623376624
         },
         {
          "NO_MUNICIPIO_RESIDENCIA": "Parisi",
          "NU_NOTA_MED": 534.6252631578948
         },
         {
          "NO_MUNICIPIO_RESIDENCIA": "Patrocínio Paulista",
          "NU_NOTA_MED": 533.6946739130435
         },
         {
          "NO_MUNICIPIO_RESIDENCIA": "Paulicéia",
          "NU_NOTA_MED": 503.18123076923075
         },
         {
          "NO_MUNICIPIO_RESIDENCIA": "Paulistânia",
          "NU_NOTA_MED": 513.2838095238095
         },
         {
          "NO_MUNICIPIO_RESIDENCIA": "Paulo de Faria",
          "NU_NOTA_MED": 501.54237623762367
         },
         {
          "NO_MUNICIPIO_RESIDENCIA": "Paulínia",
          "NU_NOTA_MED": 562.6316731016732
         },
         {
          "NO_MUNICIPIO_RESIDENCIA": "Pederneiras",
          "NU_NOTA_MED": 539.4418122977345
         },
         {
          "NO_MUNICIPIO_RESIDENCIA": "Pedra Bela",
          "NU_NOTA_MED": 532.0914606741572
         },
         {
          "NO_MUNICIPIO_RESIDENCIA": "Pedranópolis",
          "NU_NOTA_MED": 553.71
         },
         {
          "NO_MUNICIPIO_RESIDENCIA": "Pedregulho",
          "NU_NOTA_MED": 522.0525263157895
         },
         {
          "NO_MUNICIPIO_RESIDENCIA": "Pedreira",
          "NU_NOTA_MED": 536.1375925925926
         },
         {
          "NO_MUNICIPIO_RESIDENCIA": "Pedrinhas Paulista",
          "NU_NOTA_MED": 509.5886274509804
         },
         {
          "NO_MUNICIPIO_RESIDENCIA": "Pedro de Toledo",
          "NU_NOTA_MED": 505.3596296296296
         },
         {
          "NO_MUNICIPIO_RESIDENCIA": "Penápolis",
          "NU_NOTA_MED": 542.6160096735188
         },
         {
          "NO_MUNICIPIO_RESIDENCIA": "Pereira Barreto",
          "NU_NOTA_MED": 532.0426630434782
         },
         {
          "NO_MUNICIPIO_RESIDENCIA": "Pereiras",
          "NU_NOTA_MED": 512.6494999999999
         },
         {
          "NO_MUNICIPIO_RESIDENCIA": "Peruíbe",
          "NU_NOTA_MED": 525.3401881950383
         },
         {
          "NO_MUNICIPIO_RESIDENCIA": "Piacatu",
          "NU_NOTA_MED": 534.0168
         },
         {
          "NO_MUNICIPIO_RESIDENCIA": "Piedade",
          "NU_NOTA_MED": 537.5068203883495
         },
         {
          "NO_MUNICIPIO_RESIDENCIA": "Pilar do Sul",
          "NU_NOTA_MED": 529.5141035856573
         },
         {
          "NO_MUNICIPIO_RESIDENCIA": "Pindamonhangaba",
          "NU_NOTA_MED": 547.2525915875167
         },
         {
          "NO_MUNICIPIO_RESIDENCIA": "Pindorama",
          "NU_NOTA_MED": 560.3361538461537
         },
         {
          "NO_MUNICIPIO_RESIDENCIA": "Pinhalzinho",
          "NU_NOTA_MED": 528.8004347826087
         },
         {
          "NO_MUNICIPIO_RESIDENCIA": "Piquerobi",
          "NU_NOTA_MED": 520.087868852459
         },
         {
          "NO_MUNICIPIO_RESIDENCIA": "Piquete",
          "NU_NOTA_MED": 538.246993006993
         },
         {
          "NO_MUNICIPIO_RESIDENCIA": "Piracaia",
          "NU_NOTA_MED": 543.6183914209116
         },
         {
          "NO_MUNICIPIO_RESIDENCIA": "Piracicaba",
          "NU_NOTA_MED": 557.4969688019193
         },
         {
          "NO_MUNICIPIO_RESIDENCIA": "Piraju",
          "NU_NOTA_MED": 541.8421414913959
         },
         {
          "NO_MUNICIPIO_RESIDENCIA": "Pirajuí",
          "NU_NOTA_MED": 540.4315172413793
         },
         {
          "NO_MUNICIPIO_RESIDENCIA": "Pirangi",
          "NU_NOTA_MED": 552.7779166666667
         },
         {
          "NO_MUNICIPIO_RESIDENCIA": "Pirapora do Bom Jesus",
          "NU_NOTA_MED": 508.5109090909089
         },
         {
          "NO_MUNICIPIO_RESIDENCIA": "Pirapozinho",
          "NU_NOTA_MED": 522.7438930163449
         },
         {
          "NO_MUNICIPIO_RESIDENCIA": "Pirassununga",
          "NU_NOTA_MED": 567.2432674118658
         },
         {
          "NO_MUNICIPIO_RESIDENCIA": "Piratininga",
          "NU_NOTA_MED": 553.9421965317921
         },
         {
          "NO_MUNICIPIO_RESIDENCIA": "Pitangueiras",
          "NU_NOTA_MED": 524.4552767527675
         },
         {
          "NO_MUNICIPIO_RESIDENCIA": "Planalto",
          "NU_NOTA_MED": 528.6352727272726
         },
         {
          "NO_MUNICIPIO_RESIDENCIA": "Platina",
          "NU_NOTA_MED": 514.1531428571428
         },
         {
          "NO_MUNICIPIO_RESIDENCIA": "Poloni",
          "NU_NOTA_MED": 540.1427450980393
         },
         {
          "NO_MUNICIPIO_RESIDENCIA": "Pompéia",
          "NU_NOTA_MED": 550.8944347826086
         },
         {
          "NO_MUNICIPIO_RESIDENCIA": "Pongaí",
          "NU_NOTA_MED": 543.6542857142857
         },
         {
          "NO_MUNICIPIO_RESIDENCIA": "Pontal",
          "NU_NOTA_MED": 516.8265300146411
         },
         {
          "NO_MUNICIPIO_RESIDENCIA": "Pontalinda",
          "NU_NOTA_MED": 525.5693749999999
         },
         {
          "NO_MUNICIPIO_RESIDENCIA": "Pontes Gestal",
          "NU_NOTA_MED": 505.85615384615386
         },
         {
          "NO_MUNICIPIO_RESIDENCIA": "Populina",
          "NU_NOTA_MED": 531.6869387755102
         },
         {
          "NO_MUNICIPIO_RESIDENCIA": "Porangaba",
          "NU_NOTA_MED": 514.341
         },
         {
          "NO_MUNICIPIO_RESIDENCIA": "Porto Feliz",
          "NU_NOTA_MED": 534.6373263888887
         },
         {
          "NO_MUNICIPIO_RESIDENCIA": "Porto Ferreira",
          "NU_NOTA_MED": 554.9898997493735
         },
         {
          "NO_MUNICIPIO_RESIDENCIA": "Potim",
          "NU_NOTA_MED": 525.2572
         },
         {
          "NO_MUNICIPIO_RESIDENCIA": "Potirendaba",
          "NU_NOTA_MED": 548.4853503184715
         },
         {
          "NO_MUNICIPIO_RESIDENCIA": "Poá",
          "NU_NOTA_MED": 525.0777449168202
         },
         {
          "NO_MUNICIPIO_RESIDENCIA": "Pracinha",
          "NU_NOTA_MED": 516.4157142857142
         },
         {
          "NO_MUNICIPIO_RESIDENCIA": "Pradópolis",
          "NU_NOTA_MED": 528.9083018867925
         },
         {
          "NO_MUNICIPIO_RESIDENCIA": "Praia Grande",
          "NU_NOTA_MED": 528.6228080657204
         },
         {
          "NO_MUNICIPIO_RESIDENCIA": "Pratânia",
          "NU_NOTA_MED": 513.420357142857
         },
         {
          "NO_MUNICIPIO_RESIDENCIA": "Presidente Alves",
          "NU_NOTA_MED": 519.6815384615385
         },
         {
          "NO_MUNICIPIO_RESIDENCIA": "Presidente Bernardes",
          "NU_NOTA_MED": 527.9948333333332
         },
         {
          "NO_MUNICIPIO_RESIDENCIA": "Presidente Epitácio",
          "NU_NOTA_MED": 519.3356228172295
         },
         {
          "NO_MUNICIPIO_RESIDENCIA": "Presidente Prudente",
          "NU_NOTA_MED": 535.900023437499
         },
         {
          "NO_MUNICIPIO_RESIDENCIA": "Presidente Venceslau",
          "NU_NOTA_MED": 533.275538656527
         },
         {
          "NO_MUNICIPIO_RESIDENCIA": "Promissão",
          "NU_NOTA_MED": 526.6788461538463
         },
         {
          "NO_MUNICIPIO_RESIDENCIA": "Quadra",
          "NU_NOTA_MED": 523.212340425532
         },
         {
          "NO_MUNICIPIO_RESIDENCIA": "Quatá",
          "NU_NOTA_MED": 534.6111442786071
         },
         {
          "NO_MUNICIPIO_RESIDENCIA": "Queiroz",
          "NU_NOTA_MED": 520.5012121212121
         },
         {
          "NO_MUNICIPIO_RESIDENCIA": "Queluz",
          "NU_NOTA_MED": 536.1851612903226
         },
         {
          "NO_MUNICIPIO_RESIDENCIA": "Quintana",
          "NU_NOTA_MED": 538.8494505494505
         },
         {
          "NO_MUNICIPIO_RESIDENCIA": "Rafard",
          "NU_NOTA_MED": 546.0194957983192
         },
         {
          "NO_MUNICIPIO_RESIDENCIA": "Rancharia",
          "NU_NOTA_MED": 522.4054858934169
         },
         {
          "NO_MUNICIPIO_RESIDENCIA": "Redenção da Serra",
          "NU_NOTA_MED": 500.7570370370371
         },
         {
          "NO_MUNICIPIO_RESIDENCIA": "Regente Feijó",
          "NU_NOTA_MED": 529.7590588235295
         },
         {
          "NO_MUNICIPIO_RESIDENCIA": "Reginópolis",
          "NU_NOTA_MED": 525.9970370370372
         },
         {
          "NO_MUNICIPIO_RESIDENCIA": "Registro",
          "NU_NOTA_MED": 537.8524299909668
         },
         {
          "NO_MUNICIPIO_RESIDENCIA": "Restinga",
          "NU_NOTA_MED": 511.5817391304348
         },
         {
          "NO_MUNICIPIO_RESIDENCIA": "Ribeira",
          "NU_NOTA_MED": 496.30827586206897
         },
         {
          "NO_MUNICIPIO_RESIDENCIA": "Ribeirão Bonito",
          "NU_NOTA_MED": 529.2638509316771
         },
         {
          "NO_MUNICIPIO_RESIDENCIA": "Ribeirão Branco",
          "NU_NOTA_MED": 498.6623788546256
         },
         {
          "NO_MUNICIPIO_RESIDENCIA": "Ribeirão Corrente",
          "NU_NOTA_MED": 513.6734146341463
         },
         {
          "NO_MUNICIPIO_RESIDENCIA": "Ribeirão Grande",
          "NU_NOTA_MED": 531.890625
         },
         {
          "NO_MUNICIPIO_RESIDENCIA": "Ribeirão Pires",
          "NU_NOTA_MED": 541.1713170731704
         },
         {
          "NO_MUNICIPIO_RESIDENCIA": "Ribeirão Preto",
          "NU_NOTA_MED": 564.5868735395823
         },
         {
          "NO_MUNICIPIO_RESIDENCIA": "Ribeirão do Sul",
          "NU_NOTA_MED": 518.2539759036144
         },
         {
          "NO_MUNICIPIO_RESIDENCIA": "Ribeirão dos Índios",
          "NU_NOTA_MED": 497.559
         },
         {
          "NO_MUNICIPIO_RESIDENCIA": "Rifaina",
          "NU_NOTA_MED": 522.6974468085107
         },
         {
          "NO_MUNICIPIO_RESIDENCIA": "Rincão",
          "NU_NOTA_MED": 534.6234
         },
         {
          "NO_MUNICIPIO_RESIDENCIA": "Rinópolis",
          "NU_NOTA_MED": 543.0094382022473
         },
         {
          "NO_MUNICIPIO_RESIDENCIA": "Rio Claro",
          "NU_NOTA_MED": 551.3081440977804
         },
         {
          "NO_MUNICIPIO_RESIDENCIA": "Rio Grande da Serra",
          "NU_NOTA_MED": 518.8037567567568
         },
         {
          "NO_MUNICIPIO_RESIDENCIA": "Rio das Pedras",
          "NU_NOTA_MED": 546.4182987551868
         },
         {
          "NO_MUNICIPIO_RESIDENCIA": "Riolândia",
          "NU_NOTA_MED": 503.1949295774648
         },
         {
          "NO_MUNICIPIO_RESIDENCIA": "Riversul",
          "NU_NOTA_MED": 523.7273417721518
         },
         {
          "NO_MUNICIPIO_RESIDENCIA": "Rosana",
          "NU_NOTA_MED": 517.9501711491444
         },
         {
          "NO_MUNICIPIO_RESIDENCIA": "Roseira",
          "NU_NOTA_MED": 542.1123364485982
         },
         {
          "NO_MUNICIPIO_RESIDENCIA": "Rubinéia",
          "NU_NOTA_MED": 527.684
         },
         {
          "NO_MUNICIPIO_RESIDENCIA": "Rubiácea",
          "NU_NOTA_MED": 522.4742857142858
         },
         {
          "NO_MUNICIPIO_RESIDENCIA": "Sabino",
          "NU_NOTA_MED": 503.03090909090906
         },
         {
          "NO_MUNICIPIO_RESIDENCIA": "Sagres",
          "NU_NOTA_MED": 505.73375
         },
         {
          "NO_MUNICIPIO_RESIDENCIA": "Sales",
          "NU_NOTA_MED": 512.6162318840579
         },
         {
          "NO_MUNICIPIO_RESIDENCIA": "Sales Oliveira",
          "NU_NOTA_MED": 547.6588636363634
         },
         {
          "NO_MUNICIPIO_RESIDENCIA": "Salesópolis",
          "NU_NOTA_MED": 543.0146925566345
         },
         {
          "NO_MUNICIPIO_RESIDENCIA": "Salmourão",
          "NU_NOTA_MED": 520.9443749999999
         },
         {
          "NO_MUNICIPIO_RESIDENCIA": "Saltinho",
          "NU_NOTA_MED": 564.2053763440861
         },
         {
          "NO_MUNICIPIO_RESIDENCIA": "Salto",
          "NU_NOTA_MED": 538.3720419494138
         },
         {
          "NO_MUNICIPIO_RESIDENCIA": "Salto Grande",
          "NU_NOTA_MED": 531.881052631579
         },
         {
          "NO_MUNICIPIO_RESIDENCIA": "Salto de Pirapora",
          "NU_NOTA_MED": 530.163638888889
         },
         {
          "NO_MUNICIPIO_RESIDENCIA": "Sandovalina",
          "NU_NOTA_MED": 505.3238709677419
         },
         {
          "NO_MUNICIPIO_RESIDENCIA": "Santa Adélia",
          "NU_NOTA_MED": 555.0404687500001
         },
         {
          "NO_MUNICIPIO_RESIDENCIA": "Santa Albertina",
          "NU_NOTA_MED": 548.2360000000001
         },
         {
          "NO_MUNICIPIO_RESIDENCIA": "Santa Branca",
          "NU_NOTA_MED": 536.1560655737704
         },
         {
          "NO_MUNICIPIO_RESIDENCIA": "Santa Bárbara d'Oeste",
          "NU_NOTA_MED": 548.074678471575
         },
         {
          "NO_MUNICIPIO_RESIDENCIA": "Santa Clara d'Oeste",
          "NU_NOTA_MED": 503.46000000000004
         },
         {
          "NO_MUNICIPIO_RESIDENCIA": "Santa Cruz da Conceição",
          "NU_NOTA_MED": 553.7903333333333
         },
         {
          "NO_MUNICIPIO_RESIDENCIA": "Santa Cruz da Esperança",
          "NU_NOTA_MED": 538.2075
         },
         {
          "NO_MUNICIPIO_RESIDENCIA": "Santa Cruz das Palmeiras",
          "NU_NOTA_MED": 542.5624649859944
         },
         {
          "NO_MUNICIPIO_RESIDENCIA": "Santa Cruz do Rio Pardo",
          "NU_NOTA_MED": 552.7431343283582
         },
         {
          "NO_MUNICIPIO_RESIDENCIA": "Santa Ernestina",
          "NU_NOTA_MED": 514.924927536232
         },
         {
          "NO_MUNICIPIO_RESIDENCIA": "Santa Fé do Sul",
          "NU_NOTA_MED": 548.9651190476192
         },
         {
          "NO_MUNICIPIO_RESIDENCIA": "Santa Gertrudes",
          "NU_NOTA_MED": 544.2896317280454
         },
         {
          "NO_MUNICIPIO_RESIDENCIA": "Santa Isabel",
          "NU_NOTA_MED": 518.9696082089553
         },
         {
          "NO_MUNICIPIO_RESIDENCIA": "Santa Lúcia",
          "NU_NOTA_MED": 546.7733333333333
         },
         {
          "NO_MUNICIPIO_RESIDENCIA": "Santa Maria da Serra",
          "NU_NOTA_MED": 511.84741935483873
         },
         {
          "NO_MUNICIPIO_RESIDENCIA": "Santa Mercedes",
          "NU_NOTA_MED": 540.8272727272727
         },
         {
          "NO_MUNICIPIO_RESIDENCIA": "Santa Rita d'Oeste",
          "NU_NOTA_MED": 528.529696969697
         },
         {
          "NO_MUNICIPIO_RESIDENCIA": "Santa Rita do Passa Quatro",
          "NU_NOTA_MED": 558.9636601307191
         },
         {
          "NO_MUNICIPIO_RESIDENCIA": "Santa Rosa de Viterbo",
          "NU_NOTA_MED": 532.2820233463036
         },
         {
          "NO_MUNICIPIO_RESIDENCIA": "Santa Salete",
          "NU_NOTA_MED": 526.2946153846153
         },
         {
          "NO_MUNICIPIO_RESIDENCIA": "Santana da Ponte Pensa",
          "NU_NOTA_MED": 519.996
         },
         {
          "NO_MUNICIPIO_RESIDENCIA": "Santana de Parnaíba",
          "NU_NOTA_MED": 543.545598855917
         },
         {
          "NO_MUNICIPIO_RESIDENCIA": "Santo Anastácio",
          "NU_NOTA_MED": 523.9677401129941
         },
         {
          "NO_MUNICIPIO_RESIDENCIA": "Santo André",
          "NU_NOTA_MED": 552.142181001496
         },
         {
          "NO_MUNICIPIO_RESIDENCIA": "Santo Antônio da Alegria",
          "NU_NOTA_MED": 521.9389830508475
         },
         {
          "NO_MUNICIPIO_RESIDENCIA": "Santo Antônio de Posse",
          "NU_NOTA_MED": 524.8989247311828
         },
         {
          "NO_MUNICIPIO_RESIDENCIA": "Santo Antônio do Aracanguá",
          "NU_NOTA_MED": 510.9556818181818
         },
         {
          "NO_MUNICIPIO_RESIDENCIA": "Santo Antônio do Jardim",
          "NU_NOTA_MED": 566.6503703703703
         },
         {
          "NO_MUNICIPIO_RESIDENCIA": "Santo Antônio do Pinhal",
          "NU_NOTA_MED": 532.5148760330578
         },
         {
          "NO_MUNICIPIO_RESIDENCIA": "Santo Expedito",
          "NU_NOTA_MED": 494.88117647058823
         },
         {
          "NO_MUNICIPIO_RESIDENCIA": "Santos",
          "NU_NOTA_MED": 561.515374823197
         },
         {
          "NO_MUNICIPIO_RESIDENCIA": "Santópolis do Aguapeí",
          "NU_NOTA_MED": 525.7593548387097
         },
         {
          "NO_MUNICIPIO_RESIDENCIA": "Sarapuí",
          "NU_NOTA_MED": 518.9484800000002
         },
         {
          "NO_MUNICIPIO_RESIDENCIA": "Sarutaiá",
          "NU_NOTA_MED": 525.2591304347827
         },
         {
          "NO_MUNICIPIO_RESIDENCIA": "Sebastianópolis do Sul",
          "NU_NOTA_MED": 544.7666666666667
         },
         {
          "NO_MUNICIPIO_RESIDENCIA": "Serra Azul",
          "NU_NOTA_MED": 516.2480373831776
         },
         {
          "NO_MUNICIPIO_RESIDENCIA": "Serra Negra",
          "NU_NOTA_MED": 547.5509219858156
         },
         {
          "NO_MUNICIPIO_RESIDENCIA": "Serrana",
          "NU_NOTA_MED": 530.6426330532213
         },
         {
          "NO_MUNICIPIO_RESIDENCIA": "Sertãozinho",
          "NU_NOTA_MED": 547.6681371222369
         },
         {
          "NO_MUNICIPIO_RESIDENCIA": "Sete Barras",
          "NU_NOTA_MED": 512.8513178294576
         },
         {
          "NO_MUNICIPIO_RESIDENCIA": "Severínia",
          "NU_NOTA_MED": 532.0282681564247
         },
         {
          "NO_MUNICIPIO_RESIDENCIA": "Silveiras",
          "NU_NOTA_MED": 531.4382456140349
         },
         {
          "NO_MUNICIPIO_RESIDENCIA": "Socorro",
          "NU_NOTA_MED": 539.1818424962853
         },
         {
          "NO_MUNICIPIO_RESIDENCIA": "Sorocaba",
          "NU_NOTA_MED": 545.2593635041488
         },
         {
          "NO_MUNICIPIO_RESIDENCIA": "Sud Mennucci",
          "NU_NOTA_MED": 516.6201538461539
         },
         {
          "NO_MUNICIPIO_RESIDENCIA": "Sumaré",
          "NU_NOTA_MED": 531.7814035087722
         },
         {
          "NO_MUNICIPIO_RESIDENCIA": "Suzano",
          "NU_NOTA_MED": 526.6117531609739
         },
         {
          "NO_MUNICIPIO_RESIDENCIA": "Suzanápolis",
          "NU_NOTA_MED": 504.5644444444444
         },
         {
          "NO_MUNICIPIO_RESIDENCIA": "São Bento do Sapucaí",
          "NU_NOTA_MED": 557.2018439716312
         },
         {
          "NO_MUNICIPIO_RESIDENCIA": "São Bernardo do Campo",
          "NU_NOTA_MED": 544.5417588786298
         },
         {
          "NO_MUNICIPIO_RESIDENCIA": "São Caetano do Sul",
          "NU_NOTA_MED": 576.7665857359633
         },
         {
          "NO_MUNICIPIO_RESIDENCIA": "São Carlos",
          "NU_NOTA_MED": 564.0076059421417
         },
         {
          "NO_MUNICIPIO_RESIDENCIA": "São Francisco",
          "NU_NOTA_MED": 539.3444000000002
         },
         {
          "NO_MUNICIPIO_RESIDENCIA": "São Joaquim da Barra",
          "NU_NOTA_MED": 546.502326732673
         },
         {
          "NO_MUNICIPIO_RESIDENCIA": "São José da Bela Vista",
          "NU_NOTA_MED": 523.409090909091
         },
         {
          "NO_MUNICIPIO_RESIDENCIA": "São José do Barreiro",
          "NU_NOTA_MED": 535.0421428571428
         },
         {
          "NO_MUNICIPIO_RESIDENCIA": "São José do Rio Pardo",
          "NU_NOTA_MED": 562.3940856031126
         },
         {
          "NO_MUNICIPIO_RESIDENCIA": "São José do Rio Preto",
          "NU_NOTA_MED": 569.8855093676816
         },
         {
          "NO_MUNICIPIO_RESIDENCIA": "São José dos Campos",
          "NU_NOTA_MED": 565.2142379014024
         },
         {
          "NO_MUNICIPIO_RESIDENCIA": "São João da Boa Vista",
          "NU_NOTA_MED": 562.165172704297
         },
         {
          "NO_MUNICIPIO_RESIDENCIA": "São João das Duas Pontes",
          "NU_NOTA_MED": 530.3379310344827
         },
         {
          "NO_MUNICIPIO_RESIDENCIA": "São João de Iracema",
          "NU_NOTA_MED": 548.8677419354838
         },
         {
          "NO_MUNICIPIO_RESIDENCIA": "São João do Pau d'Alho",
          "NU_NOTA_MED": 529.8726315789474
         },
         {
          "NO_MUNICIPIO_RESIDENCIA": "São Lourenço da Serra",
          "NU_NOTA_MED": 525.1809885931559
         },
         {
          "NO_MUNICIPIO_RESIDENCIA": "São Luís do Paraitinga",
          "NU_NOTA_MED": 523.838431372549
         },
         {
          "NO_MUNICIPIO_RESIDENCIA": "São Manuel",
          "NU_NOTA_MED": 552.2573962264153
         },
         {
          "NO_MUNICIPIO_RESIDENCIA": "São Miguel Arcanjo",
          "NU_NOTA_MED": 534.3727974276529
         },
         {
          "NO_MUNICIPIO_RESIDENCIA": "São Paulo",
          "NU_NOTA_MED": 541.6999747555725
         },
         {
          "NO_MUNICIPIO_RESIDENCIA": "São Pedro",
          "NU_NOTA_MED": 553.0756872037916
         },
         {
          "NO_MUNICIPIO_RESIDENCIA": "São Pedro do Turvo",
          "NU_NOTA_MED": 527.2572413793102
         },
         {
          "NO_MUNICIPIO_RESIDENCIA": "São Roque",
          "NU_NOTA_MED": 543.4321935483877
         },
         {
          "NO_MUNICIPIO_RESIDENCIA": "São Sebastião",
          "NU_NOTA_MED": 519.4431497418243
         },
         {
          "NO_MUNICIPIO_RESIDENCIA": "São Sebastião da Grama",
          "NU_NOTA_MED": 547.6635200000002
         },
         {
          "NO_MUNICIPIO_RESIDENCIA": "São Simão",
          "NU_NOTA_MED": 528.2778181818181
         },
         {
          "NO_MUNICIPIO_RESIDENCIA": "São Vicente",
          "NU_NOTA_MED": 531.0133507306891
         },
         {
          "NO_MUNICIPIO_RESIDENCIA": "Tabapuã",
          "NU_NOTA_MED": 545.5032478632478
         },
         {
          "NO_MUNICIPIO_RESIDENCIA": "Tabatinga",
          "NU_NOTA_MED": 534.9955980861243
         },
         {
          "NO_MUNICIPIO_RESIDENCIA": "Taboão da Serra",
          "NU_NOTA_MED": 530.3600422089339
         },
         {
          "NO_MUNICIPIO_RESIDENCIA": "Taciba",
          "NU_NOTA_MED": 511.5492727272728
         },
         {
          "NO_MUNICIPIO_RESIDENCIA": "Taguaí",
          "NU_NOTA_MED": 526.866762589928
         },
         {
          "NO_MUNICIPIO_RESIDENCIA": "Taiaçu",
          "NU_NOTA_MED": 527.2509333333335
         },
         {
          "NO_MUNICIPIO_RESIDENCIA": "Taiúva",
          "NU_NOTA_MED": 528.8041558441558
         },
         {
          "NO_MUNICIPIO_RESIDENCIA": "Tambaú",
          "NU_NOTA_MED": 537.071345646438
         },
         {
          "NO_MUNICIPIO_RESIDENCIA": "Tanabi",
          "NU_NOTA_MED": 549.1326182965299
         },
         {
          "NO_MUNICIPIO_RESIDENCIA": "Tapiratiba",
          "NU_NOTA_MED": 536.4963636363638
         },
         {
          "NO_MUNICIPIO_RESIDENCIA": "Tapiraí",
          "NU_NOTA_MED": 525.2086666666665
         },
         {
          "NO_MUNICIPIO_RESIDENCIA": "Taquaral",
          "NU_NOTA_MED": 506.1526315789473
         },
         {
          "NO_MUNICIPIO_RESIDENCIA": "Taquaritinga",
          "NU_NOTA_MED": 544.6020700636946
         },
         {
          "NO_MUNICIPIO_RESIDENCIA": "Taquarituba",
          "NU_NOTA_MED": 532.4880130293158
         },
         {
          "NO_MUNICIPIO_RESIDENCIA": "Taquarivaí",
          "NU_NOTA_MED": 518.92475
         },
         {
          "NO_MUNICIPIO_RESIDENCIA": "Tarabai",
          "NU_NOTA_MED": 514.3541258741258
         },
         {
          "NO_MUNICIPIO_RESIDENCIA": "Tarumã",
          "NU_NOTA_MED": 514.0662162162164
         },
         {
          "NO_MUNICIPIO_RESIDENCIA": "Tatuí",
          "NU_NOTA_MED": 538.345344603381
         },
         {
          "NO_MUNICIPIO_RESIDENCIA": "Taubaté",
          "NU_NOTA_MED": 556.852161813966
         },
         {
          "NO_MUNICIPIO_RESIDENCIA": "Tejupá",
          "NU_NOTA_MED": 528.261403508772
         },
         {
          "NO_MUNICIPIO_RESIDENCIA": "Teodoro Sampaio",
          "NU_NOTA_MED": 508.0185925925924
         },
         {
          "NO_MUNICIPIO_RESIDENCIA": "Terra Roxa",
          "NU_NOTA_MED": 512.3816438356164
         },
         {
          "NO_MUNICIPIO_RESIDENCIA": "Tietê",
          "NU_NOTA_MED": 539.7313294797689
         },
         {
          "NO_MUNICIPIO_RESIDENCIA": "Timburi",
          "NU_NOTA_MED": 515.5
         },
         {
          "NO_MUNICIPIO_RESIDENCIA": "Torre de Pedra",
          "NU_NOTA_MED": 542.36625
         },
         {
          "NO_MUNICIPIO_RESIDENCIA": "Torrinha",
          "NU_NOTA_MED": 521.5034426229508
         },
         {
          "NO_MUNICIPIO_RESIDENCIA": "Trabiju",
          "NU_NOTA_MED": 510.95428571428573
         },
         {
          "NO_MUNICIPIO_RESIDENCIA": "Tremembé",
          "NU_NOTA_MED": 558.4998481973435
         },
         {
          "NO_MUNICIPIO_RESIDENCIA": "Três Fronteiras",
          "NU_NOTA_MED": 523.274090909091
         },
         {
          "NO_MUNICIPIO_RESIDENCIA": "Tuiuti",
          "NU_NOTA_MED": 534.923870967742
         },
         {
          "NO_MUNICIPIO_RESIDENCIA": "Tupi Paulista",
          "NU_NOTA_MED": 536.3618934911243
         },
         {
          "NO_MUNICIPIO_RESIDENCIA": "Tupã",
          "NU_NOTA_MED": 542.2413475177301
         },
         {
          "NO_MUNICIPIO_RESIDENCIA": "Turiúba",
          "NU_NOTA_MED": 519.6131428571429
         },
         {
          "NO_MUNICIPIO_RESIDENCIA": "Turmalina",
          "NU_NOTA_MED": 499.0857142857143
         },
         {
          "NO_MUNICIPIO_RESIDENCIA": "Ubarana",
          "NU_NOTA_MED": 514.2569811320755
         },
         {
          "NO_MUNICIPIO_RESIDENCIA": "Ubatuba",
          "NU_NOTA_MED": 531.4091964285715
         },
         {
          "NO_MUNICIPIO_RESIDENCIA": "Ubirajara",
          "NU_NOTA_MED": 509.41170731707314
         },
         {
          "NO_MUNICIPIO_RESIDENCIA": "Uchoa",
          "NU_NOTA_MED": 553.3867441860465
         },
         {
          "NO_MUNICIPIO_RESIDENCIA": "União Paulista",
          "NU_NOTA_MED": 485.48640000000006
         },
         {
          "NO_MUNICIPIO_RESIDENCIA": "Uru",
          "NU_NOTA_MED": 510.1707692307693
         },
         {
          "NO_MUNICIPIO_RESIDENCIA": "Urupês",
          "NU_NOTA_MED": 546.9539622641508
         },
         {
          "NO_MUNICIPIO_RESIDENCIA": "Urânia",
          "NU_NOTA_MED": 558.561012658228
         },
         {
          "NO_MUNICIPIO_RESIDENCIA": "Valentim Gentil",
          "NU_NOTA_MED": 526.4073846153844
         },
         {
          "NO_MUNICIPIO_RESIDENCIA": "Valinhos",
          "NU_NOTA_MED": 580.457298407807
         },
         {
          "NO_MUNICIPIO_RESIDENCIA": "Valparaíso",
          "NU_NOTA_MED": 539.6266666666667
         },
         {
          "NO_MUNICIPIO_RESIDENCIA": "Vargem",
          "NU_NOTA_MED": 533.0851948051948
         },
         {
          "NO_MUNICIPIO_RESIDENCIA": "Vargem Grande Paulista",
          "NU_NOTA_MED": 533.7285427135674
         },
         {
          "NO_MUNICIPIO_RESIDENCIA": "Vargem Grande do Sul",
          "NU_NOTA_MED": 541.1856575682381
         },
         {
          "NO_MUNICIPIO_RESIDENCIA": "Vera Cruz",
          "NU_NOTA_MED": 529.1387978142077
         },
         {
          "NO_MUNICIPIO_RESIDENCIA": "Vinhedo",
          "NU_NOTA_MED": 568.1903414634147
         },
         {
          "NO_MUNICIPIO_RESIDENCIA": "Viradouro",
          "NU_NOTA_MED": 537.1167521367522
         },
         {
          "NO_MUNICIPIO_RESIDENCIA": "Vista Alegre do Alto",
          "NU_NOTA_MED": 560.9549333333334
         },
         {
          "NO_MUNICIPIO_RESIDENCIA": "Vitória Brasil",
          "NU_NOTA_MED": 581.2479999999999
         },
         {
          "NO_MUNICIPIO_RESIDENCIA": "Votorantim",
          "NU_NOTA_MED": 535.9060777777776
         },
         {
          "NO_MUNICIPIO_RESIDENCIA": "Votuporanga",
          "NU_NOTA_MED": 562.0694023193579
         },
         {
          "NO_MUNICIPIO_RESIDENCIA": "Várzea Paulista",
          "NU_NOTA_MED": 526.0660168302948
         },
         {
          "NO_MUNICIPIO_RESIDENCIA": "Zacarias",
          "NU_NOTA_MED": 514.962162162162
         },
         {
          "NO_MUNICIPIO_RESIDENCIA": "Águas da Prata",
          "NU_NOTA_MED": 541.60925
         },
         {
          "NO_MUNICIPIO_RESIDENCIA": "Águas de Lindóia",
          "NU_NOTA_MED": 546.2114864864864
         },
         {
          "NO_MUNICIPIO_RESIDENCIA": "Águas de Santa Bárbara",
          "NU_NOTA_MED": 523.2338235294117
         },
         {
          "NO_MUNICIPIO_RESIDENCIA": "Águas de São Pedro",
          "NU_NOTA_MED": 564.3625
         },
         {
          "NO_MUNICIPIO_RESIDENCIA": "Álvares Florence",
          "NU_NOTA_MED": 521.2465116279069
         },
         {
          "NO_MUNICIPIO_RESIDENCIA": "Álvares Machado",
          "NU_NOTA_MED": 525.1648337028824
         },
         {
          "NO_MUNICIPIO_RESIDENCIA": "Álvaro de Carvalho",
          "NU_NOTA_MED": 514.0942857142857
         },
         {
          "NO_MUNICIPIO_RESIDENCIA": "Óleo",
          "NU_NOTA_MED": 500.02363636363646
         }
        ]
       },
       "encoding": {
        "color": {
         "field": "NU_NOTA_MED",
         "title": "Nota média",
         "type": "quantitative"
        },
        "tooltip": [
         {
          "field": "properties.name",
          "title": "Cidade",
          "type": "nominal"
         },
         {
          "field": "NU_NOTA_MED",
          "title": "Nota média",
          "type": "nominal"
         }
        ]
       },
       "mark": "geoshape",
       "transform": [
        {
         "from": {
          "data": {
           "name": "data-5c088daf99b91c1cd1bc361af3ecdbe2"
          },
          "fields": [
           "NU_NOTA_MED"
          ],
          "key": "NO_MUNICIPIO_RESIDENCIA"
         },
         "lookup": "properties.name"
        }
       ]
      },
      "image/png": "[encoded data removed]",
      "text/plain": [
       "<VegaLite 2 object>\n",
       "\n",
       "If you see this message, it means the renderer has not been properly enabled\n",
       "for the frontend that you are using. For more information, see\n",
       "https://altair-viz.github.io/user_guide/troubleshooting.html\n"
      ]
     },
     "execution_count": 54,
     "metadata": {},
     "output_type": "execute_result"
    }
   ],
   "source": [
    "sp = alt.topo_feature('topojson-sp2.json','geojs-35-mun')\n",
    "alt.Chart(sp).mark_geoshape().encode(\n",
    "    color=alt.Color('NU_NOTA_MED:Q', title = 'Nota média'),\n",
    "    tooltip = [alt.Tooltip('properties.name:N', title = 'Cidade'), alt.Tooltip('NU_NOTA_MED:N', title = 'Nota média')]\n",
    ").transform_lookup(\n",
    "    lookup = 'properties.name',\n",
    "    from_= alt.LookupData(dados1, 'NO_MUNICIPIO_RESIDENCIA',['NU_NOTA_MED'])\n",
    ")"
   ]
  },
  {
   "cell_type": "code",
   "execution_count": 37,
   "metadata": {},
   "outputs": [],
   "source": [
    "dados1 = dados1[['NO_MUNICIPIO_RESIDENCIA','NU_NOTA_MED']]"
   ]
  },
  {
   "cell_type": "code",
   "execution_count": 39,
   "metadata": {},
   "outputs": [],
   "source": [
    "import numpy as np"
   ]
  },
  {
   "cell_type": "code",
   "execution_count": null,
   "metadata": {},
   "outputs": [],
   "source": []
  }
 ],
 "metadata": {
  "kernelspec": {
   "display_name": "Python 3",
   "language": "python",
   "name": "python3"
  },
  "language_info": {
   "codemirror_mode": {
    "name": "ipython",
    "version": 3
   },
   "file_extension": ".py",
   "mimetype": "text/x-python",
   "name": "python",
   "nbconvert_exporter": "python",
   "pygments_lexer": "ipython3",
   "version": "3.7.1"
  }
 },
 "nbformat": 4,
 "nbformat_minor": 2
}
